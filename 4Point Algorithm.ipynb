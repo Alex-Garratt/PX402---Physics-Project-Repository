{
 "cells": [
  {
   "cell_type": "code",
   "execution_count": 164,
   "id": "15e6d512",
   "metadata": {},
   "outputs": [
    {
     "name": "stdout",
     "output_type": "stream",
     "text": [
      "Running...\n"
     ]
    }
   ],
   "source": [
    "from uproot_io import Events, View\n",
    "import matplotlib.pyplot as plt\n",
    "import numpy as np\n",
    "from tqdm import tqdm\n",
    "import random\n",
    "\n",
    "random.seed(0)\n",
    "\n",
    "print(\"Running...\")\n",
    "\n",
    "\n",
    "thr_std=0.2\n",
    "\n",
    "E = Events(\"CheatedRecoFile_1.root\")\n",
    "\n",
    "view_u = View(E, \"u\")\n",
    "view_v = View(E, \"v\")\n",
    "view_w = View(E, \"w\")\n",
    "\n",
    "u_x = view_u.x\n",
    "u_z = view_u.z\n",
    "u_adc = view_u.adc\n",
    "u_truevtx_z = view_u.true_vtx_z\n",
    "u_truevtx_x = view_u.true_vtx_x\n",
    "\n",
    "v_x = view_v.x\n",
    "v_z = view_v.z\n",
    "v_adc = view_v.adc\n",
    "v_truevtx_z = view_v.true_vtx_z\n",
    "v_truevtx_x = view_v.true_vtx_x\n",
    "\n",
    "w_x = view_w.x\n",
    "w_z = view_w.z\n",
    "w_adc = view_w.adc\n",
    "w_truevtx_z = view_w.true_vtx_z\n",
    "w_truevtx_x = view_w.true_vtx_x\n",
    "\n"
   ]
  },
  {
   "cell_type": "code",
   "execution_count": 165,
   "id": "6b7cd4dd",
   "metadata": {},
   "outputs": [
    {
     "name": "stdout",
     "output_type": "stream",
     "text": [
      "9310\n"
     ]
    }
   ],
   "source": [
    "print(len(u_x))"
   ]
  },
  {
   "cell_type": "code",
   "execution_count": 202,
   "id": "26efd199",
   "metadata": {},
   "outputs": [],
   "source": [
    "def AoI(plane, event_number, thresholding=True, no_std=thr_std):\n",
    "    if plane==\"u\":\n",
    "        AoI_x = u_x[event_number]\n",
    "        AoI_z = u_z[event_number]\n",
    "        AoI_adc = u_adc[event_number]\n",
    "        AoI_truevtxz = u_truevtx_z[event_number]\n",
    "        AoI_truevtxx = u_truevtx_x[event_number]\n",
    "    elif plane==\"v\":\n",
    "        AoI_x = v_x[event_number]\n",
    "        AoI_z = v_z[event_number]\n",
    "        AoI_adc = v_adc[event_number]\n",
    "        AoI_truevtxz = v_truevtx_z[event_number]\n",
    "        AoI_truevtxx = v_truevtx_x[event_number]\n",
    "    elif plane==\"w\":\n",
    "        AoI_x = w_x[event_number]\n",
    "        AoI_z = w_z[event_number]\n",
    "        AoI_adc = w_adc[event_number]   \n",
    "        AoI_truevtxz = w_truevtx_z[event_number]\n",
    "        AoI_truevtxx = w_truevtx_x[event_number]\n",
    "    else:\n",
    "        print(\"PLane not u,v,w\")\n",
    "        \n",
    "    if thresholding:\n",
    "        mean = np.average(AoI_adc)\n",
    "        std = np.std(AoI_adc)\n",
    "        AoI_x = AoI_x[(mean-no_std*std<AoI_adc)]\n",
    "        AoI_z = AoI_z[(mean-no_std*std<AoI_adc)]\n",
    "        AoI_adc = AoI_adc[(mean-no_std*std<AoI_adc)]\n",
    "    \n",
    "    return AoI_x, AoI_z, AoI_adc, AoI_truevtxz, AoI_truevtxx"
   ]
  },
  {
   "cell_type": "code",
   "execution_count": 203,
   "id": "73e7851e",
   "metadata": {},
   "outputs": [],
   "source": [
    "def plotter(plane, event_number, thresholding=True, no_std=thr_std):\n",
    "    \n",
    "    AoI_x, AoI_z, AoI_adc, AoI_truevtxz, AoI_truevtxx = AoI(plane, event_number, thresholding, no_std)\n",
    "\n",
    "\n",
    "    \n",
    "    plt.scatter(AoI_z, AoI_x, c=AoI_adc, cmap=\"viridis\")\n",
    "    plt.title(str(plane)+\" plane\")\n",
    "    plt.xlabel(\"z\")\n",
    "    plt.ylabel(\"x\")\n",
    "\n",
    "    return 0\n"
   ]
  },
  {
   "cell_type": "code",
   "execution_count": 204,
   "id": "e94812b8",
   "metadata": {},
   "outputs": [],
   "source": [
    "def least_z(plane, event_number, thresholding=True, no_std=thr_std):\n",
    "    \n",
    "    AoI_x, AoI_z, AoI_adc, AoI_truevtxz, AoI_truevtxx = AoI(plane, event_number, thresholding, no_std)\n",
    "    \n",
    "    min_z = np.amin(AoI_z)\n",
    "    ind = np.where(min_z)[0]\n",
    "    min_x = AoI_x[ind]\n",
    "    #print(\"Least z prediction for vertex location: (x-position, z-position, plane)=\", min_x, min_z, plane)\n",
    "    return min_z, min_x"
   ]
  },
  {
   "cell_type": "code",
   "execution_count": 205,
   "id": "c2ace33f",
   "metadata": {},
   "outputs": [],
   "source": [
    "def line_finder(point1, point2):\n",
    "    slope = (point1[1] - point2[1])/(point1[0] - point2[0])\n",
    "    intercept = point1[1] - slope * point1[0]\n",
    "    return slope, intercept"
   ]
  },
  {
   "cell_type": "code",
   "execution_count": 206,
   "id": "d5e5be0b",
   "metadata": {},
   "outputs": [],
   "source": [
    "def line_intersect(slope1, intercept1, slope2, intercept2):\n",
    "    x_point = (intercept2 - intercept1)/(slope1 - slope2)\n",
    "    y_point = slope1 * x_point + intercept1\n",
    "    return x_point, y_point"
   ]
  },
  {
   "cell_type": "code",
   "execution_count": 238,
   "id": "b4a838c9",
   "metadata": {},
   "outputs": [],
   "source": [
    "def select_random_points(AoI_x, AoI_z, AoI_adc, iterations, no_std=thr_std):\n",
    "    initial_vertex_points = np.empty((iterations, 2))\n",
    "    vertex_length = len(AoI_x)\n",
    "    if vertex_length > 4:\n",
    "        range_x = (np.amin(AoI_x), np.amax(AoI_x))\n",
    "        range_z = (np.amin(AoI_z), np.amax(AoI_z))\n",
    "        for i in range(iterations):\n",
    "            sample = random.sample(range(0, vertex_length), 4)\n",
    "            vtxind_1, vtxind_2, vtxind_3, vtxind_4 = sample[0], sample[1], sample[2], sample[3]\n",
    "            point1, point2, point3, point4 = (AoI_x[vtxind_1], AoI_z[vtxind_1]), (AoI_x[vtxind_2], AoI_z[vtxind_2]), (AoI_x[vtxind_3], AoI_z[vtxind_3]), (AoI_x[vtxind_4], AoI_z[vtxind_4])\n",
    "            slope1, intercept1 = line_finder(point1, point2)\n",
    "            slope2, intercept2 = line_finder(point3, point4)\n",
    "            x_point, y_point = line_intersect(slope1, intercept1, slope2, intercept2)\n",
    "            if x_point > range_x[0] and x_point < range_x[1] and y_point > range_z[0] and y_point < range_z[1]:\n",
    "                initial_vertex_points[i, 0], initial_vertex_points[i, 1] = x_point, y_point\n",
    "\n",
    "    return initial_vertex_points"
   ]
  },
  {
   "cell_type": "code",
   "execution_count": 251,
   "id": "f9f661fa",
   "metadata": {
    "scrolled": false
   },
   "outputs": [],
   "source": [
    "def plotter_4_line(plane, event_number, thresholding=True, no_std=thr_std, iterations=1000):\n",
    "    \n",
    "    AoI_x, AoI_z, AoI_adc, AoI_truevtxz, AoI_truevtxx = AoI(plane, event_number, thresholding, no_std)\n",
    "    vertex_points = select_random_points(AoI_x, AoI_z, AoI_adc, iterations)\n",
    "    \n",
    "    plt.scatter(AoI_z, AoI_x, c=AoI_adc, cmap=\"viridis\")\n",
    "    plt.scatter(vertex_points[:,1], vertex_points[:,0], color=\"red\")\n",
    "    plt.title(str(plane)+\" plane\")\n",
    "    plt.xlabel(\"z\")\n",
    "    plt.ylabel(\"x\")\n",
    "\n",
    "    return 0"
   ]
  },
  {
   "cell_type": "code",
   "execution_count": 252,
   "id": "1f2aac1f",
   "metadata": {},
   "outputs": [],
   "source": [
    "def heatmap4points(plane, event_number, thresholding=True, no_std=thr_std, iterations=10000, binwdith=100):\n",
    "    \n",
    "    AoI_x, AoI_z, AoI_adc, AoI_truevtxz, AoI_truevtxx = AoI(plane, event_number, thresholding, no_std)\n",
    "    vertex_points = select_random_points(AoI_x, AoI_z, AoI_adc, iterations)\n",
    "    \n",
    "    histvertex = plt.hist2d(vertex_points[:,1], vertex_points[:,0], bins=(binwdith, binwdith), cmap=plt.cm.jet)\n",
    "    \n",
    "    histogram_array = histvertex[0]\n",
    "    max_value = np.amax(histogram_array)\n",
    "    indices = np.where(histogram_array == max_value)\n",
    "    #print(\"Indices: \", indices)\n",
    "    z_value = histvertex[1][indices[0]]\n",
    "    x_value = histvertex[2][indices[1]]\n",
    "    #print(\"Z_value: \", z_value)\n",
    "    #print(\"X_value: \", x_value)\n",
    "\n",
    "    return z_value[0], x_value[0]"
   ]
  },
  {
   "cell_type": "code",
   "execution_count": 253,
   "id": "bc8e6de3",
   "metadata": {},
   "outputs": [
    {
     "name": "stdout",
     "output_type": "stream",
     "text": [
      "(60.5256494140625, 86.81226928710936)\n"
     ]
    },
    {
     "data": {
      "image/png": "[encoded data removed]",
      "text/plain": [
       "<Figure size 640x480 with 1 Axes>"
      ]
     },
     "metadata": {},
     "output_type": "display_data"
    }
   ],
   "source": [
    "print(heatmap4points(\"u\", 141))"
   ]
  },
  {
   "cell_type": "code",
   "execution_count": 256,
   "id": "f7c84822",
   "metadata": {},
   "outputs": [],
   "source": [
    "def accuracy(plane, function, no_events, thresholding=False, no_std=thr_std, ifrandom=True):\n",
    "    Zvert = [None] * no_events\n",
    "    Zvert_true = [None] * no_events\n",
    "    Xvert = [None] * no_events\n",
    "    Xvert_true = [None] * no_events #avoid appends to lists; if you know how long the outputs are going to be, then assign the arrays to\n",
    "                    #that length beforehand\n",
    "    if ifrandom:\n",
    "        for i in tqdm(range(no_events)):   \n",
    "            j = random.randint(0, len(u_x))\n",
    "            AoI_x, AoI_z, AoI_adc, Zvert_true_place, Xvert_true_place = AoI(plane, j, thresholding, no_std)\n",
    "            Zvert_place, Xvert_place = function(plane, j)[0], function(plane, j)[1]\n",
    "            Zvert[i] = Zvert_place\n",
    "            Xvert[i] = Xvert_place\n",
    "            Zvert_true[i] = Zvert_true_place\n",
    "            Xvert_true[i] = Xvert_true_place\n",
    "    else:\n",
    "        for i in tqdm(range(no_events)):\n",
    "            AoI_x, AoI_z, AoI_adc, Zvert_true_place, Xvert_true_place = AoI(plane, i, thresholding, no_std)\n",
    "            Zvert_place, Xvert_place = function(plane, i)[0], function(plane, i)[1]\n",
    "            Zvert[i] = Zvert_place\n",
    "            Xvert[i] = Xvert_place\n",
    "            Zvert_true[i] = Zvert_true_place\n",
    "            Xvert_true[i] = Xvert_true_place\n",
    "    \n",
    "    \n",
    "    #print(\"Zverttrue: \", Zvert_true)\n",
    "    #print(\"Zvert: \", Zvert)\n",
    "    #print(\"Xvert_true: \",Xvert_true)\n",
    "    #print(\"Xvert\", Xvert)\n",
    "    \n",
    "    \n",
    "    delta_z = np.array(Zvert_true) - np.array(Zvert)\n",
    "    delta_x = np.array(Xvert_true) - np.array(Xvert)\n",
    "    delta_r2 = delta_z**2 + delta_x**2\n",
    "\n",
    "    #print(len(delta_r2))\n",
    "    delta_r2 = [item for item in delta_r2 if item != np.inf]\n",
    "    \n",
    "    #data, bins = np.histogram(delta_r2)\n",
    "    #delta_r2 = delta_r2[delta_r2 < 0.4e6]\n",
    "    delta_r2 = np.sqrt(delta_r2)\n",
    "    plt.hist(delta_r2, bins='auto')\n",
    "    #plt.ylim(0, 400)\n",
    "    plt.show()\n",
    "\n",
    "    return delta_r2, np.percentile(delta_r2, 68)"
   ]
  },
  {
   "cell_type": "code",
   "execution_count": 257,
   "id": "f1c7ace5",
   "metadata": {},
   "outputs": [
    {
     "name": "stderr",
     "output_type": "stream",
     "text": [
      "  0%|                                                                                 | 1/1000 [00:00<02:44,  6.07it/s]C:\\Users\\alexg\\AppData\\Local\\Temp\\ipykernel_23576\\1175323999.py:2: RuntimeWarning: divide by zero encountered in float_scalars\n",
      "  x_point = (intercept2 - intercept1)/(slope1 - slope2)\n",
      "C:\\Users\\alexg\\AppData\\Local\\Temp\\ipykernel_23576\\1175323999.py:3: RuntimeWarning: invalid value encountered in float_scalars\n",
      "  y_point = slope1 * x_point + intercept1\n",
      "  1%|▉                                                                               | 12/1000 [00:02<02:50,  5.78it/s]C:\\Users\\alexg\\AppData\\Local\\Temp\\ipykernel_23576\\1175323999.py:2: RuntimeWarning: invalid value encountered in float_scalars\n",
      "  x_point = (intercept2 - intercept1)/(slope1 - slope2)\n",
      "100%|██████████████████████████████████████████████████████████████████████████████| 1000/1000 [02:29<00:00,  6.70it/s]\n"
     ]
    },
    {
     "data": {
      "image/png": "[encoded data removed]",
      "text/plain": [
       "<Figure size 640x480 with 1 Axes>"
      ]
     },
     "metadata": {},
     "output_type": "display_data"
    },
    {
     "name": "stdout",
     "output_type": "stream",
     "text": [
      "Percentile:  64.67451009645997\n"
     ]
    }
   ],
   "source": [
    "data1, data2 = accuracy(\"u\", heatmap4points, 1000)\n",
    "print(\"Percentile: \", data2)"
   ]
  },
  {
   "cell_type": "code",
   "execution_count": null,
   "id": "856ff9a6",
   "metadata": {},
   "outputs": [],
   "source": []
  }
 ],
 "metadata": {
  "kernelspec": {
   "display_name": "Python 3 (ipykernel)",
   "language": "python",
   "name": "python3"
  },
  "language_info": {
   "codemirror_mode": {
    "name": "ipython",
    "version": 3
   },
   "file_extension": ".py",
   "mimetype": "text/x-python",
   "name": "python",
   "nbconvert_exporter": "python",
   "pygments_lexer": "ipython3",
   "version": "3.8.13"
  }
 },
 "nbformat": 4,
 "nbformat_minor": 5
}
