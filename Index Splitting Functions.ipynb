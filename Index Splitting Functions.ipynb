{
 "cells": [
  {
   "cell_type": "code",
   "execution_count": 3,
   "id": "525d735e",
   "metadata": {},
   "outputs": [],
   "source": [
    "interaction_dictionary = {}\n",
    "\n",
    "import pandas as pd\n",
    "import csv\n",
    "import pandas as pd\n",
    "import numpy as np\n",
    "\n",
    "with open('interactions.csv') as f:\n",
    "    reader = csv.DictReader(f)\n",
    "    for row in reader:\n",
    "        key = int(row.pop('Idx'))\n",
    "        interaction = row.pop('Interaction')\n",
    "        interaction_dictionary[key] = interaction"
   ]
  },
  {
   "cell_type": "code",
   "execution_count": 4,
   "id": "c0f523e2",
   "metadata": {},
   "outputs": [],
   "source": [
    "def interaction_finder(events):\n",
    "    all_events = np.unique(events.event_number)\n",
    "    x = [ events.interaction_type[np.where(events.event_number == e)] for e in all_events ]\n",
    "    return x"
   ]
  },
  {
   "cell_type": "code",
   "execution_count": 5,
   "id": "2001a85b",
   "metadata": {},
   "outputs": [],
   "source": [
    "def interaction_selector(interaction_dictionary):\n",
    "    #CC and NC Split\n",
    "    CC_indexes = []\n",
    "    NC_indexes = []\n",
    "    QEL_indexes = []\n",
    "    DIS_indexes = []\n",
    "    RES_indexes = []\n",
    "    EL_indexes = []\n",
    "    MU_indexes = []\n",
    "    \n",
    "    for i in range(len(interaction_dictionary)):\n",
    "        first_two = (interaction_dictionary[i])[:2]\n",
    "        if first_two == 'CC':\n",
    "            CC_indexes.append(i)\n",
    "        elif first_two == 'NC':\n",
    "            NC_indexes.append(i)\n",
    "            \n",
    "    for i in range(len(interaction_dictionary)):\n",
    "        first_three = (interaction_dictionary[i])[2:5]\n",
    "        if first_three == 'QEL':\n",
    "            QEL_indexes.append(i)\n",
    "        elif first_three == 'DIS':\n",
    "            DIS_indexes.append(i)\n",
    "        elif first_three == 'RES':\n",
    "            RES_indexes.append(i)\n",
    "            \n",
    "    for i in range(len(interaction_dictionary)-2):\n",
    "        first_one = (interaction_dictionary[i])[6:7]\n",
    "        if first_one == 'M':\n",
    "            MU_indexes.append(i)\n",
    "        elif first_one == 'E':\n",
    "            EL_indexes.append(i)\n",
    "        \n",
    "    return CC_indexes, NC_indexes, QEL_indexes, DIS_indexes, RES_indexes, EL_indexes, MU_indexes"
   ]
  },
  {
   "cell_type": "code",
   "execution_count": 6,
   "id": "c99fc56d",
   "metadata": {},
   "outputs": [],
   "source": [
    "def interaction_splitting(interaction_type_array):\n",
    "    CC_splitting = []\n",
    "    NC_splitting = []\n",
    "    QEL_splitting = []\n",
    "    DIS_splitting = []\n",
    "    RES_splitting = []\n",
    "    EL_splitting = []\n",
    "    MU_splitting = []\n",
    "\n",
    "    for i in range(len(interaction_type_array)):\n",
    "        if int(interaction_type_array[i][0]) in CC_indexes:\n",
    "            CC_splitting.append(i)\n",
    "        if int(interaction_type_array[i][0]) in NC_indexes:\n",
    "            NC_splitting.append(i)\n",
    "        if int(interaction_type_array[i][0]) in QEL_indexes:\n",
    "            QEL_splitting.append(i)\n",
    "        if int(interaction_type_array[i][0]) in RES_indexes:\n",
    "            RES_splitting.append(i)\n",
    "        if int(interaction_type_array[i][0]) in DIS_indexes:\n",
    "            DIS_splitting.append(i)\n",
    "        if int(interaction_type_array[i][0]) in MU_indexes:\n",
    "            MU_splitting.append(i)\n",
    "        if int(interaction_type_array[i][0]) in EL_indexes:\n",
    "            EL_splitting.append(i)\n",
    "        \n",
    "    return CC_splitting, NC_splitting, QEL_splitting, DIS_splitting, RES_splitting, EL_splitting, MU_splitting"
   ]
  },
  {
   "cell_type": "code",
   "execution_count": null,
   "id": "7d13446b",
   "metadata": {},
   "outputs": [],
   "source": []
  }
 ],
 "metadata": {
  "kernelspec": {
   "display_name": "Python 3 (ipykernel)",
   "language": "python",
   "name": "python3"
  },
  "language_info": {
   "codemirror_mode": {
    "name": "ipython",
    "version": 3
   },
   "file_extension": ".py",
   "mimetype": "text/x-python",
   "name": "python",
   "nbconvert_exporter": "python",
   "pygments_lexer": "ipython3",
   "version": "3.8.13"
  }
 },
 "nbformat": 4,
 "nbformat_minor": 5
}
