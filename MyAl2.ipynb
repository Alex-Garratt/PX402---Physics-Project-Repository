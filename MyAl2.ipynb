{
 "cells": [
  {
   "cell_type": "code",
   "execution_count": 1,
   "metadata": {},
   "outputs": [
    {
     "name": "stdout",
     "output_type": "stream",
     "text": [
      "Running...\n",
      "All data loaded in 195.8207162 seconds\n"
     ]
    }
   ],
   "source": [
    "from uproot_io import Events, View\n",
    "import matplotlib.pyplot as plt\n",
    "import numpy as np\n",
    "from tqdm import tqdm\n",
    "import time\n",
    "\n",
    "print(\"Running...\")\n",
    "toc = time.perf_counter()\n",
    "#ALL SETUP\n",
    "\n",
    "thr_std=0.2\n",
    "n_events=9310\n",
    "\n",
    "\n",
    "E = Events(\"CheatedRecoFile_1.root\")\n",
    "\n",
    "\n",
    "view_u = View(E, \"u\")\n",
    "view_v = View(E, \"v\")\n",
    "view_w = View(E, \"w\")\n",
    "\n",
    "\n",
    "u_x = view_u.x\n",
    "u_z = view_u.z\n",
    "u_adc = view_u.adc\n",
    "u_truevtx_z = view_u.true_vtx_z\n",
    "u_truevtx_x = view_u.true_vtx_x\n",
    "\n",
    "\n",
    "v_x = view_v.x\n",
    "v_z = view_v.z\n",
    "v_adc = view_v.adc\n",
    "v_truevtx_z = view_v.true_vtx_z\n",
    "v_truevtx_x = view_v.true_vtx_x\n",
    "\n",
    "w_x = view_w.x\n",
    "w_z = view_w.z\n",
    "w_adc = view_w.adc\n",
    "w_truevtx_z = view_w.true_vtx_z\n",
    "w_truevtx_x = view_w.true_vtx_x\n",
    "\n",
    "tic = time.perf_counter()\n",
    "print(\"All data loaded in\", tic-toc, \"seconds\")"
   ]
  },
  {
   "cell_type": "code",
   "execution_count": 63,
   "metadata": {},
   "outputs": [],
   "source": [
    "def AoI(plane, event_number, thresholding=True, no_std=thr_std):\n",
    "    #given plane and event number, extract required information and threshold if required\n",
    "        \n",
    "    if plane==\"u\":\n",
    "        AoI_x = u_x[event_number]\n",
    "        AoI_z = u_z[event_number]\n",
    "        AoI_adc = u_adc[event_number]\n",
    "        AoI_truevtxz = u_truevtx_z[event_number]\n",
    "        AoI_truevtxx = u_truevtx_x[event_number]\n",
    "    elif plane==\"v\":\n",
    "        AoI_x = v_x[event_number]\n",
    "        AoI_z = v_z[event_number]\n",
    "        AoI_adc = v_adc[event_number]\n",
    "        AoI_truevtxz = v_truevtx_z[event_number]\n",
    "        AoI_truevtxx = v_truevtx_x[event_number]\n",
    "    elif plane==\"w\":\n",
    "        AoI_x = w_x[event_number]\n",
    "        AoI_z = w_z[event_number]\n",
    "        AoI_adc = w_adc[event_number]   \n",
    "        AoI_truevtxz = w_truevtx_z[event_number]\n",
    "        AoI_truevtxx = w_truevtx_x[event_number]\n",
    "    else:\n",
    "        print(\"PLane not u,v,w\")\n",
    "        \n",
    "    if thresholding:\n",
    "        mean = np.average(AoI_adc)\n",
    "        std = np.std(AoI_adc)\n",
    "        AoI_x = AoI_x[(mean-no_std*std<AoI_adc)]\n",
    "        AoI_z = AoI_z[(mean-no_std*std<AoI_adc)]\n",
    "        AoI_adc = AoI_adc[(mean-no_std*std<AoI_adc)]\n",
    "        \n",
    "    \n",
    "    AoI = [AoI_z, AoI_x, AoI_adc]\n",
    "    \n",
    "    return AoI, (AoI_truevtxz,AoI_truevtxx)\n",
    "AoI, true = AoI(\"u\", 21)"
   ]
  },
  {
   "cell_type": "code",
   "execution_count": 64,
   "metadata": {},
   "outputs": [
    {
     "data": {
      "image/png": "[encoded data removed]",
      "text/plain": [
       "<Figure size 432x288 with 1 Axes>"
      ]
     },
     "metadata": {
      "needs_background": "light"
     },
     "output_type": "display_data"
    }
   ],
   "source": [
    "def plotter(AoI, thresholding=True, no_std=thr_std):\n",
    "    \n",
    "    AoIz, AoIx, AoIadc = AoI\n",
    "\n",
    "    plt.scatter(AoIz, AoIx, c=AoIadc, cmap=\"viridis\")\n",
    "    #plt.title(str(plane)+\" plane\")\n",
    "    plt.xlabel(\"z\")\n",
    "    plt.ylabel(\"x\")\n",
    "    return 0\n",
    "plotter(AoI)\n",
    "plt.show()"
   ]
  },
  {
   "cell_type": "code",
   "execution_count": 65,
   "metadata": {},
   "outputs": [],
   "source": [
    "def pick_xz(AoI, i, thresholding=True, no_std=thr_std):\n",
    "    AoI_x, AoI_z, AoI_adc = AoI\n",
    "    return AoI_z[i], AoI_x[i]"
   ]
  },
  {
   "cell_type": "code",
   "execution_count": 66,
   "metadata": {},
   "outputs": [
    {
     "data": {
      "text/plain": [
       "0"
      ]
     },
     "execution_count": 66,
     "metadata": {},
     "output_type": "execute_result"
    }
   ],
   "source": [
    "def line_finder(AoI, point_number, scale=5, wiggle=0.05, know_prev_point=False, prev_point_number=None):\n",
    "    AoI_z, AoI_x, AoI_adc = AoI\n",
    "    L = len(AoI_x)\n",
    "    LL = L-1\n",
    "    if (point_number+scale>LL): #make sure scale either side of the point in question doesn't leave range\n",
    "        scale = LL-point_number\n",
    "    if (point_number-scale<0) and not(know_prev_point): #this one is only necessary if have to scan prev points\n",
    "        scale = point_number\n",
    "    if scale==0: #cannot do anything with ends of array\n",
    "        return 0\n",
    "    \n",
    "    centre = np.array([AoI_z[point_number], AoI_x[point_number]])\n",
    "    \n",
    "    if know_prev_point:\n",
    "        pre_rel_z = AoI_z[prev_point_number] - centre[0]\n",
    "        pre_rel_x = AoI_x[prev_point_number] - centre[1]\n",
    "    else:\n",
    "        pre_rel_z = AoI_z[point_number-scale:point_number] - centre[0]\n",
    "        pre_rel_x = AoI_x[point_number-scale:point_number] - centre[1]\n",
    "    pre_theta = np.arctan2(pre_rel_x,pre_rel_z)\n",
    "    \n",
    "\n",
    "    \n",
    "    post_rel_z = AoI_z[point_number+1:point_number+scale+1] - centre[0]\n",
    "    post_rel_x = AoI_x[point_number+1:point_number+scale+1] - centre[1]\n",
    "    post_theta = np.arctan2(post_rel_x,post_rel_z)\n",
    "    post_r = (post_rel_z**2 + post_rel_x**2)**0.5\n",
    "    \n",
    "    \n",
    "    if know_prev_point:\n",
    "        theta_max = pre_theta + np.pi + wiggle\n",
    "        theta_min = theta_max - 2*wiggle\n",
    "        for j in range(scale):\n",
    "            if (post_theta[j]>theta_min and post_theta[j]<theta_max):\n",
    "                return prev_point_number, point_number, point_number+j+1\n",
    "        return 0\n",
    "    \n",
    "\n",
    "    \n",
    "    for i in range(scale):\n",
    "        pre_theta[-i-1] += np.pi\n",
    "        theta_max = pre_theta[-i] + np.pi + wiggle\n",
    "        theta_min = theta_max - 2*wiggle\n",
    "        for j in range(scale):\n",
    "            if (post_theta[j]>theta_min and post_theta[j]<theta_max):\n",
    "                return point_number-i-1, point_number, point_number+j+1\n",
    "    \n",
    "    return 0\n",
    "line_finder(AoI,16, know_prev_point=True, prev_point_number=1)"
   ]
  },
  {
   "cell_type": "code",
   "execution_count": 69,
   "metadata": {},
   "outputs": [],
   "source": [
    "def line_collater(AoI, scale=5, wiggle=0.05):\n",
    "    AoI_z, AoI_x, AoI_adc = AoI\n",
    "    L = len(AoI_z)\n",
    "    found=False\n",
    "    for i in range(1,L):\n",
    "        a = line_finder(AoI, i, scale, wiggle)\n",
    "        if (a!=0):\n",
    "            prev, curr, nex = a\n",
    "            found=True\n",
    "            break\n",
    "    line1=[]\n",
    "    if found:\n",
    "        line1 += [prev, curr, nex]\n",
    "        for i in range(L):\n",
    "            a = line_finder(AoI, line1[-1], scale, wiggle, know_prev_point=True, prev_point_number=line1[-2])\n",
    "            if a!=0:\n",
    "                line1 += [a[-1]]\n",
    "            else:\n",
    "                break\n",
    "    return line1\n",
    "            \n",
    "x = line_collater(AoI)"
   ]
  },
  {
   "cell_type": "code",
   "execution_count": 70,
   "metadata": {},
   "outputs": [
    {
     "data": {
      "image/png": "[encoded data removed]",
      "text/plain": [
       "<Figure size 432x288 with 1 Axes>"
      ]
     },
     "metadata": {
      "needs_background": "light"
     },
     "output_type": "display_data"
    }
   ],
   "source": [
    "AoI_z, AoI_x, AoI_adc = AoI\n",
    "for i in x:\n",
    "    plt.plot(AoI_z[i],AoI_x[i], 'ro')\n",
    "plotter(AoI)\n",
    "plt.show()"
   ]
  },
  {
   "cell_type": "code",
   "execution_count": null,
   "metadata": {},
   "outputs": [],
   "source": []
  }
 ],
 "metadata": {
  "kernelspec": {
   "display_name": "Python 3",
   "language": "python",
   "name": "python3"
  },
  "language_info": {
   "codemirror_mode": {
    "name": "ipython",
    "version": 3
   },
   "file_extension": ".py",
   "mimetype": "text/x-python",
   "name": "python",
   "nbconvert_exporter": "python",
   "pygments_lexer": "ipython3",
   "version": "3.8.5"
  }
 },
 "nbformat": 4,
 "nbformat_minor": 4
}
