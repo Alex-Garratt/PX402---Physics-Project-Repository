{
 "cells": [
  {
   "cell_type": "code",
   "execution_count": 1,
   "metadata": {},
   "outputs": [
    {
     "name": "stdout",
     "output_type": "stream",
     "text": [
      "Running...\n",
      "All data loaded in 289.3447867 seconds\n"
     ]
    }
   ],
   "source": [
    "from uproot_io import Events, View\n",
    "import matplotlib.pyplot as plt\n",
    "import numpy as np\n",
    "from tqdm import tqdm\n",
    "import time\n",
    "\n",
    "print(\"Running...\")\n",
    "toc = time.perf_counter()\n",
    "#ALL SETUP\n",
    "\n",
    "thr_std=0.2\n",
    "n_events=9310\n",
    "\n",
    "\n",
    "E = Events(\"CheatedRecoFile_1.root\")\n",
    "\n",
    "\n",
    "view_u = View(E, \"u\")\n",
    "view_v = View(E, \"v\")\n",
    "view_w = View(E, \"w\")\n",
    "\n",
    "\n",
    "u_x = view_u.x\n",
    "u_z = view_u.z\n",
    "u_adc = view_u.adc\n",
    "u_truevtx_z = view_u.true_vtx_z\n",
    "u_truevtx_x = view_u.true_vtx_x\n",
    "\n",
    "\n",
    "v_x = view_v.x\n",
    "v_z = view_v.z\n",
    "v_adc = view_v.adc\n",
    "v_truevtx_z = view_v.true_vtx_z\n",
    "v_truevtx_x = view_v.true_vtx_x\n",
    "\n",
    "w_x = view_w.x\n",
    "w_z = view_w.z\n",
    "w_adc = view_w.adc\n",
    "w_truevtx_z = view_w.true_vtx_z\n",
    "w_truevtx_x = view_w.true_vtx_x\n",
    "\n",
    "tic = time.perf_counter()\n",
    "print(\"All data loaded in\", tic-toc, \"seconds\")"
   ]
  },
  {
   "cell_type": "code",
   "execution_count": 3,
   "metadata": {},
   "outputs": [],
   "source": [
    "def AoI(plane, event_number, thresholding=True, no_std=thr_std, ordering=True):\n",
    "    #given plane and event number, extract required information and threshold if required\n",
    "    if plane==\"u\":\n",
    "        AoI_x = u_x[event_number]\n",
    "        AoI_z = u_z[event_number]\n",
    "        AoI_adc = u_adc[event_number]\n",
    "        AoI_truevtxz = u_truevtx_z[event_number]\n",
    "        AoI_truevtxx = u_truevtx_x[event_number]\n",
    "    elif plane==\"v\":\n",
    "        AoI_x = v_x[event_number]\n",
    "        AoI_z = v_z[event_number]\n",
    "        AoI_adc = v_adc[event_number]\n",
    "        AoI_truevtxz = v_truevtx_z[event_number]\n",
    "        AoI_truevtxx = v_truevtx_x[event_number]\n",
    "    elif plane==\"w\":\n",
    "        AoI_x = w_x[event_number]\n",
    "        AoI_z = w_z[event_number]\n",
    "        AoI_adc = w_adc[event_number]   \n",
    "        AoI_truevtxz = w_truevtx_z[event_number]\n",
    "        AoI_truevtxx = w_truevtx_x[event_number]\n",
    "    else:\n",
    "        print(\"PLane not u,v,w\")\n",
    "        \n",
    "    if thresholding:\n",
    "        mean = np.average(AoI_adc)\n",
    "        std = np.std(AoI_adc)\n",
    "        AoI_x = AoI_x[(mean-no_std*std<AoI_adc)]\n",
    "        AoI_z = AoI_z[(mean-no_std*std<AoI_adc)]\n",
    "        AoI_adc = AoI_adc[(mean-no_std*std<AoI_adc)]\n",
    "        \n",
    "    if ordering:\n",
    "        order = np.argsort(AoI_z)\n",
    "        AoI_z = np.take_along_axis(AoI_z, order, axis=0)\n",
    "        AoI_x = np.take_along_axis(AoI_x, order, axis=0)\n",
    "        AoI_adc = np.take_along_axis(AoI_adc, order, axis=0)\n",
    "        \n",
    "    AoI = [AoI_z, AoI_x, AoI_adc]\n",
    "    return AoI, (AoI_truevtxz,AoI_truevtxx)\n",
    "#AoI, true = AoI(\"u\", 657)\n",
    "AoI, true = AoI(\"u\", 20)"
   ]
  },
  {
   "cell_type": "code",
   "execution_count": 4,
   "metadata": {},
   "outputs": [
    {
     "name": "stdout",
     "output_type": "stream",
     "text": [
      "[array([1417.6783, 1418.145 , 1418.6117, 1419.0785, 1419.5452, 1420.0118,\n",
      "       1420.4785, 1420.9452, 1421.412 , 1421.8787, 1422.3453, 1422.812 ,\n",
      "       1423.2787, 1423.7455, 1424.2122, 1424.6788, 1425.1455, 1425.6122,\n",
      "       1426.079 , 1426.5457, 1427.0123, 1427.479 , 1427.9457, 1428.4125,\n",
      "       1428.8792, 1429.3458, 1429.8125, 1430.2793, 1430.746 , 1431.2126,\n",
      "       1431.6793, 1432.146 , 1432.6128, 1433.0795, 1433.5461, 1434.0128,\n",
      "       1434.4795], dtype=float32), array([-106.992   , -105.74131 , -104.664185, -103.47235 , -102.286316,\n",
      "       -101.16882 ,  -99.95044 ,  -98.7236  ,  -97.507256,  -96.22531 ,\n",
      "        -94.957726,  -93.80997 ,  -92.694084,  -91.461296,  -90.30634 ,\n",
      "        -89.12383 ,  -87.87997 ,  -86.680756,  -85.43956 ,  -84.24875 ,\n",
      "        -83.03447 ,  -81.814766,  -80.51614 ,  -79.16324 ,  -77.751175,\n",
      "        -76.3055  ,  -74.816864,  -73.208405,  -71.52228 ,  -69.84746 ,\n",
      "        -68.08853 ,  -66.52391 ,  -65.02387 ,  -63.51062 ,  -61.967422,\n",
      "        -60.537872,  -59.62689 ], dtype=float32), array([ 448.1055 ,  514.64685,  556.58954,  466.77332,  517.62366,\n",
      "        542.4017 ,  502.69305,  543.35126,  582.5192 ,  563.1333 ,\n",
      "        521.3019 ,  488.47354,  583.8233 ,  552.86743,  490.02008,\n",
      "        583.6244 ,  536.8036 ,  603.2703 ,  593.8115 ,  647.5013 ,\n",
      "        585.8907 ,  610.5928 ,  638.7177 ,  727.00885,  799.91364,\n",
      "        768.9917 ,  913.34924,  922.3568 , 1056.2975 , 1119.388  ,\n",
      "       1206.4185 , 1040.0946 , 1176.2777 , 1287.6735 , 1357.02   ,\n",
      "       1577.5068 ,  806.64886], dtype=float32)]\n"
     ]
    }
   ],
   "source": [
    "print(AoI)"
   ]
  },
  {
   "cell_type": "code",
   "execution_count": 6,
   "metadata": {},
   "outputs": [
    {
     "data": {
      "text/plain": [
       "0"
      ]
     },
     "execution_count": 6,
     "metadata": {},
     "output_type": "execute_result"
    },
    {
     "data": {
      "image/png": "[encoded data removed]",
      "text/plain": [
       "<Figure size 432x288 with 1 Axes>"
      ]
     },
     "metadata": {
      "needs_background": "light"
     },
     "output_type": "display_data"
    }
   ],
   "source": [
    "def plotter(AoI, thresholding=True, no_std=thr_std):\n",
    "    \n",
    "    AoIz, AoIx, AoIadc = AoI\n",
    "    \n",
    "    plt.scatter(AoIz, AoIx, c=AoIadc, cmap=\"viridis\")\n",
    "    plt.plot(AoIz[12], AoIx[12], 'ro')\n",
    "    plt.plot(AoIz[11], AoIx[11], 'ro')\n",
    "    plt.plot(AoIz[21], AoIx[21], 'ro')\n",
    "    #plt.title(str(plane)+\" plane\")\n",
    "    plt.xlabel(\"z\")\n",
    "    plt.ylabel(\"x\")\n",
    "    return 0\n",
    "plotter(AoI)\n"
   ]
  },
  {
   "cell_type": "code",
   "execution_count": 7,
   "metadata": {},
   "outputs": [
    {
     "name": "stdout",
     "output_type": "stream",
     "text": [
      "[11, 10] 12 [13, 14, 15, 16, 17, 18, 19, 20, 21, 22]\n",
      "13 22\n",
      "14 13\n",
      "1.1367915391921997 1.0404705 1.2367915391921998\n",
      "15 14\n",
      "1.1449126720428466 0.9581814 1.2449126720428467\n",
      "1.1449126720428466 1.0190183 1.2449126720428467\n",
      "16 15\n",
      "1.1618669748306274 0.8624476 1.2618669748306275\n",
      "1.1618669748306274 0.93552375 1.2618669748306275\n",
      "1.1618669748306274 0.99784464 1.2618669748306275\n",
      "17 16\n",
      "1.1496769905090332 0.758453 1.2496769905090332\n",
      "1.1496769905090332 0.84436953 1.2496769905090332\n",
      "1.1496769905090332 0.9179609 1.2496769905090332\n",
      "1.1496769905090332 0.9813609 1.2496769905090332\n",
      "18 17\n",
      "1.1610735177993774 0.64165837 1.2610735177993775\n",
      "1.1610735177993774 0.74115777 1.2610735177993775\n",
      "1.1610735177993774 0.82720107 1.2610735177993775\n",
      "1.1610735177993774 0.9016855 1.2610735177993775\n",
      "1.1610735177993774 0.96896905 1.2610735177993775\n",
      "19 18\n",
      "1.147295069694519 0.5207154 1.247295069694519\n",
      "1.147295069694519 0.6323733 1.247295069694519\n",
      "1.147295069694519 0.7304846 1.247295069694519\n",
      "1.147295069694519 0.81624085 1.247295069694519\n",
      "1.147295069694519 0.89412344 1.247295069694519\n",
      "1.147295069694519 0.96224743 1.247295069694519\n",
      "20 19\n",
      "1.1538776874542236 0.3931533 1.2538776874542237\n",
      "1.1538776874542236 0.5150653 1.2538776874542237\n",
      "1.1538776874542236 0.6246229 1.2538776874542237\n",
      "1.1538776874542236 0.7218782 1.2538776874542237\n",
      "1.1538776874542236 0.81106865 1.2538776874542237\n",
      "1.1538776874542236 0.8895099 1.2538776874542237\n",
      "1.1538776874542236 0.95484364 1.2538776874542237\n",
      "21 20\n",
      "1.1553678035736084 0.26421735 1.2553678035736084\n",
      "1.1553678035736084 0.39304957 1.2553678035736084\n",
      "1.1553678035736084 0.5121103 1.2553678035736084\n",
      "1.1553678035736084 0.6200759 1.2553678035736084\n",
      "1.1553678035736084 0.72060007 1.2553678035736084\n",
      "1.1553678035736084 0.8098645 1.2553678035736084\n",
      "1.1553678035736084 0.8846052 1.2553678035736084\n",
      "1.1553678035736084 0.9507299 1.2553678035736084\n",
      "22 21\n",
      "1.1758061170578002 0.1310116 1.2758061170578003\n",
      "1.1758061170578002 0.2630541 1.2758061170578003\n",
      "1.1758061170578002 0.389184 1.2758061170578003\n",
      "1.1758061170578002 0.5067416 1.2758061170578003\n",
      "1.1758061170578002 0.6185605 1.2758061170578003\n",
      "1.1758061170578002 0.71937263 1.2758061170578003\n",
      "1.1758061170578002 0.8045603 1.2758061170578003\n",
      "1.1758061170578002 0.88029987 1.2758061170578003\n",
      "1.1758061170578002 0.9377518 1.2758061170578003\n",
      "[[[11, 12, 10], 13, 14, 15, 16, 17, 18, 19, 20, 21, 22]]\n"
     ]
    }
   ],
   "source": [
    "def line_finder(AoI, start, scale=10, wiggle=0.05):\n",
    "    z, x, adc = AoI #sorted\n",
    "    \n",
    "    L = len(z)\n",
    "    LL = L-1\n",
    "    LLL = L-start\n",
    "    if (start+scale>LL):\n",
    "        s = LL-start\n",
    "    elif (start-scale<0):\n",
    "        s = start\n",
    "    else:\n",
    "        s=scale\n",
    "    if s==0:\n",
    "        return [] #make sure search radius behind is suitable\n",
    "    \n",
    "    centre = np.array([z[start], x[start]])\n",
    "    rel_z = z - centre[0]\n",
    "    rel_x = x - centre[1]\n",
    "    \n",
    "    pre_z = rel_z[(start-s):start]\n",
    "    post_z = rel_z[(start+1):(start+s+1)]\n",
    "    \n",
    "    pre_x = rel_x[(start-s):start]\n",
    "    post_x = rel_x[(start+1):(start+s+1)]\n",
    "    \n",
    "    pre_theta = np.arctan2(pre_x, pre_z)\n",
    "    post_theta = np.arctan2(post_x, post_z)\n",
    "    \n",
    "    theta_max = (pre_theta + np.pi) + wiggle - 2*np.pi*(pre_theta>0)\n",
    "    theta_min = theta_max - 2*wiggle\n",
    "    \n",
    "    \n",
    "    #START THE LINE\n",
    "    linestarts = []\n",
    "    \n",
    "    for i in range(s): #s points before start\n",
    "        linestart = [[start-i-1, start]]\n",
    "        br = False\n",
    "        for j in range(s):\n",
    "            if (post_theta[j]>theta_min[i] and post_theta[j]<theta_max[i]):\n",
    "                linestart.append(start+j+1)\n",
    "        for k in linestarts:\n",
    "            if all(l in k[1:] for l in linestart[1:]):\n",
    "                k[0].append(start-i-1)\n",
    "                br = True\n",
    "                break\n",
    "        if br:\n",
    "            break\n",
    "        linestarts.append(linestart)\n",
    "        \n",
    "    '''\n",
    "    for i in range(s):\n",
    "        if (start-i-1 and start) in linestart_dum:\n",
    "               continue\n",
    "        linestart = [None]*(s+2)\n",
    "        linestart[0], linestart[1] = start-i-1, start\n",
    "        for j in range(scale):\n",
    "            if (post_theta[j]>theta_min[i] and post_theta[j]<theta_max[i]):\n",
    "               linestart[j+2]=start+j+1\n",
    "        linestart.remove(None)\n",
    "        linestarts.append(linestart)\n",
    "        linestart_dum = linestart.copy()*1      \n",
    "    '''\n",
    "    \n",
    "    \n",
    "    \n",
    "    for linestart in linestarts:\n",
    "        pre = linestart[0].copy()\n",
    "        start = pre.pop(1)\n",
    "        post = linestart[1:]\n",
    "        \n",
    "        print(pre, start, post)\n",
    "        \n",
    "        for i in post:\n",
    "            ind = post.index(i)\n",
    "            print(post[ind], post[ind-1])\n",
    "            if ind==0:\n",
    "                theta0 = np.arctan2(x[i]-x[start], z[i]-z[start])\n",
    "            else:\n",
    "                theta0 = np.arctan2(x[i]-x[post[ind-1]], z[i]-z[post[ind-1]]) \n",
    "            theta_max = theta0 + wiggle\n",
    "            theta_min = theta0 - wiggle #WHY ARE THESE VALUES SO DIFFERENT???\n",
    "            for j in range(s): # compare point i+j to i\n",
    "                if not(i+j in post):\n",
    "                    theta = np.arctan2(x[i+j]-x[i], z[i+j]-z[j])\n",
    "                    \n",
    "\n",
    "                    print(theta_min, theta, theta_max)\n",
    "                    \n",
    "                    if theta<theta_max and theta>theta_min:\n",
    "                        post.append(i+j+1)\n",
    "        linestart = [start, pre, post]\n",
    "        \n",
    "        \n",
    "        \n",
    "\n",
    "    \n",
    "    return linestarts\n",
    "\n",
    "print(line_finder(AoI, 12))"
   ]
  },
  {
   "cell_type": "code",
   "execution_count": 20,
   "metadata": {},
   "outputs": [
    {
     "data": {
      "text/plain": [
       "[15, 16, 17, 18, 19, 20, 21, 22, 23, 24, 25, 26]"
      ]
     },
     "execution_count": 20,
     "metadata": {},
     "output_type": "execute_result"
    }
   ],
   "source": [
    "def line_finder(AoI, point_number, scale=10, wiggle=0.05, know_prev_point=False, prev_point_number=None):\n",
    "    z, x, adc = AoI #sorted\n",
    "    \n",
    "    L = len(z)\n",
    "    LL = L-1\n",
    "    if (point_number+scale>LL):\n",
    "        scale = LL-point_number\n",
    "    if (point_number-scale<0) and not(know_prev_point):\n",
    "        scale = point_number\n",
    "    if scale==0:\n",
    "        return []\n",
    "    \n",
    "    centre = np.array([z[point_number], x[point_number]])\n",
    "    \n",
    "    if know_prev_point:\n",
    "        pre_z = z[prev_point_number] - centre[0]\n",
    "        pre_x = x[prev_point_number] - centre[1]\n",
    "    else:\n",
    "        pre_z = z[point_number-scale:point_number] - centre[0]\n",
    "        pre_x = x[point_number-scale:point_number] - centre[1]\n",
    "    \n",
    "    pre_theta = np.arctan2(pre_x, pre_z)\n",
    "    \n",
    "    \n",
    "    post_z = z[point_number+1:point_number+scale+1] - centre[0]\n",
    "    post_x = x[point_number+1:point_number+scale+1] - centre[1]\n",
    "    post_theta = np.arctan2(post_x, post_z)\n",
    "    post_r = (post_z**2 + post_x**2)**0.5\n",
    "\n",
    "    \n",
    "    ret = []\n",
    "    if know_prev_point:\n",
    "        ret.append(prev_point_number)\n",
    "        ret.append(point_number)\n",
    "        theta_max = pre_theta + np.pi + wiggle\n",
    "        theta_min = theta_max - 2*wiggle\n",
    "        for j in range(scale):\n",
    "            if (post_theta[j]>theta_min and post_theta[j]<theta_max): #run through post values and return all that fit\n",
    "                ret.append(point_number+j+1)\n",
    "        return ret\n",
    "    \n",
    "    for i in range(scale):\n",
    "        theta_max = pre_theta[i] + np.pi + wiggle\n",
    "        theta_min = theta_max - 2*wiggle\n",
    "        reti = [point_number-i-1, point_number]\n",
    "        for j in range(scale):\n",
    "            if (post_theta[j]>theta_min and post_theta[j]<theta_max):\n",
    "                reti.append(point_number+j+1)\n",
    "        ret.append(reti)\n",
    "    return ret\n",
    "line_finder(AoI, 16, know_prev_point=True, prev_point_number=15)"
   ]
  },
  {
   "cell_type": "code",
   "execution_count": null,
   "metadata": {},
   "outputs": [],
   "source": [
    "from tqdm import tqdm"
   ]
  },
  {
   "cell_type": "code",
   "execution_count": 19,
   "metadata": {},
   "outputs": [
    {
     "name": "stdout",
     "output_type": "stream",
     "text": [
      "[[0, 1, 3, 4, 5, 6, 7, 8, 9, 10, 11]]\n",
      "[[1, 2, 3, 4, 5, 6, 7, 8, 9, 10, 11, 12], [2, 3, 4, 5, 6, 7, 8, 9, 10, 11, 12, 13], [3, 4, 5, 6, 7, 8, 9, 10, 11, 12, 13, 14]]\n",
      "[[0, 2, 3, 4, 5, 6, 7, 8, 9, 10, 11, 12], [2, 3, 4, 5, 6, 7, 8, 9, 10, 11, 12, 13], [3, 4, 5, 6, 7, 8, 9, 10, 11, 12, 13, 14]]\n",
      "[[2, 3, 4, 5, 6, 7, 8, 9, 10, 11, 12, 13], [3, 4, 5, 6, 7, 8, 9, 10, 11, 12, 13, 14], [4, 5, 6, 7, 8, 9, 10, 11, 12, 13, 14, 15], [5, 6, 7, 8, 9, 10, 11, 12, 13, 14, 15, 16]]\n",
      "[[1, 3, 4, 5, 6, 7, 8, 9, 10, 11, 12, 13], [3, 4, 5, 6, 7, 8, 9, 10, 11, 12, 13, 14], [4, 5, 6, 7, 8, 9, 10, 11, 12, 13, 14, 15], [5, 6, 7, 8, 9, 10, 11, 12, 13, 14, 15, 16]]\n",
      "[[0, 3, 4, 5, 6, 7, 8, 9, 10, 11, 12, 13], [3, 4, 5, 6, 7, 8, 9, 10, 11, 12, 13, 14], [4, 5, 6, 7, 8, 9, 10, 11, 12, 13, 14, 15], [5, 6, 7, 8, 9, 10, 11, 12, 13, 14, 15, 16]]\n",
      "[[3, 4, 5, 6, 7, 8, 9, 10, 11, 12, 13, 14], [4, 5, 6, 7, 8, 9, 10, 11, 12, 13, 14, 15], [5, 6, 7, 8, 9, 10, 11, 12, 13, 14, 15, 16], [6, 7, 8, 9, 10, 11, 12, 13, 14, 15, 16, 17], [7, 8, 9, 10, 11, 12, 13, 14, 15, 16, 17, 18]]\n",
      "[[2, 4, 5, 6, 7, 8, 9, 10, 11, 12, 13, 14], [4, 5, 6, 7, 8, 9, 10, 11, 12, 13, 14, 15], [5, 6, 7, 8, 9, 10, 11, 12, 13, 14, 15, 16], [6, 7, 8, 9, 10, 11, 12, 13, 14, 15, 16, 17], [7, 8, 9, 10, 11, 12, 13, 14, 15, 16, 17, 18]]\n",
      "[[1, 4, 5, 6, 7, 8, 9, 10, 11, 12, 13, 14], [4, 5, 6, 7, 8, 9, 10, 11, 12, 13, 14, 15], [5, 6, 7, 8, 9, 10, 11, 12, 13, 14, 15, 16], [6, 7, 8, 9, 10, 11, 12, 13, 14, 15, 16, 17], [7, 8, 9, 10, 11, 12, 13, 14, 15, 16, 17, 18]]\n",
      "[[0, 4, 5, 6, 7, 8, 9, 10, 11, 12, 13, 14], [4, 5, 6, 7, 8, 9, 10, 11, 12, 13, 14, 15], [5, 6, 7, 8, 9, 10, 11, 12, 13, 14, 15, 16], [6, 7, 8, 9, 10, 11, 12, 13, 14, 15, 16, 17], [7, 8, 9, 10, 11, 12, 13, 14, 15, 16, 17, 18]]\n",
      "[[4, 5, 6, 7, 8, 9, 10, 11, 12, 13, 14, 15], [5, 6, 7, 8, 9, 10, 11, 12, 13, 14, 15, 16], [6, 7, 8, 9, 10, 11, 12, 13, 14, 15, 16, 17], [7, 8, 9, 10, 11, 12, 13, 14, 15, 16, 17, 18], [8, 9, 10, 11, 12, 13, 14, 15, 16, 17, 18, 19], [9, 10, 11, 12, 13, 14, 15, 16, 17, 18, 19, 20]]\n",
      "[[3, 5, 6, 7, 8, 9, 10, 11, 12, 13, 14, 15], [5, 6, 7, 8, 9, 10, 11, 12, 13, 14, 15, 16], [6, 7, 8, 9, 10, 11, 12, 13, 14, 15, 16, 17], [7, 8, 9, 10, 11, 12, 13, 14, 15, 16, 17, 18], [8, 9, 10, 11, 12, 13, 14, 15, 16, 17, 18, 19], [9, 10, 11, 12, 13, 14, 15, 16, 17, 18, 19, 20]]\n",
      "[[2, 5, 6, 7, 8, 9, 10, 11, 12, 13, 14, 15], [5, 6, 7, 8, 9, 10, 11, 12, 13, 14, 15, 16], [6, 7, 8, 9, 10, 11, 12, 13, 14, 15, 16, 17], [7, 8, 9, 10, 11, 12, 13, 14, 15, 16, 17, 18], [8, 9, 10, 11, 12, 13, 14, 15, 16, 17, 18, 19], [9, 10, 11, 12, 13, 14, 15, 16, 17, 18, 19, 20]]\n",
      "[[1, 5, 6, 7, 8, 9, 10, 11, 12, 13, 14, 15], [5, 6, 7, 8, 9, 10, 11, 12, 13, 14, 15, 16], [6, 7, 8, 9, 10, 11, 12, 13, 14, 15, 16, 17], [7, 8, 9, 10, 11, 12, 13, 14, 15, 16, 17, 18], [8, 9, 10, 11, 12, 13, 14, 15, 16, 17, 18, 19], [9, 10, 11, 12, 13, 14, 15, 16, 17, 18, 19, 20]]\n",
      "[[0, 5, 6, 7, 8, 9, 10, 11, 12, 13, 14, 15], [5, 6, 7, 8, 9, 10, 11, 12, 13, 14, 15, 16], [6, 7, 8, 9, 10, 11, 12, 13, 14, 15, 16, 17], [7, 8, 9, 10, 11, 12, 13, 14, 15, 16, 17, 18], [8, 9, 10, 11, 12, 13, 14, 15, 16, 17, 18, 19], [9, 10, 11, 12, 13, 14, 15, 16, 17, 18, 19, 20]]\n",
      "[[5, 6, 7, 8, 9, 10, 11, 12, 13, 14, 15, 16], [6, 7, 8, 9, 10, 11, 12, 13, 14, 15, 16, 17], [7, 8, 9, 10, 11, 12, 13, 14, 15, 16, 17, 18], [8, 9, 10, 11, 12, 13, 14, 15, 16, 17, 18, 19], [9, 10, 11, 12, 13, 14, 15, 16, 17, 18, 19, 20], [10, 11, 12, 13, 14, 15, 16, 17, 18, 19, 20, 21], [11, 12, 13, 14, 15, 16, 17, 18, 19, 20, 21, 22]]\n",
      "[[4, 6, 7, 8, 9, 10, 11, 12, 13, 14, 15, 16], [6, 7, 8, 9, 10, 11, 12, 13, 14, 15, 16, 17], [7, 8, 9, 10, 11, 12, 13, 14, 15, 16, 17, 18], [8, 9, 10, 11, 12, 13, 14, 15, 16, 17, 18, 19], [9, 10, 11, 12, 13, 14, 15, 16, 17, 18, 19, 20], [10, 11, 12, 13, 14, 15, 16, 17, 18, 19, 20, 21], [11, 12, 13, 14, 15, 16, 17, 18, 19, 20, 21, 22]]\n",
      "[[3, 6, 7, 8, 9, 10, 11, 12, 13, 14, 15, 16], [6, 7, 8, 9, 10, 11, 12, 13, 14, 15, 16, 17], [7, 8, 9, 10, 11, 12, 13, 14, 15, 16, 17, 18], [8, 9, 10, 11, 12, 13, 14, 15, 16, 17, 18, 19], [9, 10, 11, 12, 13, 14, 15, 16, 17, 18, 19, 20], [10, 11, 12, 13, 14, 15, 16, 17, 18, 19, 20, 21], [11, 12, 13, 14, 15, 16, 17, 18, 19, 20, 21, 22]]\n",
      "[[2, 6, 7, 8, 9, 10, 11, 12, 13, 14, 15, 16], [6, 7, 8, 9, 10, 11, 12, 13, 14, 15, 16, 17], [7, 8, 9, 10, 11, 12, 13, 14, 15, 16, 17, 18], [8, 9, 10, 11, 12, 13, 14, 15, 16, 17, 18, 19], [9, 10, 11, 12, 13, 14, 15, 16, 17, 18, 19, 20], [10, 11, 12, 13, 14, 15, 16, 17, 18, 19, 20, 21], [11, 12, 13, 14, 15, 16, 17, 18, 19, 20, 21, 22]]\n",
      "[[1, 6, 7, 8, 9, 10, 11, 12, 13, 14, 15, 16], [6, 7, 8, 9, 10, 11, 12, 13, 14, 15, 16, 17], [7, 8, 9, 10, 11, 12, 13, 14, 15, 16, 17, 18], [8, 9, 10, 11, 12, 13, 14, 15, 16, 17, 18, 19], [9, 10, 11, 12, 13, 14, 15, 16, 17, 18, 19, 20], [10, 11, 12, 13, 14, 15, 16, 17, 18, 19, 20, 21], [11, 12, 13, 14, 15, 16, 17, 18, 19, 20, 21, 22]]\n",
      "[[0, 6, 7, 8, 9, 10, 11, 12, 13, 14, 15, 16], [6, 7, 8, 9, 10, 11, 12, 13, 14, 15, 16, 17], [7, 8, 9, 10, 11, 12, 13, 14, 15, 16, 17, 18], [8, 9, 10, 11, 12, 13, 14, 15, 16, 17, 18, 19], [9, 10, 11, 12, 13, 14, 15, 16, 17, 18, 19, 20], [10, 11, 12, 13, 14, 15, 16, 17, 18, 19, 20, 21], [11, 12, 13, 14, 15, 16, 17, 18, 19, 20, 21, 22]]\n",
      "[[6, 7, 8, 9, 10, 11, 12, 13, 14, 15, 16, 17], [7, 8, 9, 10, 11, 12, 13, 14, 15, 16, 17, 18], [8, 9, 10, 11, 12, 13, 14, 15, 16, 17, 18, 19], [9, 10, 11, 12, 13, 14, 15, 16, 17, 18, 19, 20], [10, 11, 12, 13, 14, 15, 16, 17, 18, 19, 20, 21], [11, 12, 13, 14, 15, 16, 17, 18, 19, 20, 21, 22], [12, 13, 14, 15, 16, 17, 18, 19, 20, 21, 22, 23], [13, 14, 15, 16, 17, 18, 19, 20, 21, 22, 23, 24]]\n",
      "[[5, 7, 8, 9, 10, 11, 12, 13, 14, 15, 16, 17], [7, 8, 9, 10, 11, 12, 13, 14, 15, 16, 17, 18], [8, 9, 10, 11, 12, 13, 14, 15, 16, 17, 18, 19], [9, 10, 11, 12, 13, 14, 15, 16, 17, 18, 19, 20], [10, 11, 12, 13, 14, 15, 16, 17, 18, 19, 20, 21], [11, 12, 13, 14, 15, 16, 17, 18, 19, 20, 21, 22], [12, 13, 14, 15, 16, 17, 18, 19, 20, 21, 22, 23], [13, 14, 15, 16, 17, 18, 19, 20, 21, 22, 23, 24]]\n",
      "[[4, 7, 8, 9, 10, 11, 12, 13, 14, 15, 16, 17], [7, 8, 9, 10, 11, 12, 13, 14, 15, 16, 17, 18], [8, 9, 10, 11, 12, 13, 14, 15, 16, 17, 18, 19], [9, 10, 11, 12, 13, 14, 15, 16, 17, 18, 19, 20], [10, 11, 12, 13, 14, 15, 16, 17, 18, 19, 20, 21], [11, 12, 13, 14, 15, 16, 17, 18, 19, 20, 21, 22], [12, 13, 14, 15, 16, 17, 18, 19, 20, 21, 22, 23], [13, 14, 15, 16, 17, 18, 19, 20, 21, 22, 23, 24]]\n",
      "[[3, 7, 8, 9, 10, 11, 12, 13, 14, 15, 16, 17], [7, 8, 9, 10, 11, 12, 13, 14, 15, 16, 17, 18], [8, 9, 10, 11, 12, 13, 14, 15, 16, 17, 18, 19], [9, 10, 11, 12, 13, 14, 15, 16, 17, 18, 19, 20], [10, 11, 12, 13, 14, 15, 16, 17, 18, 19, 20, 21], [11, 12, 13, 14, 15, 16, 17, 18, 19, 20, 21, 22], [12, 13, 14, 15, 16, 17, 18, 19, 20, 21, 22, 23], [13, 14, 15, 16, 17, 18, 19, 20, 21, 22, 23, 24]]\n",
      "[[2, 7, 8, 9, 10, 11, 12, 13, 14, 15, 16, 17], [7, 8, 9, 10, 11, 12, 13, 14, 15, 16, 17, 18], [8, 9, 10, 11, 12, 13, 14, 15, 16, 17, 18, 19], [9, 10, 11, 12, 13, 14, 15, 16, 17, 18, 19, 20], [10, 11, 12, 13, 14, 15, 16, 17, 18, 19, 20, 21], [11, 12, 13, 14, 15, 16, 17, 18, 19, 20, 21, 22], [12, 13, 14, 15, 16, 17, 18, 19, 20, 21, 22, 23], [13, 14, 15, 16, 17, 18, 19, 20, 21, 22, 23, 24]]\n",
      "[[1, 7, 8, 9, 10, 11, 12, 13, 14, 15, 16, 17], [7, 8, 9, 10, 11, 12, 13, 14, 15, 16, 17, 18], [8, 9, 10, 11, 12, 13, 14, 15, 16, 17, 18, 19], [9, 10, 11, 12, 13, 14, 15, 16, 17, 18, 19, 20], [10, 11, 12, 13, 14, 15, 16, 17, 18, 19, 20, 21], [11, 12, 13, 14, 15, 16, 17, 18, 19, 20, 21, 22], [12, 13, 14, 15, 16, 17, 18, 19, 20, 21, 22, 23], [13, 14, 15, 16, 17, 18, 19, 20, 21, 22, 23, 24]]\n",
      "[[0, 7, 8, 9, 10, 11, 12, 13, 14, 15, 16, 17], [7, 8, 9, 10, 11, 12, 13, 14, 15, 16, 17, 18], [8, 9, 10, 11, 12, 13, 14, 15, 16, 17, 18, 19], [9, 10, 11, 12, 13, 14, 15, 16, 17, 18, 19, 20], [10, 11, 12, 13, 14, 15, 16, 17, 18, 19, 20, 21], [11, 12, 13, 14, 15, 16, 17, 18, 19, 20, 21, 22], [12, 13, 14, 15, 16, 17, 18, 19, 20, 21, 22, 23], [13, 14, 15, 16, 17, 18, 19, 20, 21, 22, 23, 24]]\n",
      "[[7, 8, 9, 10, 11, 12, 13, 14, 15, 16, 17, 18], [8, 9, 10, 11, 12, 13, 14, 15, 16, 17, 18, 19], [9, 10, 11, 12, 13, 14, 15, 16, 17, 18, 19, 20], [10, 11, 12, 13, 14, 15, 16, 17, 18, 19, 20, 21], [11, 12, 13, 14, 15, 16, 17, 18, 19, 20, 21, 22], [12, 13, 14, 15, 16, 17, 18, 19, 20, 21, 22, 23], [13, 14, 15, 16, 17, 18, 19, 20, 21, 22, 23, 24], [14, 15, 16, 17, 18, 19, 20, 21, 22, 23, 24, 25], [15, 16, 17, 18, 19, 20, 21, 22, 23, 24, 25, 26]]\n",
      "[[6, 8, 9, 10, 11, 12, 13, 14, 15, 16, 17, 18], [8, 9, 10, 11, 12, 13, 14, 15, 16, 17, 18, 19], [9, 10, 11, 12, 13, 14, 15, 16, 17, 18, 19, 20], [10, 11, 12, 13, 14, 15, 16, 17, 18, 19, 20, 21], [11, 12, 13, 14, 15, 16, 17, 18, 19, 20, 21, 22], [12, 13, 14, 15, 16, 17, 18, 19, 20, 21, 22, 23], [13, 14, 15, 16, 17, 18, 19, 20, 21, 22, 23, 24], [14, 15, 16, 17, 18, 19, 20, 21, 22, 23, 24, 25], [15, 16, 17, 18, 19, 20, 21, 22, 23, 24, 25, 26]]\n",
      "[[5, 8, 9, 10, 11, 12, 13, 14, 15, 16, 17, 18], [8, 9, 10, 11, 12, 13, 14, 15, 16, 17, 18, 19], [9, 10, 11, 12, 13, 14, 15, 16, 17, 18, 19, 20], [10, 11, 12, 13, 14, 15, 16, 17, 18, 19, 20, 21], [11, 12, 13, 14, 15, 16, 17, 18, 19, 20, 21, 22], [12, 13, 14, 15, 16, 17, 18, 19, 20, 21, 22, 23], [13, 14, 15, 16, 17, 18, 19, 20, 21, 22, 23, 24], [14, 15, 16, 17, 18, 19, 20, 21, 22, 23, 24, 25], [15, 16, 17, 18, 19, 20, 21, 22, 23, 24, 25, 26]]\n",
      "[[4, 8, 9, 10, 11, 12, 13, 14, 15, 16, 17, 18], [8, 9, 10, 11, 12, 13, 14, 15, 16, 17, 18, 19], [9, 10, 11, 12, 13, 14, 15, 16, 17, 18, 19, 20], [10, 11, 12, 13, 14, 15, 16, 17, 18, 19, 20, 21], [11, 12, 13, 14, 15, 16, 17, 18, 19, 20, 21, 22], [12, 13, 14, 15, 16, 17, 18, 19, 20, 21, 22, 23], [13, 14, 15, 16, 17, 18, 19, 20, 21, 22, 23, 24], [14, 15, 16, 17, 18, 19, 20, 21, 22, 23, 24, 25], [15, 16, 17, 18, 19, 20, 21, 22, 23, 24, 25, 26]]\n",
      "[[3, 8, 9, 10, 11, 12, 13, 14, 15, 16, 17, 18], [8, 9, 10, 11, 12, 13, 14, 15, 16, 17, 18, 19], [9, 10, 11, 12, 13, 14, 15, 16, 17, 18, 19, 20], [10, 11, 12, 13, 14, 15, 16, 17, 18, 19, 20, 21], [11, 12, 13, 14, 15, 16, 17, 18, 19, 20, 21, 22], [12, 13, 14, 15, 16, 17, 18, 19, 20, 21, 22, 23], [13, 14, 15, 16, 17, 18, 19, 20, 21, 22, 23, 24], [14, 15, 16, 17, 18, 19, 20, 21, 22, 23, 24, 25], [15, 16, 17, 18, 19, 20, 21, 22, 23, 24, 25, 26]]\n",
      "[[2, 8, 9, 10, 11, 12, 13, 14, 15, 16, 17, 18], [8, 9, 10, 11, 12, 13, 14, 15, 16, 17, 18, 19], [9, 10, 11, 12, 13, 14, 15, 16, 17, 18, 19, 20], [10, 11, 12, 13, 14, 15, 16, 17, 18, 19, 20, 21], [11, 12, 13, 14, 15, 16, 17, 18, 19, 20, 21, 22], [12, 13, 14, 15, 16, 17, 18, 19, 20, 21, 22, 23], [13, 14, 15, 16, 17, 18, 19, 20, 21, 22, 23, 24], [14, 15, 16, 17, 18, 19, 20, 21, 22, 23, 24, 25], [15, 16, 17, 18, 19, 20, 21, 22, 23, 24, 25, 26]]\n",
      "[[1, 8, 9, 10, 11, 12, 13, 14, 15, 16, 17, 18], [8, 9, 10, 11, 12, 13, 14, 15, 16, 17, 18, 19], [9, 10, 11, 12, 13, 14, 15, 16, 17, 18, 19, 20], [10, 11, 12, 13, 14, 15, 16, 17, 18, 19, 20, 21], [11, 12, 13, 14, 15, 16, 17, 18, 19, 20, 21, 22], [12, 13, 14, 15, 16, 17, 18, 19, 20, 21, 22, 23], [13, 14, 15, 16, 17, 18, 19, 20, 21, 22, 23, 24], [14, 15, 16, 17, 18, 19, 20, 21, 22, 23, 24, 25], [15, 16, 17, 18, 19, 20, 21, 22, 23, 24, 25, 26]]\n",
      "[[0, 8, 9, 10, 11, 12, 13, 14, 15, 16, 17, 18], [8, 9, 10, 11, 12, 13, 14, 15, 16, 17, 18, 19], [9, 10, 11, 12, 13, 14, 15, 16, 17, 18, 19, 20], [10, 11, 12, 13, 14, 15, 16, 17, 18, 19, 20, 21], [11, 12, 13, 14, 15, 16, 17, 18, 19, 20, 21, 22], [12, 13, 14, 15, 16, 17, 18, 19, 20, 21, 22, 23], [13, 14, 15, 16, 17, 18, 19, 20, 21, 22, 23, 24], [14, 15, 16, 17, 18, 19, 20, 21, 22, 23, 24, 25], [15, 16, 17, 18, 19, 20, 21, 22, 23, 24, 25, 26]]\n",
      "[[8, 9, 10, 11, 12, 13, 14, 15, 16, 17, 18, 19], [9, 10, 11, 12, 13, 14, 15, 16, 17, 18, 19, 20], [10, 11, 12, 13, 14, 15, 16, 17, 18, 19, 20, 21], [11, 12, 13, 14, 15, 16, 17, 18, 19, 20, 21, 22], [12, 13, 14, 15, 16, 17, 18, 19, 20, 21, 22, 23], [13, 14, 15, 16, 17, 18, 19, 20, 21, 22, 23, 24], [14, 15, 16, 17, 18, 19, 20, 21, 22, 23, 24, 25], [15, 16, 17, 18, 19, 20, 21, 22, 23, 24, 25, 26], [16, 17, 18, 19, 20, 21, 22, 23, 24, 25, 26, 27], [17, 18, 19, 20, 21, 22, 23, 24, 25, 26, 27, 28]]\n",
      "[[7, 9, 10, 11, 12, 13, 14, 15, 16, 17, 18, 19], [9, 10, 11, 12, 13, 14, 15, 16, 17, 18, 19, 20], [10, 11, 12, 13, 14, 15, 16, 17, 18, 19, 20, 21], [11, 12, 13, 14, 15, 16, 17, 18, 19, 20, 21, 22], [12, 13, 14, 15, 16, 17, 18, 19, 20, 21, 22, 23], [13, 14, 15, 16, 17, 18, 19, 20, 21, 22, 23, 24], [14, 15, 16, 17, 18, 19, 20, 21, 22, 23, 24, 25], [15, 16, 17, 18, 19, 20, 21, 22, 23, 24, 25, 26], [16, 17, 18, 19, 20, 21, 22, 23, 24, 25, 26, 27], [17, 18, 19, 20, 21, 22, 23, 24, 25, 26, 27, 28]]\n",
      "[[6, 9, 10, 11, 12, 13, 14, 15, 16, 17, 18, 19], [9, 10, 11, 12, 13, 14, 15, 16, 17, 18, 19, 20], [10, 11, 12, 13, 14, 15, 16, 17, 18, 19, 20, 21], [11, 12, 13, 14, 15, 16, 17, 18, 19, 20, 21, 22], [12, 13, 14, 15, 16, 17, 18, 19, 20, 21, 22, 23], [13, 14, 15, 16, 17, 18, 19, 20, 21, 22, 23, 24], [14, 15, 16, 17, 18, 19, 20, 21, 22, 23, 24, 25], [15, 16, 17, 18, 19, 20, 21, 22, 23, 24, 25, 26], [16, 17, 18, 19, 20, 21, 22, 23, 24, 25, 26, 27], [17, 18, 19, 20, 21, 22, 23, 24, 25, 26, 27, 28]]\n",
      "[[5, 9, 10, 11, 12, 13, 14, 15, 16, 17, 18, 19], [9, 10, 11, 12, 13, 14, 15, 16, 17, 18, 19, 20], [10, 11, 12, 13, 14, 15, 16, 17, 18, 19, 20, 21], [11, 12, 13, 14, 15, 16, 17, 18, 19, 20, 21, 22], [12, 13, 14, 15, 16, 17, 18, 19, 20, 21, 22, 23], [13, 14, 15, 16, 17, 18, 19, 20, 21, 22, 23, 24], [14, 15, 16, 17, 18, 19, 20, 21, 22, 23, 24, 25], [15, 16, 17, 18, 19, 20, 21, 22, 23, 24, 25, 26], [16, 17, 18, 19, 20, 21, 22, 23, 24, 25, 26, 27], [17, 18, 19, 20, 21, 22, 23, 24, 25, 26, 27, 28]]\n",
      "[[4, 9, 10, 11, 12, 13, 14, 15, 16, 17, 18, 19], [9, 10, 11, 12, 13, 14, 15, 16, 17, 18, 19, 20], [10, 11, 12, 13, 14, 15, 16, 17, 18, 19, 20, 21], [11, 12, 13, 14, 15, 16, 17, 18, 19, 20, 21, 22], [12, 13, 14, 15, 16, 17, 18, 19, 20, 21, 22, 23], [13, 14, 15, 16, 17, 18, 19, 20, 21, 22, 23, 24], [14, 15, 16, 17, 18, 19, 20, 21, 22, 23, 24, 25], [15, 16, 17, 18, 19, 20, 21, 22, 23, 24, 25, 26], [16, 17, 18, 19, 20, 21, 22, 23, 24, 25, 26, 27], [17, 18, 19, 20, 21, 22, 23, 24, 25, 26, 27, 28]]\n",
      "[[3, 9, 10, 11, 12, 13, 14, 15, 16, 17, 18, 19], [9, 10, 11, 12, 13, 14, 15, 16, 17, 18, 19, 20], [10, 11, 12, 13, 14, 15, 16, 17, 18, 19, 20, 21], [11, 12, 13, 14, 15, 16, 17, 18, 19, 20, 21, 22], [12, 13, 14, 15, 16, 17, 18, 19, 20, 21, 22, 23], [13, 14, 15, 16, 17, 18, 19, 20, 21, 22, 23, 24], [14, 15, 16, 17, 18, 19, 20, 21, 22, 23, 24, 25], [15, 16, 17, 18, 19, 20, 21, 22, 23, 24, 25, 26], [16, 17, 18, 19, 20, 21, 22, 23, 24, 25, 26, 27], [17, 18, 19, 20, 21, 22, 23, 24, 25, 26, 27, 28]]\n",
      "[[2, 9, 10, 11, 12, 13, 14, 15, 16, 17, 18, 19], [9, 10, 11, 12, 13, 14, 15, 16, 17, 18, 19, 20], [10, 11, 12, 13, 14, 15, 16, 17, 18, 19, 20, 21], [11, 12, 13, 14, 15, 16, 17, 18, 19, 20, 21, 22], [12, 13, 14, 15, 16, 17, 18, 19, 20, 21, 22, 23], [13, 14, 15, 16, 17, 18, 19, 20, 21, 22, 23, 24], [14, 15, 16, 17, 18, 19, 20, 21, 22, 23, 24, 25], [15, 16, 17, 18, 19, 20, 21, 22, 23, 24, 25, 26], [16, 17, 18, 19, 20, 21, 22, 23, 24, 25, 26, 27], [17, 18, 19, 20, 21, 22, 23, 24, 25, 26, 27, 28]]\n",
      "[[1, 9, 10, 11, 12, 13, 14, 15, 16, 17, 18, 19], [9, 10, 11, 12, 13, 14, 15, 16, 17, 18, 19, 20], [10, 11, 12, 13, 14, 15, 16, 17, 18, 19, 20, 21], [11, 12, 13, 14, 15, 16, 17, 18, 19, 20, 21, 22], [12, 13, 14, 15, 16, 17, 18, 19, 20, 21, 22, 23], [13, 14, 15, 16, 17, 18, 19, 20, 21, 22, 23, 24], [14, 15, 16, 17, 18, 19, 20, 21, 22, 23, 24, 25], [15, 16, 17, 18, 19, 20, 21, 22, 23, 24, 25, 26], [16, 17, 18, 19, 20, 21, 22, 23, 24, 25, 26, 27], [17, 18, 19, 20, 21, 22, 23, 24, 25, 26, 27, 28]]\n",
      "[[0, 9, 10, 11, 12, 13, 14, 15, 16, 17, 18, 19], [9, 10, 11, 12, 13, 14, 15, 16, 17, 18, 19, 20], [10, 11, 12, 13, 14, 15, 16, 17, 18, 19, 20, 21], [11, 12, 13, 14, 15, 16, 17, 18, 19, 20, 21, 22], [12, 13, 14, 15, 16, 17, 18, 19, 20, 21, 22, 23], [13, 14, 15, 16, 17, 18, 19, 20, 21, 22, 23, 24], [14, 15, 16, 17, 18, 19, 20, 21, 22, 23, 24, 25], [15, 16, 17, 18, 19, 20, 21, 22, 23, 24, 25, 26], [16, 17, 18, 19, 20, 21, 22, 23, 24, 25, 26, 27], [17, 18, 19, 20, 21, 22, 23, 24, 25, 26, 27, 28]]\n",
      "[[9, 10, 11, 12, 13, 14, 15, 16, 17, 18, 19, 20], [10, 11, 12, 13, 14, 15, 16, 17, 18, 19, 20, 21], [11, 12, 13, 14, 15, 16, 17, 18, 19, 20, 21, 22], [12, 13, 14, 15, 16, 17, 18, 19, 20, 21, 22, 23], [13, 14, 15, 16, 17, 18, 19, 20, 21, 22, 23, 24], [14, 15, 16, 17, 18, 19, 20, 21, 22, 23, 24, 25], [15, 16, 17, 18, 19, 20, 21, 22, 23, 24, 25, 26], [16, 17, 18, 19, 20, 21, 22, 23, 24, 25, 26, 27], [17, 18, 19, 20, 21, 22, 23, 24, 25, 26, 27, 28], [18, 19, 20, 21, 22, 23, 24, 25, 26, 27], [19, 20, 21, 22, 23, 24, 25, 26, 27]]\n",
      "[[8, 10, 11, 12, 13, 14, 15, 16, 17, 18, 19, 20], [10, 11, 12, 13, 14, 15, 16, 17, 18, 19, 20, 21], [11, 12, 13, 14, 15, 16, 17, 18, 19, 20, 21, 22], [12, 13, 14, 15, 16, 17, 18, 19, 20, 21, 22, 23], [13, 14, 15, 16, 17, 18, 19, 20, 21, 22, 23, 24], [14, 15, 16, 17, 18, 19, 20, 21, 22, 23, 24, 25], [15, 16, 17, 18, 19, 20, 21, 22, 23, 24, 25, 26], [16, 17, 18, 19, 20, 21, 22, 23, 24, 25, 26, 27], [17, 18, 19, 20, 21, 22, 23, 24, 25, 26, 27, 28], [18, 19, 20, 21, 22, 23, 24, 25, 26, 27], [19, 20, 21, 22, 23, 24, 25, 26, 27]]\n",
      "[[7, 10, 11, 12, 13, 14, 15, 16, 17, 18, 19, 20], [10, 11, 12, 13, 14, 15, 16, 17, 18, 19, 20, 21], [11, 12, 13, 14, 15, 16, 17, 18, 19, 20, 21, 22], [12, 13, 14, 15, 16, 17, 18, 19, 20, 21, 22, 23], [13, 14, 15, 16, 17, 18, 19, 20, 21, 22, 23, 24], [14, 15, 16, 17, 18, 19, 20, 21, 22, 23, 24, 25], [15, 16, 17, 18, 19, 20, 21, 22, 23, 24, 25, 26], [16, 17, 18, 19, 20, 21, 22, 23, 24, 25, 26, 27], [17, 18, 19, 20, 21, 22, 23, 24, 25, 26, 27, 28], [18, 19, 20, 21, 22, 23, 24, 25, 26, 27], [19, 20, 21, 22, 23, 24, 25, 26, 27]]\n",
      "[[6, 10, 11, 12, 13, 14, 15, 16, 17, 18, 19, 20], [10, 11, 12, 13, 14, 15, 16, 17, 18, 19, 20, 21], [11, 12, 13, 14, 15, 16, 17, 18, 19, 20, 21, 22], [12, 13, 14, 15, 16, 17, 18, 19, 20, 21, 22, 23], [13, 14, 15, 16, 17, 18, 19, 20, 21, 22, 23, 24], [14, 15, 16, 17, 18, 19, 20, 21, 22, 23, 24, 25], [15, 16, 17, 18, 19, 20, 21, 22, 23, 24, 25, 26], [16, 17, 18, 19, 20, 21, 22, 23, 24, 25, 26, 27], [17, 18, 19, 20, 21, 22, 23, 24, 25, 26, 27, 28], [18, 19, 20, 21, 22, 23, 24, 25, 26, 27], [19, 20, 21, 22, 23, 24, 25, 26, 27]]\n",
      "[[5, 10, 11, 12, 13, 14, 15, 16, 17, 18, 19, 20], [10, 11, 12, 13, 14, 15, 16, 17, 18, 19, 20, 21], [11, 12, 13, 14, 15, 16, 17, 18, 19, 20, 21, 22], [12, 13, 14, 15, 16, 17, 18, 19, 20, 21, 22, 23], [13, 14, 15, 16, 17, 18, 19, 20, 21, 22, 23, 24], [14, 15, 16, 17, 18, 19, 20, 21, 22, 23, 24, 25], [15, 16, 17, 18, 19, 20, 21, 22, 23, 24, 25, 26], [16, 17, 18, 19, 20, 21, 22, 23, 24, 25, 26, 27], [17, 18, 19, 20, 21, 22, 23, 24, 25, 26, 27, 28], [18, 19, 20, 21, 22, 23, 24, 25, 26, 27], [19, 20, 21, 22, 23, 24, 25, 26, 27]]\n",
      "[[4, 10, 11, 12, 13, 14, 15, 16, 17, 18, 19, 20], [10, 11, 12, 13, 14, 15, 16, 17, 18, 19, 20, 21], [11, 12, 13, 14, 15, 16, 17, 18, 19, 20, 21, 22], [12, 13, 14, 15, 16, 17, 18, 19, 20, 21, 22, 23], [13, 14, 15, 16, 17, 18, 19, 20, 21, 22, 23, 24], [14, 15, 16, 17, 18, 19, 20, 21, 22, 23, 24, 25], [15, 16, 17, 18, 19, 20, 21, 22, 23, 24, 25, 26], [16, 17, 18, 19, 20, 21, 22, 23, 24, 25, 26, 27], [17, 18, 19, 20, 21, 22, 23, 24, 25, 26, 27, 28], [18, 19, 20, 21, 22, 23, 24, 25, 26, 27], [19, 20, 21, 22, 23, 24, 25, 26, 27]]\n",
      "[[3, 10, 11, 12, 13, 14, 15, 16, 17, 18, 19, 20], [10, 11, 12, 13, 14, 15, 16, 17, 18, 19, 20, 21], [11, 12, 13, 14, 15, 16, 17, 18, 19, 20, 21, 22], [12, 13, 14, 15, 16, 17, 18, 19, 20, 21, 22, 23], [13, 14, 15, 16, 17, 18, 19, 20, 21, 22, 23, 24], [14, 15, 16, 17, 18, 19, 20, 21, 22, 23, 24, 25], [15, 16, 17, 18, 19, 20, 21, 22, 23, 24, 25, 26], [16, 17, 18, 19, 20, 21, 22, 23, 24, 25, 26, 27], [17, 18, 19, 20, 21, 22, 23, 24, 25, 26, 27, 28], [18, 19, 20, 21, 22, 23, 24, 25, 26, 27], [19, 20, 21, 22, 23, 24, 25, 26, 27]]\n",
      "[[2, 10, 11, 12, 13, 14, 15, 16, 17, 18, 19, 20], [10, 11, 12, 13, 14, 15, 16, 17, 18, 19, 20, 21], [11, 12, 13, 14, 15, 16, 17, 18, 19, 20, 21, 22], [12, 13, 14, 15, 16, 17, 18, 19, 20, 21, 22, 23], [13, 14, 15, 16, 17, 18, 19, 20, 21, 22, 23, 24], [14, 15, 16, 17, 18, 19, 20, 21, 22, 23, 24, 25], [15, 16, 17, 18, 19, 20, 21, 22, 23, 24, 25, 26], [16, 17, 18, 19, 20, 21, 22, 23, 24, 25, 26, 27], [17, 18, 19, 20, 21, 22, 23, 24, 25, 26, 27, 28], [18, 19, 20, 21, 22, 23, 24, 25, 26, 27], [19, 20, 21, 22, 23, 24, 25, 26, 27]]\n",
      "[[1, 10, 11, 12, 13, 14, 15, 16, 17, 18, 19, 20], [10, 11, 12, 13, 14, 15, 16, 17, 18, 19, 20, 21], [11, 12, 13, 14, 15, 16, 17, 18, 19, 20, 21, 22], [12, 13, 14, 15, 16, 17, 18, 19, 20, 21, 22, 23], [13, 14, 15, 16, 17, 18, 19, 20, 21, 22, 23, 24], [14, 15, 16, 17, 18, 19, 20, 21, 22, 23, 24, 25], [15, 16, 17, 18, 19, 20, 21, 22, 23, 24, 25, 26], [16, 17, 18, 19, 20, 21, 22, 23, 24, 25, 26, 27], [17, 18, 19, 20, 21, 22, 23, 24, 25, 26, 27, 28], [18, 19, 20, 21, 22, 23, 24, 25, 26, 27], [19, 20, 21, 22, 23, 24, 25, 26, 27]]\n",
      "[[0, 10, 11, 12, 13, 14, 15, 16, 17, 18, 19, 20], [10, 11, 12, 13, 14, 15, 16, 17, 18, 19, 20, 21], [11, 12, 13, 14, 15, 16, 17, 18, 19, 20, 21, 22], [12, 13, 14, 15, 16, 17, 18, 19, 20, 21, 22, 23], [13, 14, 15, 16, 17, 18, 19, 20, 21, 22, 23, 24], [14, 15, 16, 17, 18, 19, 20, 21, 22, 23, 24, 25], [15, 16, 17, 18, 19, 20, 21, 22, 23, 24, 25, 26], [16, 17, 18, 19, 20, 21, 22, 23, 24, 25, 26, 27], [17, 18, 19, 20, 21, 22, 23, 24, 25, 26, 27, 28], [18, 19, 20, 21, 22, 23, 24, 25, 26, 27], [19, 20, 21, 22, 23, 24, 25, 26, 27]]\n",
      "[[10, 11, 12, 13, 14, 15, 16, 17, 18, 19, 20, 21], [11, 12, 13, 14, 15, 16, 17, 18, 19, 20, 21, 22], [12, 13, 14, 15, 16, 17, 18, 19, 20, 21, 22, 23], [13, 14, 15, 16, 17, 18, 19, 20, 21, 22, 23, 24], [14, 15, 16, 17, 18, 19, 20, 21, 22, 23, 24, 25], [15, 16, 17, 18, 19, 20, 21, 22, 23, 24, 25, 26], [16, 17, 18, 19, 20, 21, 22, 23, 24, 25, 26, 27], [17, 18, 19, 20, 21, 22, 23, 24, 25, 26, 27, 28], [18, 19, 20, 21, 22, 23, 24, 25, 26, 27], [19, 20, 21, 22, 23, 24, 25, 26, 27], [20, 21, 22, 23, 24, 25, 26]]\n",
      "[[9, 11, 12, 13, 14, 15, 16, 17, 18, 19, 20, 21], [11, 12, 13, 14, 15, 16, 17, 18, 19, 20, 21, 22], [12, 13, 14, 15, 16, 17, 18, 19, 20, 21, 22, 23], [13, 14, 15, 16, 17, 18, 19, 20, 21, 22, 23, 24], [14, 15, 16, 17, 18, 19, 20, 21, 22, 23, 24, 25], [15, 16, 17, 18, 19, 20, 21, 22, 23, 24, 25, 26], [16, 17, 18, 19, 20, 21, 22, 23, 24, 25, 26, 27], [17, 18, 19, 20, 21, 22, 23, 24, 25, 26, 27, 28], [18, 19, 20, 21, 22, 23, 24, 25, 26, 27], [19, 20, 21, 22, 23, 24, 25, 26, 27], [20, 21, 22, 23, 24, 25, 26]]\n",
      "[[8, 11, 12, 13, 14, 15, 16, 17, 18, 19, 20, 21], [11, 12, 13, 14, 15, 16, 17, 18, 19, 20, 21, 22], [12, 13, 14, 15, 16, 17, 18, 19, 20, 21, 22, 23], [13, 14, 15, 16, 17, 18, 19, 20, 21, 22, 23, 24], [14, 15, 16, 17, 18, 19, 20, 21, 22, 23, 24, 25], [15, 16, 17, 18, 19, 20, 21, 22, 23, 24, 25, 26], [16, 17, 18, 19, 20, 21, 22, 23, 24, 25, 26, 27], [17, 18, 19, 20, 21, 22, 23, 24, 25, 26, 27, 28], [18, 19, 20, 21, 22, 23, 24, 25, 26, 27], [19, 20, 21, 22, 23, 24, 25, 26, 27], [20, 21, 22, 23, 24, 25, 26]]\n",
      "[[7, 11, 12, 13, 14, 15, 16, 17, 18, 19, 20, 21], [11, 12, 13, 14, 15, 16, 17, 18, 19, 20, 21, 22], [12, 13, 14, 15, 16, 17, 18, 19, 20, 21, 22, 23], [13, 14, 15, 16, 17, 18, 19, 20, 21, 22, 23, 24], [14, 15, 16, 17, 18, 19, 20, 21, 22, 23, 24, 25], [15, 16, 17, 18, 19, 20, 21, 22, 23, 24, 25, 26], [16, 17, 18, 19, 20, 21, 22, 23, 24, 25, 26, 27], [17, 18, 19, 20, 21, 22, 23, 24, 25, 26, 27, 28], [18, 19, 20, 21, 22, 23, 24, 25, 26, 27], [19, 20, 21, 22, 23, 24, 25, 26, 27], [20, 21, 22, 23, 24, 25, 26]]\n",
      "[[6, 11, 12, 13, 14, 15, 16, 17, 18, 19, 20, 21], [11, 12, 13, 14, 15, 16, 17, 18, 19, 20, 21, 22], [12, 13, 14, 15, 16, 17, 18, 19, 20, 21, 22, 23], [13, 14, 15, 16, 17, 18, 19, 20, 21, 22, 23, 24], [14, 15, 16, 17, 18, 19, 20, 21, 22, 23, 24, 25], [15, 16, 17, 18, 19, 20, 21, 22, 23, 24, 25, 26], [16, 17, 18, 19, 20, 21, 22, 23, 24, 25, 26, 27], [17, 18, 19, 20, 21, 22, 23, 24, 25, 26, 27, 28], [18, 19, 20, 21, 22, 23, 24, 25, 26, 27], [19, 20, 21, 22, 23, 24, 25, 26, 27], [20, 21, 22, 23, 24, 25, 26]]\n",
      "[[5, 11, 12, 13, 14, 15, 16, 17, 18, 19, 20, 21], [11, 12, 13, 14, 15, 16, 17, 18, 19, 20, 21, 22], [12, 13, 14, 15, 16, 17, 18, 19, 20, 21, 22, 23], [13, 14, 15, 16, 17, 18, 19, 20, 21, 22, 23, 24], [14, 15, 16, 17, 18, 19, 20, 21, 22, 23, 24, 25], [15, 16, 17, 18, 19, 20, 21, 22, 23, 24, 25, 26], [16, 17, 18, 19, 20, 21, 22, 23, 24, 25, 26, 27], [17, 18, 19, 20, 21, 22, 23, 24, 25, 26, 27, 28], [18, 19, 20, 21, 22, 23, 24, 25, 26, 27], [19, 20, 21, 22, 23, 24, 25, 26, 27], [20, 21, 22, 23, 24, 25, 26]]\n",
      "[[4, 11, 12, 13, 14, 15, 16, 17, 18, 19, 20, 21], [11, 12, 13, 14, 15, 16, 17, 18, 19, 20, 21, 22], [12, 13, 14, 15, 16, 17, 18, 19, 20, 21, 22, 23], [13, 14, 15, 16, 17, 18, 19, 20, 21, 22, 23, 24], [14, 15, 16, 17, 18, 19, 20, 21, 22, 23, 24, 25], [15, 16, 17, 18, 19, 20, 21, 22, 23, 24, 25, 26], [16, 17, 18, 19, 20, 21, 22, 23, 24, 25, 26, 27], [17, 18, 19, 20, 21, 22, 23, 24, 25, 26, 27, 28], [18, 19, 20, 21, 22, 23, 24, 25, 26, 27], [19, 20, 21, 22, 23, 24, 25, 26, 27], [20, 21, 22, 23, 24, 25, 26]]\n",
      "[[3, 11, 12, 13, 14, 15, 16, 17, 18, 19, 20, 21], [11, 12, 13, 14, 15, 16, 17, 18, 19, 20, 21, 22], [12, 13, 14, 15, 16, 17, 18, 19, 20, 21, 22, 23], [13, 14, 15, 16, 17, 18, 19, 20, 21, 22, 23, 24], [14, 15, 16, 17, 18, 19, 20, 21, 22, 23, 24, 25], [15, 16, 17, 18, 19, 20, 21, 22, 23, 24, 25, 26], [16, 17, 18, 19, 20, 21, 22, 23, 24, 25, 26, 27], [17, 18, 19, 20, 21, 22, 23, 24, 25, 26, 27, 28], [18, 19, 20, 21, 22, 23, 24, 25, 26, 27], [19, 20, 21, 22, 23, 24, 25, 26, 27], [20, 21, 22, 23, 24, 25, 26]]\n",
      "[[2, 11, 12, 13, 14, 15, 16, 17, 18, 19, 20, 21], [11, 12, 13, 14, 15, 16, 17, 18, 19, 20, 21, 22], [12, 13, 14, 15, 16, 17, 18, 19, 20, 21, 22, 23], [13, 14, 15, 16, 17, 18, 19, 20, 21, 22, 23, 24], [14, 15, 16, 17, 18, 19, 20, 21, 22, 23, 24, 25], [15, 16, 17, 18, 19, 20, 21, 22, 23, 24, 25, 26], [16, 17, 18, 19, 20, 21, 22, 23, 24, 25, 26, 27], [17, 18, 19, 20, 21, 22, 23, 24, 25, 26, 27, 28], [18, 19, 20, 21, 22, 23, 24, 25, 26, 27], [19, 20, 21, 22, 23, 24, 25, 26, 27], [20, 21, 22, 23, 24, 25, 26]]\n",
      "[[1, 11, 12, 13, 14, 15, 16, 17, 18, 19, 20, 21], [11, 12, 13, 14, 15, 16, 17, 18, 19, 20, 21, 22], [12, 13, 14, 15, 16, 17, 18, 19, 20, 21, 22, 23], [13, 14, 15, 16, 17, 18, 19, 20, 21, 22, 23, 24], [14, 15, 16, 17, 18, 19, 20, 21, 22, 23, 24, 25], [15, 16, 17, 18, 19, 20, 21, 22, 23, 24, 25, 26], [16, 17, 18, 19, 20, 21, 22, 23, 24, 25, 26, 27], [17, 18, 19, 20, 21, 22, 23, 24, 25, 26, 27, 28], [18, 19, 20, 21, 22, 23, 24, 25, 26, 27], [19, 20, 21, 22, 23, 24, 25, 26, 27], [20, 21, 22, 23, 24, 25, 26]]\n",
      "[[11, 12, 13, 14, 15, 16, 17, 18, 19, 20, 21, 22], [12, 13, 14, 15, 16, 17, 18, 19, 20, 21, 22, 23], [13, 14, 15, 16, 17, 18, 19, 20, 21, 22, 23, 24], [14, 15, 16, 17, 18, 19, 20, 21, 22, 23, 24, 25], [15, 16, 17, 18, 19, 20, 21, 22, 23, 24, 25, 26], [16, 17, 18, 19, 20, 21, 22, 23, 24, 25, 26, 27], [17, 18, 19, 20, 21, 22, 23, 24, 25, 26, 27, 28], [18, 19, 20, 21, 22, 23, 24, 25, 26, 27], [19, 20, 21, 22, 23, 24, 25, 26, 27], [20, 21, 22, 23, 24, 25, 26], [21, 22, 23, 24, 25, 26, 27, 28, 29]]\n",
      "[[10, 12, 13, 14, 15, 16, 17, 18, 19, 20, 21, 22], [12, 13, 14, 15, 16, 17, 18, 19, 20, 21, 22, 23], [13, 14, 15, 16, 17, 18, 19, 20, 21, 22, 23, 24], [14, 15, 16, 17, 18, 19, 20, 21, 22, 23, 24, 25], [15, 16, 17, 18, 19, 20, 21, 22, 23, 24, 25, 26], [16, 17, 18, 19, 20, 21, 22, 23, 24, 25, 26, 27], [17, 18, 19, 20, 21, 22, 23, 24, 25, 26, 27, 28], [18, 19, 20, 21, 22, 23, 24, 25, 26, 27], [19, 20, 21, 22, 23, 24, 25, 26, 27], [20, 21, 22, 23, 24, 25, 26], [21, 22, 23, 24, 25, 26, 27, 28, 29]]\n",
      "[[9, 12, 13, 14, 15, 16, 17, 18, 19, 20, 21, 22], [12, 13, 14, 15, 16, 17, 18, 19, 20, 21, 22, 23], [13, 14, 15, 16, 17, 18, 19, 20, 21, 22, 23, 24], [14, 15, 16, 17, 18, 19, 20, 21, 22, 23, 24, 25], [15, 16, 17, 18, 19, 20, 21, 22, 23, 24, 25, 26], [16, 17, 18, 19, 20, 21, 22, 23, 24, 25, 26, 27], [17, 18, 19, 20, 21, 22, 23, 24, 25, 26, 27, 28], [18, 19, 20, 21, 22, 23, 24, 25, 26, 27], [19, 20, 21, 22, 23, 24, 25, 26, 27], [20, 21, 22, 23, 24, 25, 26], [21, 22, 23, 24, 25, 26, 27, 28, 29]]\n",
      "[[8, 12, 13, 14, 15, 16, 17, 18, 19, 20, 21, 22], [12, 13, 14, 15, 16, 17, 18, 19, 20, 21, 22, 23], [13, 14, 15, 16, 17, 18, 19, 20, 21, 22, 23, 24], [14, 15, 16, 17, 18, 19, 20, 21, 22, 23, 24, 25], [15, 16, 17, 18, 19, 20, 21, 22, 23, 24, 25, 26], [16, 17, 18, 19, 20, 21, 22, 23, 24, 25, 26, 27], [17, 18, 19, 20, 21, 22, 23, 24, 25, 26, 27, 28], [18, 19, 20, 21, 22, 23, 24, 25, 26, 27], [19, 20, 21, 22, 23, 24, 25, 26, 27], [20, 21, 22, 23, 24, 25, 26], [21, 22, 23, 24, 25, 26, 27, 28, 29]]\n",
      "[[7, 12, 13, 14, 15, 16, 17, 18, 19, 20, 21, 22], [12, 13, 14, 15, 16, 17, 18, 19, 20, 21, 22, 23], [13, 14, 15, 16, 17, 18, 19, 20, 21, 22, 23, 24], [14, 15, 16, 17, 18, 19, 20, 21, 22, 23, 24, 25], [15, 16, 17, 18, 19, 20, 21, 22, 23, 24, 25, 26], [16, 17, 18, 19, 20, 21, 22, 23, 24, 25, 26, 27], [17, 18, 19, 20, 21, 22, 23, 24, 25, 26, 27, 28], [18, 19, 20, 21, 22, 23, 24, 25, 26, 27], [19, 20, 21, 22, 23, 24, 25, 26, 27], [20, 21, 22, 23, 24, 25, 26], [21, 22, 23, 24, 25, 26, 27, 28, 29]]\n",
      "[[6, 12, 13, 14, 15, 16, 17, 18, 19, 20, 21, 22], [12, 13, 14, 15, 16, 17, 18, 19, 20, 21, 22, 23], [13, 14, 15, 16, 17, 18, 19, 20, 21, 22, 23, 24], [14, 15, 16, 17, 18, 19, 20, 21, 22, 23, 24, 25], [15, 16, 17, 18, 19, 20, 21, 22, 23, 24, 25, 26], [16, 17, 18, 19, 20, 21, 22, 23, 24, 25, 26, 27], [17, 18, 19, 20, 21, 22, 23, 24, 25, 26, 27, 28], [18, 19, 20, 21, 22, 23, 24, 25, 26, 27], [19, 20, 21, 22, 23, 24, 25, 26, 27], [20, 21, 22, 23, 24, 25, 26], [21, 22, 23, 24, 25, 26, 27, 28, 29]]\n",
      "[[5, 12, 13, 14, 15, 16, 17, 18, 19, 20, 21, 22], [12, 13, 14, 15, 16, 17, 18, 19, 20, 21, 22, 23], [13, 14, 15, 16, 17, 18, 19, 20, 21, 22, 23, 24], [14, 15, 16, 17, 18, 19, 20, 21, 22, 23, 24, 25], [15, 16, 17, 18, 19, 20, 21, 22, 23, 24, 25, 26], [16, 17, 18, 19, 20, 21, 22, 23, 24, 25, 26, 27], [17, 18, 19, 20, 21, 22, 23, 24, 25, 26, 27, 28], [18, 19, 20, 21, 22, 23, 24, 25, 26, 27], [19, 20, 21, 22, 23, 24, 25, 26, 27], [20, 21, 22, 23, 24, 25, 26], [21, 22, 23, 24, 25, 26, 27, 28, 29]]\n",
      "[[4, 12, 13, 14, 15, 16, 17, 18, 19, 20, 21, 22], [12, 13, 14, 15, 16, 17, 18, 19, 20, 21, 22, 23], [13, 14, 15, 16, 17, 18, 19, 20, 21, 22, 23, 24], [14, 15, 16, 17, 18, 19, 20, 21, 22, 23, 24, 25], [15, 16, 17, 18, 19, 20, 21, 22, 23, 24, 25, 26], [16, 17, 18, 19, 20, 21, 22, 23, 24, 25, 26, 27], [17, 18, 19, 20, 21, 22, 23, 24, 25, 26, 27, 28], [18, 19, 20, 21, 22, 23, 24, 25, 26, 27], [19, 20, 21, 22, 23, 24, 25, 26, 27], [20, 21, 22, 23, 24, 25, 26], [21, 22, 23, 24, 25, 26, 27, 28, 29]]\n",
      "[[3, 12, 13, 14, 15, 16, 17, 18, 19, 20, 21, 22], [12, 13, 14, 15, 16, 17, 18, 19, 20, 21, 22, 23], [13, 14, 15, 16, 17, 18, 19, 20, 21, 22, 23, 24], [14, 15, 16, 17, 18, 19, 20, 21, 22, 23, 24, 25], [15, 16, 17, 18, 19, 20, 21, 22, 23, 24, 25, 26], [16, 17, 18, 19, 20, 21, 22, 23, 24, 25, 26, 27], [17, 18, 19, 20, 21, 22, 23, 24, 25, 26, 27, 28], [18, 19, 20, 21, 22, 23, 24, 25, 26, 27], [19, 20, 21, 22, 23, 24, 25, 26, 27], [20, 21, 22, 23, 24, 25, 26], [21, 22, 23, 24, 25, 26, 27, 28, 29]]\n",
      "[[2, 12, 13, 14, 15, 16, 17, 18, 19, 20, 21, 22], [12, 13, 14, 15, 16, 17, 18, 19, 20, 21, 22, 23], [13, 14, 15, 16, 17, 18, 19, 20, 21, 22, 23, 24], [14, 15, 16, 17, 18, 19, 20, 21, 22, 23, 24, 25], [15, 16, 17, 18, 19, 20, 21, 22, 23, 24, 25, 26], [16, 17, 18, 19, 20, 21, 22, 23, 24, 25, 26, 27], [17, 18, 19, 20, 21, 22, 23, 24, 25, 26, 27, 28], [18, 19, 20, 21, 22, 23, 24, 25, 26, 27], [19, 20, 21, 22, 23, 24, 25, 26, 27], [20, 21, 22, 23, 24, 25, 26], [21, 22, 23, 24, 25, 26, 27, 28, 29]]\n",
      "[[12, 13, 14, 15, 16, 17, 18, 19, 20, 21, 22, 23], [13, 14, 15, 16, 17, 18, 19, 20, 21, 22, 23, 24], [14, 15, 16, 17, 18, 19, 20, 21, 22, 23, 24, 25], [15, 16, 17, 18, 19, 20, 21, 22, 23, 24, 25, 26], [16, 17, 18, 19, 20, 21, 22, 23, 24, 25, 26, 27], [17, 18, 19, 20, 21, 22, 23, 24, 25, 26, 27, 28], [18, 19, 20, 21, 22, 23, 24, 25, 26, 27], [19, 20, 21, 22, 23, 24, 25, 26, 27], [20, 21, 22, 23, 24, 25, 26], [21, 22, 23, 24, 25, 26, 27, 28, 29], [22, 23, 24, 25, 26, 27, 28, 29, 30, 31, 32, 33]]\n",
      "[[11, 13, 14, 15, 16, 17, 18, 19, 20, 21, 22, 23], [13, 14, 15, 16, 17, 18, 19, 20, 21, 22, 23, 24], [14, 15, 16, 17, 18, 19, 20, 21, 22, 23, 24, 25], [15, 16, 17, 18, 19, 20, 21, 22, 23, 24, 25, 26], [16, 17, 18, 19, 20, 21, 22, 23, 24, 25, 26, 27], [17, 18, 19, 20, 21, 22, 23, 24, 25, 26, 27, 28], [18, 19, 20, 21, 22, 23, 24, 25, 26, 27], [19, 20, 21, 22, 23, 24, 25, 26, 27], [20, 21, 22, 23, 24, 25, 26], [21, 22, 23, 24, 25, 26, 27, 28, 29], [22, 23, 24, 25, 26, 27, 28, 29, 30, 31, 32, 33]]\n",
      "[[10, 13, 14, 15, 16, 17, 18, 19, 20, 21, 22, 23], [13, 14, 15, 16, 17, 18, 19, 20, 21, 22, 23, 24], [14, 15, 16, 17, 18, 19, 20, 21, 22, 23, 24, 25], [15, 16, 17, 18, 19, 20, 21, 22, 23, 24, 25, 26], [16, 17, 18, 19, 20, 21, 22, 23, 24, 25, 26, 27], [17, 18, 19, 20, 21, 22, 23, 24, 25, 26, 27, 28], [18, 19, 20, 21, 22, 23, 24, 25, 26, 27], [19, 20, 21, 22, 23, 24, 25, 26, 27], [20, 21, 22, 23, 24, 25, 26], [21, 22, 23, 24, 25, 26, 27, 28, 29], [22, 23, 24, 25, 26, 27, 28, 29, 30, 31, 32, 33]]\n",
      "[[9, 13, 14, 15, 16, 17, 18, 19, 20, 21, 22, 23], [13, 14, 15, 16, 17, 18, 19, 20, 21, 22, 23, 24], [14, 15, 16, 17, 18, 19, 20, 21, 22, 23, 24, 25], [15, 16, 17, 18, 19, 20, 21, 22, 23, 24, 25, 26], [16, 17, 18, 19, 20, 21, 22, 23, 24, 25, 26, 27], [17, 18, 19, 20, 21, 22, 23, 24, 25, 26, 27, 28], [18, 19, 20, 21, 22, 23, 24, 25, 26, 27], [19, 20, 21, 22, 23, 24, 25, 26, 27], [20, 21, 22, 23, 24, 25, 26], [21, 22, 23, 24, 25, 26, 27, 28, 29], [22, 23, 24, 25, 26, 27, 28, 29, 30, 31, 32, 33]]\n",
      "[[8, 13, 14, 15, 16, 17, 18, 19, 20, 21, 22, 23], [13, 14, 15, 16, 17, 18, 19, 20, 21, 22, 23, 24], [14, 15, 16, 17, 18, 19, 20, 21, 22, 23, 24, 25], [15, 16, 17, 18, 19, 20, 21, 22, 23, 24, 25, 26], [16, 17, 18, 19, 20, 21, 22, 23, 24, 25, 26, 27], [17, 18, 19, 20, 21, 22, 23, 24, 25, 26, 27, 28], [18, 19, 20, 21, 22, 23, 24, 25, 26, 27], [19, 20, 21, 22, 23, 24, 25, 26, 27], [20, 21, 22, 23, 24, 25, 26], [21, 22, 23, 24, 25, 26, 27, 28, 29], [22, 23, 24, 25, 26, 27, 28, 29, 30, 31, 32, 33]]\n",
      "[[7, 13, 14, 15, 16, 17, 18, 19, 20, 21, 22, 23], [13, 14, 15, 16, 17, 18, 19, 20, 21, 22, 23, 24], [14, 15, 16, 17, 18, 19, 20, 21, 22, 23, 24, 25], [15, 16, 17, 18, 19, 20, 21, 22, 23, 24, 25, 26], [16, 17, 18, 19, 20, 21, 22, 23, 24, 25, 26, 27], [17, 18, 19, 20, 21, 22, 23, 24, 25, 26, 27, 28], [18, 19, 20, 21, 22, 23, 24, 25, 26, 27], [19, 20, 21, 22, 23, 24, 25, 26, 27], [20, 21, 22, 23, 24, 25, 26], [21, 22, 23, 24, 25, 26, 27, 28, 29], [22, 23, 24, 25, 26, 27, 28, 29, 30, 31, 32, 33]]\n",
      "[[6, 13, 14, 15, 16, 17, 18, 19, 20, 21, 22, 23], [13, 14, 15, 16, 17, 18, 19, 20, 21, 22, 23, 24], [14, 15, 16, 17, 18, 19, 20, 21, 22, 23, 24, 25], [15, 16, 17, 18, 19, 20, 21, 22, 23, 24, 25, 26], [16, 17, 18, 19, 20, 21, 22, 23, 24, 25, 26, 27], [17, 18, 19, 20, 21, 22, 23, 24, 25, 26, 27, 28], [18, 19, 20, 21, 22, 23, 24, 25, 26, 27], [19, 20, 21, 22, 23, 24, 25, 26, 27], [20, 21, 22, 23, 24, 25, 26], [21, 22, 23, 24, 25, 26, 27, 28, 29], [22, 23, 24, 25, 26, 27, 28, 29, 30, 31, 32, 33]]\n",
      "[[5, 13, 14, 15, 16, 17, 18, 19, 20, 21, 22, 23], [13, 14, 15, 16, 17, 18, 19, 20, 21, 22, 23, 24], [14, 15, 16, 17, 18, 19, 20, 21, 22, 23, 24, 25], [15, 16, 17, 18, 19, 20, 21, 22, 23, 24, 25, 26], [16, 17, 18, 19, 20, 21, 22, 23, 24, 25, 26, 27], [17, 18, 19, 20, 21, 22, 23, 24, 25, 26, 27, 28], [18, 19, 20, 21, 22, 23, 24, 25, 26, 27], [19, 20, 21, 22, 23, 24, 25, 26, 27], [20, 21, 22, 23, 24, 25, 26], [21, 22, 23, 24, 25, 26, 27, 28, 29], [22, 23, 24, 25, 26, 27, 28, 29, 30, 31, 32, 33]]\n",
      "[[4, 13, 14, 15, 16, 17, 18, 19, 20, 21, 22, 23], [13, 14, 15, 16, 17, 18, 19, 20, 21, 22, 23, 24], [14, 15, 16, 17, 18, 19, 20, 21, 22, 23, 24, 25], [15, 16, 17, 18, 19, 20, 21, 22, 23, 24, 25, 26], [16, 17, 18, 19, 20, 21, 22, 23, 24, 25, 26, 27], [17, 18, 19, 20, 21, 22, 23, 24, 25, 26, 27, 28], [18, 19, 20, 21, 22, 23, 24, 25, 26, 27], [19, 20, 21, 22, 23, 24, 25, 26, 27], [20, 21, 22, 23, 24, 25, 26], [21, 22, 23, 24, 25, 26, 27, 28, 29], [22, 23, 24, 25, 26, 27, 28, 29, 30, 31, 32, 33]]\n",
      "[[3, 13, 14, 15, 16, 17, 18, 19, 20, 21, 22, 23], [13, 14, 15, 16, 17, 18, 19, 20, 21, 22, 23, 24], [14, 15, 16, 17, 18, 19, 20, 21, 22, 23, 24, 25], [15, 16, 17, 18, 19, 20, 21, 22, 23, 24, 25, 26], [16, 17, 18, 19, 20, 21, 22, 23, 24, 25, 26, 27], [17, 18, 19, 20, 21, 22, 23, 24, 25, 26, 27, 28], [18, 19, 20, 21, 22, 23, 24, 25, 26, 27], [19, 20, 21, 22, 23, 24, 25, 26, 27], [20, 21, 22, 23, 24, 25, 26], [21, 22, 23, 24, 25, 26, 27, 28, 29], [22, 23, 24, 25, 26, 27, 28, 29, 30, 31, 32, 33]]\n",
      "[[13, 14, 15, 16, 17, 18, 19, 20, 21, 22, 23, 24], [14, 15, 16, 17, 18, 19, 20, 21, 22, 23, 24, 25], [15, 16, 17, 18, 19, 20, 21, 22, 23, 24, 25, 26], [16, 17, 18, 19, 20, 21, 22, 23, 24, 25, 26, 27], [17, 18, 19, 20, 21, 22, 23, 24, 25, 26, 27, 28], [18, 19, 20, 21, 22, 23, 24, 25, 26, 27], [19, 20, 21, 22, 23, 24, 25, 26, 27], [20, 21, 22, 23, 24, 25, 26], [21, 22, 23, 24, 25, 26, 27, 28, 29], [22, 23, 24, 25, 26, 27, 28, 29, 30, 31, 32, 33], [23, 24, 25, 26, 27, 28, 29, 30, 31, 32, 33, 34]]\n",
      "[[12, 14, 15, 16, 17, 18, 19, 20, 21, 22, 23, 24], [14, 15, 16, 17, 18, 19, 20, 21, 22, 23, 24, 25], [15, 16, 17, 18, 19, 20, 21, 22, 23, 24, 25, 26], [16, 17, 18, 19, 20, 21, 22, 23, 24, 25, 26, 27], [17, 18, 19, 20, 21, 22, 23, 24, 25, 26, 27, 28], [18, 19, 20, 21, 22, 23, 24, 25, 26, 27], [19, 20, 21, 22, 23, 24, 25, 26, 27], [20, 21, 22, 23, 24, 25, 26], [21, 22, 23, 24, 25, 26, 27, 28, 29], [22, 23, 24, 25, 26, 27, 28, 29, 30, 31, 32, 33], [23, 24, 25, 26, 27, 28, 29, 30, 31, 32, 33, 34]]\n",
      "[[11, 14, 15, 16, 17, 18, 19, 20, 21, 22, 23, 24], [14, 15, 16, 17, 18, 19, 20, 21, 22, 23, 24, 25], [15, 16, 17, 18, 19, 20, 21, 22, 23, 24, 25, 26], [16, 17, 18, 19, 20, 21, 22, 23, 24, 25, 26, 27], [17, 18, 19, 20, 21, 22, 23, 24, 25, 26, 27, 28], [18, 19, 20, 21, 22, 23, 24, 25, 26, 27], [19, 20, 21, 22, 23, 24, 25, 26, 27], [20, 21, 22, 23, 24, 25, 26], [21, 22, 23, 24, 25, 26, 27, 28, 29], [22, 23, 24, 25, 26, 27, 28, 29, 30, 31, 32, 33], [23, 24, 25, 26, 27, 28, 29, 30, 31, 32, 33, 34]]\n",
      "[[10, 14, 15, 16, 17, 18, 19, 20, 21, 22, 23, 24], [14, 15, 16, 17, 18, 19, 20, 21, 22, 23, 24, 25], [15, 16, 17, 18, 19, 20, 21, 22, 23, 24, 25, 26], [16, 17, 18, 19, 20, 21, 22, 23, 24, 25, 26, 27], [17, 18, 19, 20, 21, 22, 23, 24, 25, 26, 27, 28], [18, 19, 20, 21, 22, 23, 24, 25, 26, 27], [19, 20, 21, 22, 23, 24, 25, 26, 27], [20, 21, 22, 23, 24, 25, 26], [21, 22, 23, 24, 25, 26, 27, 28, 29], [22, 23, 24, 25, 26, 27, 28, 29, 30, 31, 32, 33], [23, 24, 25, 26, 27, 28, 29, 30, 31, 32, 33, 34]]\n",
      "[[9, 14, 15, 16, 17, 18, 19, 20, 21, 22, 23, 24], [14, 15, 16, 17, 18, 19, 20, 21, 22, 23, 24, 25], [15, 16, 17, 18, 19, 20, 21, 22, 23, 24, 25, 26], [16, 17, 18, 19, 20, 21, 22, 23, 24, 25, 26, 27], [17, 18, 19, 20, 21, 22, 23, 24, 25, 26, 27, 28], [18, 19, 20, 21, 22, 23, 24, 25, 26, 27], [19, 20, 21, 22, 23, 24, 25, 26, 27], [20, 21, 22, 23, 24, 25, 26], [21, 22, 23, 24, 25, 26, 27, 28, 29], [22, 23, 24, 25, 26, 27, 28, 29, 30, 31, 32, 33], [23, 24, 25, 26, 27, 28, 29, 30, 31, 32, 33, 34]]\n",
      "[[8, 14, 15, 16, 17, 18, 19, 20, 21, 22, 23, 24], [14, 15, 16, 17, 18, 19, 20, 21, 22, 23, 24, 25], [15, 16, 17, 18, 19, 20, 21, 22, 23, 24, 25, 26], [16, 17, 18, 19, 20, 21, 22, 23, 24, 25, 26, 27], [17, 18, 19, 20, 21, 22, 23, 24, 25, 26, 27, 28], [18, 19, 20, 21, 22, 23, 24, 25, 26, 27], [19, 20, 21, 22, 23, 24, 25, 26, 27], [20, 21, 22, 23, 24, 25, 26], [21, 22, 23, 24, 25, 26, 27, 28, 29], [22, 23, 24, 25, 26, 27, 28, 29, 30, 31, 32, 33], [23, 24, 25, 26, 27, 28, 29, 30, 31, 32, 33, 34]]\n",
      "[[7, 14, 15, 16, 17, 18, 19, 20, 21, 22, 23, 24], [14, 15, 16, 17, 18, 19, 20, 21, 22, 23, 24, 25], [15, 16, 17, 18, 19, 20, 21, 22, 23, 24, 25, 26], [16, 17, 18, 19, 20, 21, 22, 23, 24, 25, 26, 27], [17, 18, 19, 20, 21, 22, 23, 24, 25, 26, 27, 28], [18, 19, 20, 21, 22, 23, 24, 25, 26, 27], [19, 20, 21, 22, 23, 24, 25, 26, 27], [20, 21, 22, 23, 24, 25, 26], [21, 22, 23, 24, 25, 26, 27, 28, 29], [22, 23, 24, 25, 26, 27, 28, 29, 30, 31, 32, 33], [23, 24, 25, 26, 27, 28, 29, 30, 31, 32, 33, 34]]\n",
      "[[6, 14, 15, 16, 17, 18, 19, 20, 21, 22, 23, 24], [14, 15, 16, 17, 18, 19, 20, 21, 22, 23, 24, 25], [15, 16, 17, 18, 19, 20, 21, 22, 23, 24, 25, 26], [16, 17, 18, 19, 20, 21, 22, 23, 24, 25, 26, 27], [17, 18, 19, 20, 21, 22, 23, 24, 25, 26, 27, 28], [18, 19, 20, 21, 22, 23, 24, 25, 26, 27], [19, 20, 21, 22, 23, 24, 25, 26, 27], [20, 21, 22, 23, 24, 25, 26], [21, 22, 23, 24, 25, 26, 27, 28, 29], [22, 23, 24, 25, 26, 27, 28, 29, 30, 31, 32, 33], [23, 24, 25, 26, 27, 28, 29, 30, 31, 32, 33, 34]]\n",
      "[[5, 14, 15, 16, 17, 18, 19, 20, 21, 22, 23, 24], [14, 15, 16, 17, 18, 19, 20, 21, 22, 23, 24, 25], [15, 16, 17, 18, 19, 20, 21, 22, 23, 24, 25, 26], [16, 17, 18, 19, 20, 21, 22, 23, 24, 25, 26, 27], [17, 18, 19, 20, 21, 22, 23, 24, 25, 26, 27, 28], [18, 19, 20, 21, 22, 23, 24, 25, 26, 27], [19, 20, 21, 22, 23, 24, 25, 26, 27], [20, 21, 22, 23, 24, 25, 26], [21, 22, 23, 24, 25, 26, 27, 28, 29], [22, 23, 24, 25, 26, 27, 28, 29, 30, 31, 32, 33], [23, 24, 25, 26, 27, 28, 29, 30, 31, 32, 33, 34]]\n",
      "[[4, 14, 15, 16, 17, 18, 19, 20, 21, 22, 23, 24], [14, 15, 16, 17, 18, 19, 20, 21, 22, 23, 24, 25], [15, 16, 17, 18, 19, 20, 21, 22, 23, 24, 25, 26], [16, 17, 18, 19, 20, 21, 22, 23, 24, 25, 26, 27], [17, 18, 19, 20, 21, 22, 23, 24, 25, 26, 27, 28], [18, 19, 20, 21, 22, 23, 24, 25, 26, 27], [19, 20, 21, 22, 23, 24, 25, 26, 27], [20, 21, 22, 23, 24, 25, 26], [21, 22, 23, 24, 25, 26, 27, 28, 29], [22, 23, 24, 25, 26, 27, 28, 29, 30, 31, 32, 33], [23, 24, 25, 26, 27, 28, 29, 30, 31, 32, 33, 34]]\n",
      "[[14, 15, 16, 17, 18, 19, 20, 21, 22, 23, 24, 25], [15, 16, 17, 18, 19, 20, 21, 22, 23, 24, 25, 26], [16, 17, 18, 19, 20, 21, 22, 23, 24, 25, 26, 27], [17, 18, 19, 20, 21, 22, 23, 24, 25, 26, 27, 28], [18, 19, 20, 21, 22, 23, 24, 25, 26, 27], [19, 20, 21, 22, 23, 24, 25, 26, 27], [20, 21, 22, 23, 24, 25, 26], [21, 22, 23, 24, 25, 26, 27, 28, 29], [22, 23, 24, 25, 26, 27, 28, 29, 30, 31, 32, 33], [23, 24, 25, 26, 27, 28, 29, 30, 31, 32, 33, 34], [24, 25, 26, 27, 28, 29, 30, 31, 32, 33, 34, 35]]\n",
      "[[13, 15, 16, 17, 18, 19, 20, 21, 22, 23, 24, 25], [15, 16, 17, 18, 19, 20, 21, 22, 23, 24, 25, 26], [16, 17, 18, 19, 20, 21, 22, 23, 24, 25, 26, 27], [17, 18, 19, 20, 21, 22, 23, 24, 25, 26, 27, 28], [18, 19, 20, 21, 22, 23, 24, 25, 26, 27], [19, 20, 21, 22, 23, 24, 25, 26, 27], [20, 21, 22, 23, 24, 25, 26], [21, 22, 23, 24, 25, 26, 27, 28, 29], [22, 23, 24, 25, 26, 27, 28, 29, 30, 31, 32, 33], [23, 24, 25, 26, 27, 28, 29, 30, 31, 32, 33, 34], [24, 25, 26, 27, 28, 29, 30, 31, 32, 33, 34, 35]]\n",
      "[[12, 15, 16, 17, 18, 19, 20, 21, 22, 23, 24, 25], [15, 16, 17, 18, 19, 20, 21, 22, 23, 24, 25, 26], [16, 17, 18, 19, 20, 21, 22, 23, 24, 25, 26, 27], [17, 18, 19, 20, 21, 22, 23, 24, 25, 26, 27, 28], [18, 19, 20, 21, 22, 23, 24, 25, 26, 27], [19, 20, 21, 22, 23, 24, 25, 26, 27], [20, 21, 22, 23, 24, 25, 26], [21, 22, 23, 24, 25, 26, 27, 28, 29], [22, 23, 24, 25, 26, 27, 28, 29, 30, 31, 32, 33], [23, 24, 25, 26, 27, 28, 29, 30, 31, 32, 33, 34], [24, 25, 26, 27, 28, 29, 30, 31, 32, 33, 34, 35]]\n",
      "[[11, 15, 16, 17, 18, 19, 20, 21, 22, 23, 24, 25], [15, 16, 17, 18, 19, 20, 21, 22, 23, 24, 25, 26], [16, 17, 18, 19, 20, 21, 22, 23, 24, 25, 26, 27], [17, 18, 19, 20, 21, 22, 23, 24, 25, 26, 27, 28], [18, 19, 20, 21, 22, 23, 24, 25, 26, 27], [19, 20, 21, 22, 23, 24, 25, 26, 27], [20, 21, 22, 23, 24, 25, 26], [21, 22, 23, 24, 25, 26, 27, 28, 29], [22, 23, 24, 25, 26, 27, 28, 29, 30, 31, 32, 33], [23, 24, 25, 26, 27, 28, 29, 30, 31, 32, 33, 34], [24, 25, 26, 27, 28, 29, 30, 31, 32, 33, 34, 35]]\n",
      "[[10, 15, 16, 17, 18, 19, 20, 21, 22, 23, 24, 25], [15, 16, 17, 18, 19, 20, 21, 22, 23, 24, 25, 26], [16, 17, 18, 19, 20, 21, 22, 23, 24, 25, 26, 27], [17, 18, 19, 20, 21, 22, 23, 24, 25, 26, 27, 28], [18, 19, 20, 21, 22, 23, 24, 25, 26, 27], [19, 20, 21, 22, 23, 24, 25, 26, 27], [20, 21, 22, 23, 24, 25, 26], [21, 22, 23, 24, 25, 26, 27, 28, 29], [22, 23, 24, 25, 26, 27, 28, 29, 30, 31, 32, 33], [23, 24, 25, 26, 27, 28, 29, 30, 31, 32, 33, 34], [24, 25, 26, 27, 28, 29, 30, 31, 32, 33, 34, 35]]\n",
      "[[9, 15, 16, 17, 18, 19, 20, 21, 22, 23, 24, 25], [15, 16, 17, 18, 19, 20, 21, 22, 23, 24, 25, 26], [16, 17, 18, 19, 20, 21, 22, 23, 24, 25, 26, 27], [17, 18, 19, 20, 21, 22, 23, 24, 25, 26, 27, 28], [18, 19, 20, 21, 22, 23, 24, 25, 26, 27], [19, 20, 21, 22, 23, 24, 25, 26, 27], [20, 21, 22, 23, 24, 25, 26], [21, 22, 23, 24, 25, 26, 27, 28, 29], [22, 23, 24, 25, 26, 27, 28, 29, 30, 31, 32, 33], [23, 24, 25, 26, 27, 28, 29, 30, 31, 32, 33, 34], [24, 25, 26, 27, 28, 29, 30, 31, 32, 33, 34, 35]]\n",
      "[[8, 15, 16, 17, 18, 19, 20, 21, 22, 23, 24, 25], [15, 16, 17, 18, 19, 20, 21, 22, 23, 24, 25, 26], [16, 17, 18, 19, 20, 21, 22, 23, 24, 25, 26, 27], [17, 18, 19, 20, 21, 22, 23, 24, 25, 26, 27, 28], [18, 19, 20, 21, 22, 23, 24, 25, 26, 27], [19, 20, 21, 22, 23, 24, 25, 26, 27], [20, 21, 22, 23, 24, 25, 26], [21, 22, 23, 24, 25, 26, 27, 28, 29], [22, 23, 24, 25, 26, 27, 28, 29, 30, 31, 32, 33], [23, 24, 25, 26, 27, 28, 29, 30, 31, 32, 33, 34], [24, 25, 26, 27, 28, 29, 30, 31, 32, 33, 34, 35]]\n",
      "[[7, 15, 16, 17, 18, 19, 20, 21, 22, 23, 24, 25], [15, 16, 17, 18, 19, 20, 21, 22, 23, 24, 25, 26], [16, 17, 18, 19, 20, 21, 22, 23, 24, 25, 26, 27], [17, 18, 19, 20, 21, 22, 23, 24, 25, 26, 27, 28], [18, 19, 20, 21, 22, 23, 24, 25, 26, 27], [19, 20, 21, 22, 23, 24, 25, 26, 27], [20, 21, 22, 23, 24, 25, 26], [21, 22, 23, 24, 25, 26, 27, 28, 29], [22, 23, 24, 25, 26, 27, 28, 29, 30, 31, 32, 33], [23, 24, 25, 26, 27, 28, 29, 30, 31, 32, 33, 34], [24, 25, 26, 27, 28, 29, 30, 31, 32, 33, 34, 35]]\n",
      "[[6, 15, 16, 17, 18, 19, 20, 21, 22, 23, 24, 25], [15, 16, 17, 18, 19, 20, 21, 22, 23, 24, 25, 26], [16, 17, 18, 19, 20, 21, 22, 23, 24, 25, 26, 27], [17, 18, 19, 20, 21, 22, 23, 24, 25, 26, 27, 28], [18, 19, 20, 21, 22, 23, 24, 25, 26, 27], [19, 20, 21, 22, 23, 24, 25, 26, 27], [20, 21, 22, 23, 24, 25, 26], [21, 22, 23, 24, 25, 26, 27, 28, 29], [22, 23, 24, 25, 26, 27, 28, 29, 30, 31, 32, 33], [23, 24, 25, 26, 27, 28, 29, 30, 31, 32, 33, 34], [24, 25, 26, 27, 28, 29, 30, 31, 32, 33, 34, 35]]\n",
      "[[5, 15, 16, 17, 18, 19, 20, 21, 22, 23, 24, 25], [15, 16, 17, 18, 19, 20, 21, 22, 23, 24, 25, 26], [16, 17, 18, 19, 20, 21, 22, 23, 24, 25, 26, 27], [17, 18, 19, 20, 21, 22, 23, 24, 25, 26, 27, 28], [18, 19, 20, 21, 22, 23, 24, 25, 26, 27], [19, 20, 21, 22, 23, 24, 25, 26, 27], [20, 21, 22, 23, 24, 25, 26], [21, 22, 23, 24, 25, 26, 27, 28, 29], [22, 23, 24, 25, 26, 27, 28, 29, 30, 31, 32, 33], [23, 24, 25, 26, 27, 28, 29, 30, 31, 32, 33, 34], [24, 25, 26, 27, 28, 29, 30, 31, 32, 33, 34, 35]]\n",
      "[[15, 16, 17, 18, 19, 20, 21, 22, 23, 24, 25, 26], [16, 17, 18, 19, 20, 21, 22, 23, 24, 25, 26, 27], [17, 18, 19, 20, 21, 22, 23, 24, 25, 26, 27, 28], [18, 19, 20, 21, 22, 23, 24, 25, 26, 27], [19, 20, 21, 22, 23, 24, 25, 26, 27], [20, 21, 22, 23, 24, 25, 26], [21, 22, 23, 24, 25, 26, 27, 28, 29], [22, 23, 24, 25, 26, 27, 28, 29, 30, 31, 32, 33], [23, 24, 25, 26, 27, 28, 29, 30, 31, 32, 33, 34], [24, 25, 26, 27, 28, 29, 30, 31, 32, 33, 34, 35], [25, 26, 27, 28, 29, 30, 31, 32, 33, 34, 35, 36]]\n",
      "[[14, 16, 17, 18, 19, 20, 21, 22, 23, 24, 25, 26], [16, 17, 18, 19, 20, 21, 22, 23, 24, 25, 26, 27], [17, 18, 19, 20, 21, 22, 23, 24, 25, 26, 27, 28], [18, 19, 20, 21, 22, 23, 24, 25, 26, 27], [19, 20, 21, 22, 23, 24, 25, 26, 27], [20, 21, 22, 23, 24, 25, 26], [21, 22, 23, 24, 25, 26, 27, 28, 29], [22, 23, 24, 25, 26, 27, 28, 29, 30, 31, 32, 33], [23, 24, 25, 26, 27, 28, 29, 30, 31, 32, 33, 34], [24, 25, 26, 27, 28, 29, 30, 31, 32, 33, 34, 35], [25, 26, 27, 28, 29, 30, 31, 32, 33, 34, 35, 36]]\n",
      "[[13, 16, 17, 18, 19, 20, 21, 22, 23, 24, 25, 26], [16, 17, 18, 19, 20, 21, 22, 23, 24, 25, 26, 27], [17, 18, 19, 20, 21, 22, 23, 24, 25, 26, 27, 28], [18, 19, 20, 21, 22, 23, 24, 25, 26, 27], [19, 20, 21, 22, 23, 24, 25, 26, 27], [20, 21, 22, 23, 24, 25, 26], [21, 22, 23, 24, 25, 26, 27, 28, 29], [22, 23, 24, 25, 26, 27, 28, 29, 30, 31, 32, 33], [23, 24, 25, 26, 27, 28, 29, 30, 31, 32, 33, 34], [24, 25, 26, 27, 28, 29, 30, 31, 32, 33, 34, 35], [25, 26, 27, 28, 29, 30, 31, 32, 33, 34, 35, 36]]\n",
      "[[12, 16, 17, 18, 19, 20, 21, 22, 23, 24, 25, 26], [16, 17, 18, 19, 20, 21, 22, 23, 24, 25, 26, 27], [17, 18, 19, 20, 21, 22, 23, 24, 25, 26, 27, 28], [18, 19, 20, 21, 22, 23, 24, 25, 26, 27], [19, 20, 21, 22, 23, 24, 25, 26, 27], [20, 21, 22, 23, 24, 25, 26], [21, 22, 23, 24, 25, 26, 27, 28, 29], [22, 23, 24, 25, 26, 27, 28, 29, 30, 31, 32, 33], [23, 24, 25, 26, 27, 28, 29, 30, 31, 32, 33, 34], [24, 25, 26, 27, 28, 29, 30, 31, 32, 33, 34, 35], [25, 26, 27, 28, 29, 30, 31, 32, 33, 34, 35, 36]]\n",
      "[[11, 16, 17, 18, 19, 20, 21, 22, 23, 24, 25, 26], [16, 17, 18, 19, 20, 21, 22, 23, 24, 25, 26, 27], [17, 18, 19, 20, 21, 22, 23, 24, 25, 26, 27, 28], [18, 19, 20, 21, 22, 23, 24, 25, 26, 27], [19, 20, 21, 22, 23, 24, 25, 26, 27], [20, 21, 22, 23, 24, 25, 26], [21, 22, 23, 24, 25, 26, 27, 28, 29], [22, 23, 24, 25, 26, 27, 28, 29, 30, 31, 32, 33], [23, 24, 25, 26, 27, 28, 29, 30, 31, 32, 33, 34], [24, 25, 26, 27, 28, 29, 30, 31, 32, 33, 34, 35], [25, 26, 27, 28, 29, 30, 31, 32, 33, 34, 35, 36]]\n",
      "[[10, 16, 17, 18, 19, 20, 21, 22, 23, 24, 25, 26], [16, 17, 18, 19, 20, 21, 22, 23, 24, 25, 26, 27], [17, 18, 19, 20, 21, 22, 23, 24, 25, 26, 27, 28], [18, 19, 20, 21, 22, 23, 24, 25, 26, 27], [19, 20, 21, 22, 23, 24, 25, 26, 27], [20, 21, 22, 23, 24, 25, 26], [21, 22, 23, 24, 25, 26, 27, 28, 29], [22, 23, 24, 25, 26, 27, 28, 29, 30, 31, 32, 33], [23, 24, 25, 26, 27, 28, 29, 30, 31, 32, 33, 34], [24, 25, 26, 27, 28, 29, 30, 31, 32, 33, 34, 35], [25, 26, 27, 28, 29, 30, 31, 32, 33, 34, 35, 36]]\n",
      "[[9, 16, 17, 18, 19, 20, 21, 22, 23, 24, 25, 26], [16, 17, 18, 19, 20, 21, 22, 23, 24, 25, 26, 27], [17, 18, 19, 20, 21, 22, 23, 24, 25, 26, 27, 28], [18, 19, 20, 21, 22, 23, 24, 25, 26, 27], [19, 20, 21, 22, 23, 24, 25, 26, 27], [20, 21, 22, 23, 24, 25, 26], [21, 22, 23, 24, 25, 26, 27, 28, 29], [22, 23, 24, 25, 26, 27, 28, 29, 30, 31, 32, 33], [23, 24, 25, 26, 27, 28, 29, 30, 31, 32, 33, 34], [24, 25, 26, 27, 28, 29, 30, 31, 32, 33, 34, 35], [25, 26, 27, 28, 29, 30, 31, 32, 33, 34, 35, 36]]\n",
      "[[8, 16, 17, 18, 19, 20, 21, 22, 23, 24, 25, 26], [16, 17, 18, 19, 20, 21, 22, 23, 24, 25, 26, 27], [17, 18, 19, 20, 21, 22, 23, 24, 25, 26, 27, 28], [18, 19, 20, 21, 22, 23, 24, 25, 26, 27], [19, 20, 21, 22, 23, 24, 25, 26, 27], [20, 21, 22, 23, 24, 25, 26], [21, 22, 23, 24, 25, 26, 27, 28, 29], [22, 23, 24, 25, 26, 27, 28, 29, 30, 31, 32, 33], [23, 24, 25, 26, 27, 28, 29, 30, 31, 32, 33, 34], [24, 25, 26, 27, 28, 29, 30, 31, 32, 33, 34, 35], [25, 26, 27, 28, 29, 30, 31, 32, 33, 34, 35, 36]]\n",
      "[[7, 16, 17, 18, 19, 20, 21, 22, 23, 24, 25, 26], [16, 17, 18, 19, 20, 21, 22, 23, 24, 25, 26, 27], [17, 18, 19, 20, 21, 22, 23, 24, 25, 26, 27, 28], [18, 19, 20, 21, 22, 23, 24, 25, 26, 27], [19, 20, 21, 22, 23, 24, 25, 26, 27], [20, 21, 22, 23, 24, 25, 26], [21, 22, 23, 24, 25, 26, 27, 28, 29], [22, 23, 24, 25, 26, 27, 28, 29, 30, 31, 32, 33], [23, 24, 25, 26, 27, 28, 29, 30, 31, 32, 33, 34], [24, 25, 26, 27, 28, 29, 30, 31, 32, 33, 34, 35], [25, 26, 27, 28, 29, 30, 31, 32, 33, 34, 35, 36]]\n",
      "[[6, 16, 17, 18, 19, 20, 21, 22, 23, 24, 25, 26], [16, 17, 18, 19, 20, 21, 22, 23, 24, 25, 26, 27], [17, 18, 19, 20, 21, 22, 23, 24, 25, 26, 27, 28], [18, 19, 20, 21, 22, 23, 24, 25, 26, 27], [19, 20, 21, 22, 23, 24, 25, 26, 27], [20, 21, 22, 23, 24, 25, 26], [21, 22, 23, 24, 25, 26, 27, 28, 29], [22, 23, 24, 25, 26, 27, 28, 29, 30, 31, 32, 33], [23, 24, 25, 26, 27, 28, 29, 30, 31, 32, 33, 34], [24, 25, 26, 27, 28, 29, 30, 31, 32, 33, 34, 35], [25, 26, 27, 28, 29, 30, 31, 32, 33, 34, 35, 36]]\n"
     ]
    },
    {
     "ename": "NameError",
     "evalue": "name 'pn' is not defined",
     "output_type": "error",
     "traceback": [
      "\u001b[1;31m---------------------------------------------------------------------------\u001b[0m",
      "\u001b[1;31mNameError\u001b[0m                                 Traceback (most recent call last)",
      "\u001b[1;32m<ipython-input-19-25bc5767c0e2>\u001b[0m in \u001b[0;36m<module>\u001b[1;34m\u001b[0m\n\u001b[0;32m     16\u001b[0m \u001b[1;33m\u001b[0m\u001b[0m\n\u001b[0;32m     17\u001b[0m     \u001b[1;32mreturn\u001b[0m \u001b[1;36m0\u001b[0m\u001b[1;33m\u001b[0m\u001b[1;33m\u001b[0m\u001b[0m\n\u001b[1;32m---> 18\u001b[1;33m \u001b[0mline_collater\u001b[0m\u001b[1;33m(\u001b[0m\u001b[0mAoI\u001b[0m\u001b[1;33m)\u001b[0m\u001b[1;33m\u001b[0m\u001b[1;33m\u001b[0m\u001b[0m\n\u001b[0m",
      "\u001b[1;32m<ipython-input-19-25bc5767c0e2>\u001b[0m in \u001b[0;36mline_collater\u001b[1;34m(AoI, scale, wiggle)\u001b[0m\n\u001b[0;32m     12\u001b[0m                     \u001b[1;32mcontinue\u001b[0m\u001b[1;33m\u001b[0m\u001b[1;33m\u001b[0m\u001b[0m\n\u001b[0;32m     13\u001b[0m                 \u001b[1;32melse\u001b[0m\u001b[1;33m:\u001b[0m\u001b[1;33m\u001b[0m\u001b[1;33m\u001b[0m\u001b[0m\n\u001b[1;32m---> 14\u001b[1;33m                     \u001b[0mlinecontinues\u001b[0m\u001b[1;33m[\u001b[0m\u001b[0mk\u001b[0m\u001b[1;33m-\u001b[0m\u001b[1;36m1\u001b[0m\u001b[1;33m]\u001b[0m \u001b[1;33m=\u001b[0m \u001b[0mline_finder\u001b[0m\u001b[1;33m(\u001b[0m\u001b[0mAoI\u001b[0m\u001b[1;33m,\u001b[0m \u001b[0mj\u001b[0m\u001b[1;33m[\u001b[0m\u001b[0mk\u001b[0m\u001b[1;33m]\u001b[0m\u001b[1;33m,\u001b[0m \u001b[0mscale\u001b[0m\u001b[1;33m=\u001b[0m\u001b[0mscale\u001b[0m\u001b[1;33m,\u001b[0m \u001b[0mwiggle\u001b[0m\u001b[1;33m=\u001b[0m\u001b[0mwiggle\u001b[0m\u001b[1;33m,\u001b[0m \u001b[0mknow_prev_point\u001b[0m\u001b[1;33m=\u001b[0m\u001b[1;32mTrue\u001b[0m\u001b[1;33m,\u001b[0m \u001b[0mprev_point_number\u001b[0m\u001b[1;33m=\u001b[0m\u001b[0mj\u001b[0m\u001b[1;33m[\u001b[0m\u001b[0mk\u001b[0m\u001b[1;33m-\u001b[0m\u001b[1;36m1\u001b[0m\u001b[1;33m]\u001b[0m\u001b[1;33m)\u001b[0m\u001b[1;33m\u001b[0m\u001b[1;33m\u001b[0m\u001b[0m\n\u001b[0m\u001b[0;32m     15\u001b[0m             \u001b[0mprint\u001b[0m\u001b[1;33m(\u001b[0m\u001b[0mlinecontinues\u001b[0m\u001b[1;33m)\u001b[0m\u001b[1;33m\u001b[0m\u001b[1;33m\u001b[0m\u001b[0m\n\u001b[0;32m     16\u001b[0m \u001b[1;33m\u001b[0m\u001b[0m\n",
      "\u001b[1;32m<ipython-input-14-2f65d562b3c0>\u001b[0m in \u001b[0;36mline_finder\u001b[1;34m(AoI, point_number, scale, wiggle, know_prev_point, prev_point_number)\u001b[0m\n\u001b[0;32m      5\u001b[0m     \u001b[0mLL\u001b[0m \u001b[1;33m=\u001b[0m \u001b[0mL\u001b[0m\u001b[1;33m-\u001b[0m\u001b[1;36m1\u001b[0m\u001b[1;33m\u001b[0m\u001b[1;33m\u001b[0m\u001b[0m\n\u001b[0;32m      6\u001b[0m     \u001b[1;32mif\u001b[0m \u001b[1;33m(\u001b[0m\u001b[0mpoint_number\u001b[0m\u001b[1;33m+\u001b[0m\u001b[0mscale\u001b[0m\u001b[1;33m>\u001b[0m\u001b[0mLL\u001b[0m\u001b[1;33m)\u001b[0m\u001b[1;33m:\u001b[0m\u001b[1;33m\u001b[0m\u001b[1;33m\u001b[0m\u001b[0m\n\u001b[1;32m----> 7\u001b[1;33m         \u001b[0mscale\u001b[0m \u001b[1;33m=\u001b[0m \u001b[0mLL\u001b[0m\u001b[1;33m-\u001b[0m\u001b[0mpn\u001b[0m\u001b[1;33m\u001b[0m\u001b[1;33m\u001b[0m\u001b[0m\n\u001b[0m\u001b[0;32m      8\u001b[0m     \u001b[1;32mif\u001b[0m \u001b[1;33m(\u001b[0m\u001b[0mpoint_number\u001b[0m\u001b[1;33m-\u001b[0m\u001b[0mscale\u001b[0m\u001b[1;33m<\u001b[0m\u001b[1;36m0\u001b[0m\u001b[1;33m)\u001b[0m \u001b[1;32mand\u001b[0m \u001b[1;32mnot\u001b[0m\u001b[1;33m(\u001b[0m\u001b[0mknow_prev_point\u001b[0m\u001b[1;33m)\u001b[0m\u001b[1;33m:\u001b[0m\u001b[1;33m\u001b[0m\u001b[1;33m\u001b[0m\u001b[0m\n\u001b[0;32m      9\u001b[0m         \u001b[0mscale\u001b[0m \u001b[1;33m=\u001b[0m \u001b[0mpoint_number\u001b[0m\u001b[1;33m\u001b[0m\u001b[1;33m\u001b[0m\u001b[0m\n",
      "\u001b[1;31mNameError\u001b[0m: name 'pn' is not defined"
     ]
    }
   ],
   "source": [
    "def line_collater(AoI, scale=10, wiggle=0.05):\n",
    "    z, x, adc = AoI #sorted along z\n",
    "    L = len(z)\n",
    "    \n",
    "    for i in range(L):\n",
    "        linestarts = line_finder(AoI, i, scale=scale, wiggle=wiggle, know_prev_point=False, prev_point_number=None)\n",
    "        for j in linestarts:\n",
    "            J = len(j)\n",
    "            linecontinues = [0] * (J-1)\n",
    "            for k in range(J):\n",
    "                if k==0:\n",
    "                    continue\n",
    "                else:\n",
    "                    linecontinues[k-1] = line_finder(AoI, j[k], scale=scale, wiggle=wiggle, know_prev_point=True, prev_point_number=j[k-1])\n",
    "            print(linecontinues)\n",
    "        \n",
    "    return 0\n",
    "line_collater(AoI)"
   ]
  },
  {
   "cell_type": "code",
   "execution_count": 9,
   "metadata": {},
   "outputs": [
    {
     "name": "stderr",
     "output_type": "stream",
     "text": [
      "100%|█████████████████████████████████████████████████████████████████████████████████| 59/59 [00:00<00:00, 526.63it/s]\n"
     ]
    },
    {
     "data": {
      "image/png": "[encoded data removed]",
      "text/plain": [
       "<Figure size 432x288 with 1 Axes>"
      ]
     },
     "metadata": {
      "needs_background": "light"
     },
     "output_type": "display_data"
    },
    {
     "name": "stdout",
     "output_type": "stream",
     "text": [
      "[[29, 30, 39], [31, 32, 42], [66, 67, 70], [104, 105, 113], [109, 110, 115], [177, 178, 185], [181, 182, 186], [228, 229, 236], [236, 237, 238], [339, 340, 344, 345, 347, 349, 350, 351], [340, 341, 342, 344, 345, 347, 349, 350, 351], [341, 342, 343, 344, 345, 347, 349, 350, 351], [342, 343, 344, 345, 347, 349, 350, 351], [343, 344, 345, 347, 349, 350, 351], [344, 345, 346, 347, 349, 350, 351], [345, 346, 347, 349, 350, 351], [346, 347, 349, 350, 351], [347, 348, 349], [348, 349, 350, 351], [349, 350, 351], [355, 356, 357, 358, 359, 361, 362, 364], [356, 357, 358, 359, 361, 362, 364], [357, 358, 359, 361, 362, 364], [358, 359, 360], [359, 360, 362, 363, 364], [360, 361, 362, 364], [362, 363, 364], [365, 366, 368], [366, 367, 368], [380, 381, 382], [381, 382, 385, 387, 388, 389, 390, 391, 392, 393, 395, 398, 403, 404, 405, 406, 408, 411, 418, 424], [382, 383, 385, 392], [384, 385, 389], [386, 387, 388, 389, 390, 391, 392, 393, 395, 398, 403, 404, 405, 406, 408, 411, 418, 424], [387, 388, 389, 390, 391, 392, 393, 395, 398, 403, 404, 405, 406, 408, 411, 418, 424], [392, 393, 396], [393, 394, 395, 398, 403, 404, 405, 406, 408, 411, 418, 424], [394, 395, 399, 401, 402, 404, 405, 406, 408, 411, 418, 424], [397, 398, 400, 401], [398, 399, 400, 403, 404, 405, 406, 408, 411, 418, 424], [399, 400, 402, 410, 417, 420, 426, 434], [400, 401, 402, 404, 405, 406, 408, 411, 418, 424], [401, 402, 404, 405, 406, 408, 411, 418, 424], [402, 403, 404, 405, 406, 408, 411, 418, 424], [403, 404, 405, 406, 408, 411, 418, 424], [404, 405, 406, 408, 411, 418, 424], [405, 406, 408, 411, 418, 424], [407, 408, 409, 417, 420, 426, 434], [408, 409, 418, 424], [409, 410, 417, 420, 426, 434], [410, 411, 418, 424], [415, 416, 421], [416, 417, 418], [417, 418, 424], [419, 420, 425], [422, 423, 433], [424, 425, 430], [425, 426, 434], [426, 427, 434]]\n"
     ]
    }
   ],
   "source": [
    "def line_collater(AoI, scale=5, wiggle=0.05, plot=True):\n",
    "    AoI_z, AoI_x, AoI_adc = AoI\n",
    "    L = len(AoI_z)\n",
    "    \n",
    "    lines = []\n",
    "    ielim = np.arange(1,L)\n",
    "\n",
    "    for i in ielim:\n",
    "        line = []\n",
    "        x = line_finder(AoI, i, scale, wiggle)\n",
    "        \n",
    "        if (x!=[]):\n",
    "            line.append(x[0])\n",
    "            line.append(x[1])\n",
    "        while (x!=[]):\n",
    "            line.append(x[-1])\n",
    "            x = line_finder(AoI, x[-1], scale, wiggle, know_prev_point=True, prev_point_number=x[-2])\n",
    "            \n",
    "        ielim = [j for j in ielim if j not in line]\n",
    "        lines.append(line)\n",
    "    lines = [i for i in lines if i != []]\n",
    "    if plot:\n",
    "        for i in tqdm(lines):\n",
    "            plt.plot([AoI_z[j] for j in i],[AoI_x[j] for j in i], 'ro')\n",
    "        plotter(AoI)\n",
    "        plt.show()\n",
    "            \n",
    "    return lines\n",
    "\n",
    "q = line_collater(AoI, scale=10)\n",
    "print(q)"
   ]
  },
  {
   "cell_type": "code",
   "execution_count": 106,
   "metadata": {},
   "outputs": [
    {
     "name": "stderr",
     "output_type": "stream",
     "text": [
      "100%|█████████████████████████████████████████████████████████████████████████████████| 16/16 [00:00<00:00, 214.09it/s]\n"
     ]
    },
    {
     "data": {
      "image/png": "[encoded data removed]",
      "text/plain": [
       "<Figure size 432x288 with 1 Axes>"
      ]
     },
     "metadata": {
      "needs_background": "light"
     },
     "output_type": "display_data"
    },
    {
     "name": "stdout",
     "output_type": "stream",
     "text": [
      "[[19, 20, 21], [81, 82, 85], [83, 84, 87], [133, 134, 136], [246, 247, 249], [334, 335, 337, 338, 341, 342, 344, 345, 347, 349, 350, 351], [345, 346, 347, 349, 350, 351], [355, 356, 357, 358, 359, 361, 362, 364], [362, 363, 364], [364, 365, 368], [373, 374, 376], [376, 377, 379, 381], [379, 380, 381, 383, 387, 388, 389, 390, 391, 392, 393, 395, 398, 403, 404, 405, 406, 408, 411], [398, 399, 400, 403, 404, 405, 406, 408, 411], [407, 408, 411], [415, 416, 419]]\n"
     ]
    }
   ],
   "source": [
    "from tqdm import tqdm\n",
    "\n",
    "def line_collater(AoI, scale=5, wiggle=0.05, plot=True):\n",
    "    AoI_z, AoI_x, AoI_adc = AoI\n",
    "    L = len(AoI_z)\n",
    "    \n",
    "    lines = []\n",
    "    ielim = np.arange(1,L)\n",
    "    \n",
    "    j=1\n",
    "    for i in range(1,L):\n",
    "        j+=1\n",
    "        if j==L:\n",
    "            break\n",
    "        line = []\n",
    "        x = line_finder(AoI, j, scale, wiggle)\n",
    "        \n",
    "        if (x!=[]):\n",
    "            \n",
    "            line.append(x[0])\n",
    "            line.append(x[1])\n",
    "        while (x!=[]):\n",
    "            j+=1\n",
    "            line.append(x[-1])\n",
    "            x = line_finder(AoI, x[-1], scale, wiggle, know_prev_point=True, prev_point_number=x[-2])\n",
    "\n",
    "        lines.append(line)\n",
    "    lines = [i for i in lines if i != []]\n",
    "    if plot:\n",
    "        for i in tqdm(lines):\n",
    "            plt.plot([AoI_z[j] for j in i],[AoI_x[j] for j in i], 'ro')\n",
    "        plotter(AoI)\n",
    "        plt.show()\n",
    "            \n",
    "    return lines\n",
    "\n",
    "q = line_collater(AoI)\n",
    "print(q)"
   ]
  },
  {
   "cell_type": "code",
   "execution_count": null,
   "metadata": {},
   "outputs": [],
   "source": [
    "def line_ploter(AoI, scale, wiggle):\n",
    "    lines = line_collater(AoI, scale, wiggle)"
   ]
  },
  {
   "cell_type": "code",
   "execution_count": 8,
   "metadata": {},
   "outputs": [
    {
     "data": {
      "image/png": "[encoded data removed]",
      "text/plain": [
       "<Figure size 432x288 with 1 Axes>"
      ]
     },
     "metadata": {
      "needs_background": "light"
     },
     "output_type": "display_data"
    }
   ],
   "source": [
    "AoI_z, AoI_x, AoI_adc = AoI\n",
    "for i in x:\n",
    "    plt.plot(AoI_z[i],AoI_x[i], 'ro')\n",
    "#plotter(AoI)\n",
    "plt.show()"
   ]
  },
  {
   "cell_type": "code",
   "execution_count": null,
   "metadata": {},
   "outputs": [],
   "source": []
  }
 ],
 "metadata": {
  "kernelspec": {
   "display_name": "Python 3",
   "language": "python",
   "name": "python3"
  },
  "language_info": {
   "codemirror_mode": {
    "name": "ipython",
    "version": 3
   },
   "file_extension": ".py",
   "mimetype": "text/x-python",
   "name": "python",
   "nbconvert_exporter": "python",
   "pygments_lexer": "ipython3",
   "version": "3.8.5"
  }
 },
 "nbformat": 4,
 "nbformat_minor": 4
}
