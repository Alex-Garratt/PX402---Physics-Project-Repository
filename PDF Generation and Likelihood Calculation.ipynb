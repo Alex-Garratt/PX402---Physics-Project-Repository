{
 "cells": [
  {
   "cell_type": "code",
   "execution_count": 137,
   "id": "620d9d54",
   "metadata": {},
   "outputs": [],
   "source": [
    "from uproot_io import Events, View\n",
    "import matplotlib.pyplot as plt\n",
    "import numpy as np\n",
    "from tqdm import tqdm\n",
    "import random\n",
    "import pandas as pd\n",
    "cutoff_value = 0.99"
   ]
  },
  {
   "cell_type": "code",
   "execution_count": 15,
   "id": "6eef8a53",
   "metadata": {},
   "outputs": [
    {
     "name": "stdout",
     "output_type": "stream",
     "text": [
      "Running...\n"
     ]
    }
   ],
   "source": [
    "from uproot_io import Events, View\n",
    "import matplotlib.pyplot as plt\n",
    "import numpy as np\n",
    "from tqdm import tqdm\n",
    "import random\n",
    "\n",
    "random.seed(0)\n",
    "\n",
    "print(\"Running...\")\n",
    "\n",
    "\n",
    "thr_std=0.2\n",
    "\n",
    "E = Events(\"CheatedRecoFile_1.root\")\n",
    "\n",
    "view_u = View(E, \"u\")\n",
    "view_v = View(E, \"v\")\n",
    "view_w = View(E, \"w\")\n",
    "\n",
    "u_x = view_u.x\n",
    "u_z = view_u.z\n",
    "u_adc = view_u.adc\n",
    "u_truevtx_z = view_u.true_vtx_z\n",
    "u_truevtx_x = view_u.true_vtx_x\n",
    "\n",
    "v_x = view_v.x\n",
    "v_z = view_v.z\n",
    "v_adc = view_v.adc\n",
    "v_truevtx_z = view_v.true_vtx_z\n",
    "v_truevtx_x = view_v.true_vtx_x\n",
    "\n",
    "w_x = view_w.x\n",
    "w_z = view_w.z\n",
    "w_adc = view_w.adc\n",
    "w_truevtx_z = view_w.true_vtx_z\n",
    "w_truevtx_x = view_w.true_vtx_x"
   ]
  },
  {
   "cell_type": "code",
   "execution_count": 16,
   "id": "058a3a87",
   "metadata": {},
   "outputs": [],
   "source": [
    "def importpdf(filename):\n",
    "    df = pd.read_csv(filename)\n",
    "    df = df.fillna(0)\n",
    "    data = df.values\n",
    "    return data[0][1:], data[1][1:]"
   ]
  },
  {
   "cell_type": "code",
   "execution_count": 17,
   "id": "0e2b57ff",
   "metadata": {},
   "outputs": [],
   "source": [
    "def normalisepdfs(signal_data_path, background_data_path):\n",
    "    background_hist_values, background_bin_values = importpdf(background_data_path)\n",
    "    background_hist_values = np.nan_to_num(background_hist_values)\n",
    "    background_hist_values = background_hist_values.astype(np.float64)\n",
    "    background_bin_values = background_bin_values.astype(np.float64)\n",
    "    background_bin_values = np.nan_to_num(background_bin_values)\n",
    "    \n",
    "    signal_hist_values, signal_bin_values = importpdf(signal_data_path)\n",
    "    signal_hist_values = np.nan_to_num(signal_hist_values)\n",
    "    signal_hist_values = signal_hist_values.astype(np.float64)\n",
    "    signal_bin_values = signal_bin_values.astype(np.float64)\n",
    "    signal_bin_values = np.nan_to_num(signal_bin_values)\n",
    "    \n",
    "    #print(background_hist_values, signal_hist_values)\n",
    "    total_hist_values = background_hist_values + signal_hist_values\n",
    "    #print(\"\\n\", total_hist_values)\n",
    "    \n",
    "    normalised_background = background_hist_values[:-1] / total_hist_values[:-1]\n",
    "    normalised_signal = signal_hist_values[:-1] / total_hist_values[:-1]\n",
    "    \n",
    "    return normalised_signal, signal_bin_values[:-1], normalised_background, background_bin_values[:-1]"
   ]
  },
  {
   "cell_type": "code",
   "execution_count": 18,
   "id": "916f6657",
   "metadata": {},
   "outputs": [],
   "source": [
    "def plotpdf(normalised_signal, signal_bin_values, normalised_background, background_bin_values):\n",
    "    plt.title(\"Signal (red) - Background (blue) PDFs\")\n",
    "    plt.xlabel(\"Normalised Metric Score\")\n",
    "    plt.ylabel(\"PDF Probability\")\n",
    "    plt.plot(signal_bin_values, normalised_signal, '.r-')\n",
    "    plt.plot(background_bin_values, normalised_background, '.b-')\n",
    "    plt.show()\n",
    "    return 0"
   ]
  },
  {
   "cell_type": "code",
   "execution_count": 19,
   "id": "4c665bbb",
   "metadata": {},
   "outputs": [],
   "source": [
    "#normalised_signal, signal_bin_values, normalised_background, background_bin_values = normalisepdfs(\"signal_rphi_hist.csv\", \"back_rphi_hist.csv\")\n",
    "#plotpdf(normalised_signal, signal_bin_values, normalised_background, background_bin_values)"
   ]
  },
  {
   "cell_type": "code",
   "execution_count": 20,
   "id": "627e7090",
   "metadata": {},
   "outputs": [],
   "source": [
    "#normalised_signal, signal_bin_values, normalised_background, background_bin_values = normalisepdfs(\"signal_lz_hist.csv\", \"back_lz_hist.csv\")\n",
    "#plotpdf(normalised_signal, signal_bin_values, normalised_background, background_bin_values)"
   ]
  },
  {
   "cell_type": "code",
   "execution_count": 21,
   "id": "3594b17c",
   "metadata": {},
   "outputs": [],
   "source": [
    "#normalised_signal, signal_bin_values, normalised_background, background_bin_values = normalisepdfs(\"signal_4point_hist.csv\", \"back_4point_hist.csv\")\n",
    "#plotpdf(normalised_signal, signal_bin_values, normalised_background, background_bin_values)"
   ]
  },
  {
   "cell_type": "code",
   "execution_count": 22,
   "id": "cddff341",
   "metadata": {},
   "outputs": [],
   "source": [
    "def find_nearest(array, value):\n",
    "    array = np.asarray(array)\n",
    "    idx = (np.abs(array - value)).argmin()\n",
    "    return array[idx], idx\n",
    "\n",
    "def AoI(plane, event_number, thresholding=True, no_std=thr_std):\n",
    "    if plane==\"u\":\n",
    "        AoI_x = u_x[event_number]\n",
    "        AoI_z = u_z[event_number]\n",
    "        AoI_adc = u_adc[event_number]\n",
    "        AoI_truevtxz = u_truevtx_z[event_number]\n",
    "        AoI_truevtxx = u_truevtx_x[event_number]\n",
    "    elif plane==\"v\":\n",
    "        AoI_x = v_x[event_number]\n",
    "        AoI_z = v_z[event_number]\n",
    "        AoI_adc = v_adc[event_number]\n",
    "        AoI_truevtxz = v_truevtx_z[event_number]\n",
    "        AoI_truevtxx = v_truevtx_x[event_number]\n",
    "    elif plane==\"w\":\n",
    "        AoI_x = w_x[event_number]\n",
    "        AoI_z = w_z[event_number]\n",
    "        AoI_adc = w_adc[event_number]   \n",
    "        AoI_truevtxz = w_truevtx_z[event_number]\n",
    "        AoI_truevtxx = w_truevtx_x[event_number]\n",
    "    else:\n",
    "        print(\"PLane not u,v,w\")\n",
    "        \n",
    "    if thresholding:\n",
    "        mean = np.average(AoI_adc)\n",
    "        std = np.std(AoI_adc)\n",
    "        AoI_x = AoI_x[(mean-no_std*std<AoI_adc)]\n",
    "        AoI_z = AoI_z[(mean-no_std*std<AoI_adc)]\n",
    "        AoI_adc = AoI_adc[(mean-no_std*std<AoI_adc)]\n",
    "    \n",
    "    return AoI_x, AoI_z, AoI_adc, AoI_truevtxz, AoI_truevtxx\n",
    "\n",
    "def plotter(plane, event_number, thresholding=True, no_std=thr_std):\n",
    "    \n",
    "    AoI_x, AoI_z, AoI_adc, AoI_truevtxz, AoI_truevtxx = AoI(plane, event_number, thresholding, no_std)\n",
    "\n",
    "\n",
    "    \n",
    "    plt.scatter(AoI_z, AoI_x, c=AoI_adc, cmap=\"viridis\")\n",
    "    plt.title(str(plane)+\" plane\")\n",
    "    plt.xlabel(\"z\")\n",
    "    plt.ylabel(\"x\")\n",
    "\n",
    "    return 0\n"
   ]
  },
  {
   "cell_type": "markdown",
   "id": "2c5cca2f",
   "metadata": {},
   "source": [
    "# Least Z Probability Calculation"
   ]
  },
  {
   "cell_type": "code",
   "execution_count": 23,
   "id": "63f82620",
   "metadata": {},
   "outputs": [],
   "source": [
    "def least_z_scores(plane, event):\n",
    "    x_view, z_view, adc_view, true_z, true_x = AoI(plane, event)\n",
    "    z_scores = [None] * len(x_view)\n",
    "    min_z = np.amin(z_view)\n",
    "    ind = np.where(min_z)[0]\n",
    "    min_x = x_view[ind]\n",
    "    for i in range(len(x_view)):\n",
    "        z_scores[i] = z_view[ind] - z_view[i]\n",
    "    \n",
    "    score_max = max(z_scores)\n",
    "    score_min = min(z_scores)\n",
    "    \n",
    "    normalised_scores = (z_scores - score_min) / (score_max - score_min)\n",
    "    \n",
    "    return normalised_scores"
   ]
  },
  {
   "cell_type": "code",
   "execution_count": 115,
   "id": "37ead32d",
   "metadata": {},
   "outputs": [],
   "source": [
    "import scipy as sp\n",
    "def calculate_probability_lz(plane, event, vertex):\n",
    "    score = least_z_scores(plane, event)[vertex]\n",
    "    norm_signal, signal_bin, norm_background, background_bin = normalisepdfs(\"signal_lz_hist.csv\", \"back_lz_hist.csv\")\n",
    "    interpolated_function = sp.interpolate.interp1d(signal_bin, norm_signal, kind=\"cubic\", fill_value='extrapolate')\n",
    "    prob = interpolated_function(score)\n",
    "    \n",
    "    for i in range(0, len(prob)):\n",
    "        if prob[i] >= cutoff_value:\n",
    "            prob[i] = cutoff_value\n",
    "    \n",
    "    return prob\n"
   ]
  },
  {
   "cell_type": "markdown",
   "id": "55941a1d",
   "metadata": {},
   "source": [
    "# RPHI Probability Calculation"
   ]
  },
  {
   "cell_type": "code",
   "execution_count": 27,
   "id": "f012c996",
   "metadata": {},
   "outputs": [],
   "source": [
    "def rfunc(r):\n",
    "    return 1/((r+0.01)**(1/2))\n",
    "\n",
    "def rphi(plane, event_number, thresholding=True, no_std=thr_std, centre_coord=(0,0), func=rfunc, no_sectors=5, centre=0):\n",
    "    AoI_x, AoI_z, AoI_adc, AoI_truevtxz, AoI_truevtxx = AoI(plane, event_number, thresholding, no_std)\n",
    "    \n",
    "    centred_x = AoI_x - centre_coord[1]\n",
    "    centred_z = AoI_z - centre_coord[0]\n",
    "    \n",
    "    cen_r = (centred_x**2 + centred_z**2)**0.5\n",
    "    #distance from central point to every other point\n",
    "    \n",
    "\n",
    "    #make the problem tractable (solvable)\n",
    "    \n",
    "    weight = rfunc(cen_r)\n",
    "\n",
    "    theta = np.arctan2(centred_x, centred_z)\n",
    "    hist_data, hist_bins = np.histogram(theta, no_sectors, (-np.pi+centre,np.pi+centre), weights=weight)\n",
    "    \n",
    "    hist_sqr = hist_data**2\n",
    "    score = np.sum(hist_sqr)\n",
    "    norm_score = (score/len(theta)**2)**0.5\n",
    "    \n",
    "    return norm_score\n",
    "\n",
    "def optimise_phi(plane, event_number, thresholding=True, no_std=thr_std, no_sectors=20, centre=0, plot=False):\n",
    "    AoI_x, AoI_z, AoI_adc, AoI_truevtxz, AoI_truevtxx = AoI(plane, event_number, thresholding, no_std)\n",
    "    no_points = len(AoI_x)\n",
    "    score_arr = np.zeros(no_points)\n",
    "    for i in range(no_points):\n",
    "        centre_co = (AoI_z[i], AoI_x[i])\n",
    "        score_arr[i] = rphi(plane, event_number, centre_coord=centre_co)\n",
    "    \n",
    "    ind = np.argmax(score_arr)\n",
    "    zmin, xmin = AoI_z[ind], AoI_x[ind]\n",
    "    if plot:\n",
    "        plotter(plane, event_number, thresholding, no_std)\n",
    "        plt.plot(zmin, xmin, 'ro')\n",
    "        plt.show()\n",
    "    return zmin, xmin, score_arr[ind], score_arr\n",
    "\n",
    "def rphi_scores(plane, event_number, function=optimise_phi, dependence=np.exp, plot=False, thresholding=True, no_std=thr_std, no_sectors=5):\n",
    "    AoI_x, AoI_z, AoI_adc, Zvert_true_place, Xvert_true_place = AoI(plane, event_number, thresholding, no_std)\n",
    "    Zvert_place, Xvert_place = function(plane, event_number, no_sectors)[0], function(plane, event_number, no_sectors)[1]\n",
    "    score_max, score_array = function(plane, event_number, no_sectors)[2], function(plane, event_number, no_sectors)[3]\n",
    "    \n",
    "    score_min = np.min(score_array)\n",
    "    \n",
    "    normalised_scores = (score_array - score_min) / (score_max - score_min)\n",
    "    \n",
    "    if plot:\n",
    "        plt.plot(AoI_z, AoI_x, 'o')\n",
    "        plt.show()\n",
    "        plt.plot(AoI_z, normalised_scores, 'ro')\n",
    "        plt.show()\n",
    "    return normalised_scores\n"
   ]
  },
  {
   "cell_type": "code",
   "execution_count": 116,
   "id": "0d6b5935",
   "metadata": {},
   "outputs": [],
   "source": [
    "import scipy as sp\n",
    "def calculate_probability_rphi(plane, event, vertex):\n",
    "    score = rphi_scores(plane, event)[vertex]\n",
    "    norm_signal, signal_bin, norm_background, background_bin = normalisepdfs(\"signal_rphi_hist.csv\", \"back_rphi_hist.csv\")\n",
    "    interpolated_function = sp.interpolate.interp1d(signal_bin, norm_signal, kind=\"cubic\", fill_value='extrapolate')\n",
    "    prob = interpolated_function(score)\n",
    "    \n",
    "    for i in range(0, len(prob)):\n",
    "        if prob[i] >= cutoff_value:\n",
    "            prob[i] = cutoff_value\n",
    "\n",
    "    return prob"
   ]
  },
  {
   "cell_type": "markdown",
   "id": "e521d638",
   "metadata": {},
   "source": [
    "# QuadVertex Probability Calculation"
   ]
  },
  {
   "cell_type": "code",
   "execution_count": 63,
   "id": "3350d63b",
   "metadata": {},
   "outputs": [],
   "source": [
    "def line_finder(point1, point2):\n",
    "    slope = (point1[1] - point2[1])/(point1[0] - point2[0])\n",
    "    intercept = point1[1] - slope * point1[0]\n",
    "    return slope, intercept\n",
    "\n",
    "def line_intersect(slope1, intercept1, slope2, intercept2):\n",
    "    x_point = (intercept2 - intercept1)/(slope1 - slope2)\n",
    "    z_point = slope1 * x_point + intercept1\n",
    "    return x_point, z_point\n",
    "\n",
    "def check_valid_intersection(point1, point2, point3, point4, range_x, range_z):\n",
    "    slope1, intercept1 = line_finder(point1, point2)\n",
    "    slope2, intercept2 = line_finder(point3, point4)\n",
    "    x_point, z_point = line_intersect(slope1, intercept1, slope2, intercept2)\n",
    "    x_vertices = [point1[0], point2[0], point3[0], point4[0]]\n",
    "    z_vertices = [point1[1], point2[1], point3[1], point4[1]]\n",
    "    x_max, x_min = max(x_vertices), min(x_vertices)\n",
    "    z_max, z_min = max(z_vertices), min(z_vertices)\n",
    "    angle1, angle2 = np.arctan(slope1), np.arctan(slope2)\n",
    "    if x_point > x_min and x_point < x_max:\n",
    "        if z_point > z_min and z_point < z_max:\n",
    "            if x_point > (range_x[0] - 100) and x_point < range_x[1]:\n",
    "                if z_point > (range_z[0] - 100) and z_point < range_z[1]:\n",
    "                    if angle1 < 0.8*angle2 or angle1 > 1.25*angle2: \n",
    "                        return x_point, z_point\n",
    "                    else:\n",
    "                        return \"fail 1\", angle1, angle2\n",
    "                else:\n",
    "                    return \"fail 2\"\n",
    "            else:\n",
    "                return \"fail 3\"\n",
    "        else:\n",
    "            return \"fail 4\"\n",
    "    else:\n",
    "        return \"fail 5\"\n",
    "\n",
    "def get_valid_points(point1, point2, point3, point4, range_x, range_z):\n",
    "    initial_vertices = [0, 0]\n",
    "    try:\n",
    "        initial_vertices[0], initial_vertices[1] = check_valid_intersection(point1, point2, point3, point4, range_x, range_z)\n",
    "        #print(\"V1\")\n",
    "        return initial_vertices\n",
    "    except:\n",
    "        try:\n",
    "            initial_vertices[0], initial_vertices[1] = check_valid_intersection(point1, point3, point2, point4, range_x, range_z)\n",
    "            #print(\"V2\")\n",
    "            return initial_vertices\n",
    "        except:\n",
    "            try:\n",
    "                initial_vertices[0], initial_vertices[1] = check_valid_intersection(point1, point4, point2, point3, range_x, range_z)\n",
    "                #print(\"V3\")\n",
    "                return initial_vertices\n",
    "            except:\n",
    "                #print(\"Fail\", point1, point2, point3, point4) \n",
    "                return False\n",
    "\n",
    "def select_random_points(AoI_x, AoI_z, AoI_adc, iterations=\"scaled\", no_std=thr_std):\n",
    "    if iterations == \"scaled\":\n",
    "        iterations = int((len(AoI_x))*4)\n",
    "        initial_vertex_points = np.zeros((iterations, 2))\n",
    "        vertex_length = len(AoI_x)\n",
    "        if vertex_length > 4:\n",
    "            range_x = (np.amin(AoI_x), np.amax(AoI_x))\n",
    "            range_z = (np.amin(AoI_z), np.amax(AoI_z))\n",
    "            for i in range(iterations):\n",
    "                sample = random.sample(range(0, vertex_length), 4)\n",
    "                vtxind_1, vtxind_2, vtxind_3, vtxind_4 = sample[0], sample[1], sample[2], sample[3]\n",
    "                point1, point2, point3, point4 = (AoI_x[vtxind_1], AoI_z[vtxind_1]), (AoI_x[vtxind_2], AoI_z[vtxind_2]), (AoI_x[vtxind_3], AoI_z[vtxind_3]), (AoI_x[vtxind_4], AoI_z[vtxind_4])\n",
    "                try:\n",
    "                    initial_vertex_points[i, 0], initial_vertex_points[i, 1] = get_valid_points(point1, point2, point3, point4, range_x, range_z)\n",
    "                except:\n",
    "                    pass\n",
    "                '''\n",
    "                print(\"Sample: \", sample)\n",
    "                print(\"Slope 1: \", slope1)\n",
    "                print(\"Slope 2: \", slope2)\n",
    "                print(\"Intercept 1: \", intercept1)\n",
    "                print(\"Intercept 2: \", intercept2)\n",
    "                print(\"$$$$$$$$    X-point, Z-point    $$$$$$$$: \", x_point, y_point)\n",
    "                '''\n",
    "    else:\n",
    "        initial_vertex_points = np.zeros((iterations, 2))\n",
    "        vertex_length = len(AoI_x)\n",
    "        if vertex_length > 4:\n",
    "            range_x = (np.amin(AoI_x), np.amax(AoI_x))\n",
    "            range_z = (np.amin(AoI_z), np.amax(AoI_z))\n",
    "            for i in range(iterations):\n",
    "                sample = random.sample(range(0, vertex_length), 4)\n",
    "                vtxind_1, vtxind_2, vtxind_3, vtxind_4 = sample[0], sample[1], sample[2], sample[3]\n",
    "                point1, point2, point3, point4 = (AoI_x[vtxind_1], AoI_z[vtxind_1]), (AoI_x[vtxind_2], AoI_z[vtxind_2]), (AoI_x[vtxind_3], AoI_z[vtxind_3]), (AoI_x[vtxind_4], AoI_z[vtxind_4])\n",
    "                try:\n",
    "                    initial_vertex_points[i, 0], initial_vertex_points[i, 1] = get_valid_points(point1, point2, point3, point4, range_x, range_z)\n",
    "                except:\n",
    "                    pass\n",
    "    return initial_vertex_points\n",
    "\n",
    "def heatmap4points(plane, event_number, thresholding=False, no_std=thr_std, iterations=10000, bins=100):\n",
    "    \n",
    "    AoI_x, AoI_z, AoI_adc, AoI_truevtxz, AoI_truevtxx = AoI(plane, event_number, thresholding, no_std)\n",
    "    vertex_points = select_random_points(AoI_x, AoI_z, AoI_adc, iterations)\n",
    "    #print(vertex_points)\n",
    "    vertex_points = vertex_points[~np.all(vertex_points == 0, axis=1)] #removes all the 0,0 vertices\n",
    "    \n",
    "    #print(vertex_points)\n",
    "    histvertex = plt.hist2d(vertex_points[:,1], vertex_points[:,0], bins=(bins, bins), cmap=plt.cm.jet)\n",
    "    plt.title(str(plane) + str(event_number))\n",
    "    #stringy = str(plane) + str(event_number) + \".png\"\n",
    "    #plt.savefig(stringy)\n",
    "    #plt.show()\n",
    "    \n",
    "    histogram_array = histvertex[0]\n",
    "    #print(histogram_array)\n",
    "    max_value = np.amax(histogram_array)\n",
    "    indices = np.where(histogram_array == max_value)\n",
    "    #print(\"Indices: \", indices)\n",
    "    z_value = histvertex[1][indices[0]]\n",
    "    x_value = histvertex[2][indices[1]]\n",
    "    #print(\"Z_value: \", z_value)\n",
    "    #print(\"X_value: \", x_value)\n",
    "\n",
    "    return z_value[0], x_value[0], histogram_array, histvertex[1], histvertex[2]\n",
    "\n",
    "def quadvertex_scores(plane, event_number, binwidth=(100,100), binradius=3):\n",
    "    AoI_x, AoI_z, AoI_adc, AoI_truevtxz, AoI_truevtxx = AoI(plane, event_number)\n",
    "    \n",
    "    h, zedges, xedges = heatmap4points(plane, event_number)[2], heatmap4points(plane, event_number)[3], heatmap4points(plane, event_number)[4] #import heavy lifting from qv main function\n",
    "\n",
    "    zbins = np.digitize(AoI_z, zedges) - 2 \n",
    "    xbins = np.digitize(AoI_x, xedges) - 2\n",
    "    \n",
    "    zxbins = np.concatenate((zbins[...,None],xbins[...,None]), axis=1) #combine into (L,2) array\n",
    "    \n",
    "    weights = h[zxbins[:,0], zxbins[:,1]]\n",
    "    \n",
    "    scores = weights/np.amax(weights)\n",
    "    return scores\n"
   ]
  },
  {
   "cell_type": "code",
   "execution_count": 117,
   "id": "183f47b7",
   "metadata": {},
   "outputs": [],
   "source": [
    "import scipy as sp\n",
    "def calculate_probability_quad(plane, event, vertex):\n",
    "    score = quadvertex_scores(plane, event)[vertex]\n",
    "    norm_signal, signal_bin, norm_background, background_bin = normalisepdfs(\"signal_quad_hist.csv\", \"back_quad_hist.csv\")\n",
    "    interpolated_function = sp.interpolate.interp1d(signal_bin, norm_signal, kind=\"cubic\", fill_value='extrapolate')\n",
    "    prob = interpolated_function(score)\n",
    "    \n",
    "    for i in range(0, len(prob)):\n",
    "        if prob[i] >= cutoff_value:\n",
    "            prob[i] = cutoff_value\n",
    "    \n",
    "    return prob"
   ]
  },
  {
   "cell_type": "markdown",
   "id": "fab9c553",
   "metadata": {},
   "source": [
    "# Full Likelihood Calculation"
   ]
  },
  {
   "cell_type": "code",
   "execution_count": 134,
   "id": "490e4fd5",
   "metadata": {},
   "outputs": [],
   "source": [
    "def calculate_likelihood(plane, event, vertex):\n",
    "    \n",
    "    prob_lz = calculate_probability_lz(plane, event, vertex)\n",
    "    prob_lz = np.transpose(prob_lz)\n",
    "    prob_rphi = calculate_probability_rphi(plane, event, vertex)\n",
    "    prob_quad = calculate_probability_quad(plane, event, vertex)\n",
    "    \n",
    "    print(prob_lz, prob_rphi, prob_quad)\n",
    "    \n",
    "    signal_likelihood = prob_lz * prob_rphi * prob_quad\n",
    "    back_likelihood = (1 - prob_lz) * (1 - prob_rphi) * (1 - prob_quad)\n",
    "    \n",
    "    likelihood = signal_likelihood / (signal_likelihood + back_likelihood)\n",
    "    \n",
    "    return likelihood"
   ]
  },
  {
   "cell_type": "code",
   "execution_count": 138,
   "id": "32f85934",
   "metadata": {},
   "outputs": [
    {
     "name": "stdout",
     "output_type": "stream",
     "text": [
      "[[0.90416816]] [0.99] [0.51184804]\n"
     ]
    },
    {
     "data": {
      "image/png": "[encoded data removed]",
      "text/plain": [
       "<Figure size 640x480 with 1 Axes>"
      ]
     },
     "metadata": {},
     "output_type": "display_data"
    }
   ],
   "source": [
    "listy = list(range(0, len(AoI(\"u\", 40)[1])))\n",
    "likelihoods = calculate_likelihood(\"u\", 40, [3])"
   ]
  },
  {
   "cell_type": "code",
   "execution_count": 139,
   "id": "cc3368f8",
   "metadata": {},
   "outputs": [
    {
     "name": "stdout",
     "output_type": "stream",
     "text": [
      "[[0.99898001]]\n"
     ]
    }
   ],
   "source": [
    "print(likelihoods)"
   ]
  },
  {
   "cell_type": "code",
   "execution_count": 140,
   "id": "ded36097",
   "metadata": {},
   "outputs": [
    {
     "name": "stdout",
     "output_type": "stream",
     "text": [
      "0.9989800092801184 0\n"
     ]
    }
   ],
   "source": [
    "print(np.amax(likelihoods), np.argmax(likelihoods))"
   ]
  },
  {
   "cell_type": "code",
   "execution_count": null,
   "id": "80478d55",
   "metadata": {},
   "outputs": [],
   "source": []
  }
 ],
 "metadata": {
  "kernelspec": {
   "display_name": "Python 3 (ipykernel)",
   "language": "python",
   "name": "python3"
  },
  "language_info": {
   "codemirror_mode": {
    "name": "ipython",
    "version": 3
   },
   "file_extension": ".py",
   "mimetype": "text/x-python",
   "name": "python",
   "nbconvert_exporter": "python",
   "pygments_lexer": "ipython3",
   "version": "3.8.13"
  }
 },
 "nbformat": 4,
 "nbformat_minor": 5
}
