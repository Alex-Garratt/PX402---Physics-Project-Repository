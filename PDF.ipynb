{
 "cells": [
  {
   "cell_type": "code",
   "execution_count": 1,
   "metadata": {},
   "outputs": [
    {
     "name": "stdout",
     "output_type": "stream",
     "text": [
      "Running...\n",
      "All data loaded in 152.674383 seconds\n"
     ]
    }
   ],
   "source": [
    "from uproot_io import Events, View\n",
    "import matplotlib.pyplot as plt\n",
    "import numpy as np\n",
    "from tqdm import tqdm\n",
    "import time\n",
    "\n",
    "print(\"Running...\")\n",
    "toc = time.perf_counter()\n",
    "#ALL SETUP\n",
    "\n",
    "thr_std=0.2\n",
    "n_events=9310\n",
    "\n",
    "\n",
    "E = Events(\"CheatedRecoFile_1.root\")\n",
    "\n",
    "\n",
    "view_u = View(E, \"u\")\n",
    "view_v = View(E, \"v\")\n",
    "view_w = View(E, \"w\")\n",
    "\n",
    "\n",
    "u_x = view_u.x\n",
    "u_z = view_u.z\n",
    "u_adc = view_u.adc\n",
    "u_truevtx_z = view_u.true_vtx_z\n",
    "u_truevtx_x = view_u.true_vtx_x\n",
    "\n",
    "\n",
    "v_x = view_v.x\n",
    "v_z = view_v.z\n",
    "v_adc = view_v.adc\n",
    "v_truevtx_z = view_v.true_vtx_z\n",
    "v_truevtx_x = view_v.true_vtx_x\n",
    "\n",
    "w_x = view_w.x\n",
    "w_z = view_w.z\n",
    "w_adc = view_w.adc\n",
    "w_truevtx_z = view_w.true_vtx_z\n",
    "w_truevtx_x = view_w.true_vtx_x\n",
    "\n",
    "tic = time.perf_counter()\n",
    "print(\"All data loaded in\", tic-toc, \"seconds\")"
   ]
  },
  {
   "cell_type": "code",
   "execution_count": 2,
   "metadata": {},
   "outputs": [],
   "source": [
    "def AoI(plane, event_number, thresholding=True, no_std=thr_std, ordering=True):\n",
    "    #given plane and event number, extract required information and threshold if required\n",
    "    if plane==\"u\":\n",
    "        AoI_x = u_x[event_number]\n",
    "        AoI_z = u_z[event_number]\n",
    "        AoI_adc = u_adc[event_number]\n",
    "        AoI_truevtxz = u_truevtx_z[event_number]\n",
    "        AoI_truevtxx = u_truevtx_x[event_number]\n",
    "    elif plane==\"v\":\n",
    "        AoI_x = v_x[event_number]\n",
    "        AoI_z = v_z[event_number]\n",
    "        AoI_adc = v_adc[event_number]\n",
    "        AoI_truevtxz = v_truevtx_z[event_number]\n",
    "        AoI_truevtxx = v_truevtx_x[event_number]\n",
    "    elif plane==\"w\":\n",
    "        AoI_x = w_x[event_number]\n",
    "        AoI_z = w_z[event_number]\n",
    "        AoI_adc = w_adc[event_number]   \n",
    "        AoI_truevtxz = w_truevtx_z[event_number]\n",
    "        AoI_truevtxx = w_truevtx_x[event_number]\n",
    "    else:\n",
    "        print(\"PLane not u,v,w\")\n",
    "        \n",
    "    if thresholding:\n",
    "        mean = np.average(AoI_adc)\n",
    "        std = np.std(AoI_adc)\n",
    "        AoI_x = AoI_x[(mean-no_std*std<AoI_adc)]\n",
    "        AoI_z = AoI_z[(mean-no_std*std<AoI_adc)]\n",
    "        AoI_adc = AoI_adc[(mean-no_std*std<AoI_adc)]\n",
    "        \n",
    "    if ordering:\n",
    "        order = np.argsort(AoI_z)\n",
    "        AoI_z = np.take_along_axis(AoI_z, order, axis=0)\n",
    "        AoI_x = np.take_along_axis(AoI_x, order, axis=0)\n",
    "        AoI_adc = np.take_along_axis(AoI_adc, order, axis=0)\n",
    "        \n",
    "    AoI = [AoI_z, AoI_x, AoI_adc]\n",
    "    return AoI, (AoI_truevtxz,AoI_truevtxx)\n",
    "#AoI, true = AoI(\"u\", 657)\n",
    "#AoI, true = AoI(\"u\", 20)"
   ]
  },
  {
   "cell_type": "code",
   "execution_count": 7,
   "metadata": {},
   "outputs": [],
   "source": [
    "Aoi, true = AoI('u', 20)"
   ]
  },
  {
   "cell_type": "code",
   "execution_count": 3,
   "metadata": {},
   "outputs": [],
   "source": [
    "from tqdm import tqdm"
   ]
  },
  {
   "cell_type": "code",
   "execution_count": 4,
   "metadata": {},
   "outputs": [],
   "source": [
    "def least_z(AoI):\n",
    "    z, x, adc = AoI\n",
    "    return z[0], x[0]"
   ]
  },
  {
   "cell_type": "code",
   "execution_count": 8,
   "metadata": {},
   "outputs": [
    {
     "data": {
      "text/plain": [
       "array([1.0000000e+00, 6.2708396e-01, 3.9323431e-01, 2.4656084e-01,\n",
       "       1.5461436e-01, 9.6956186e-02, 6.0799669e-02, 3.8126498e-02,\n",
       "       2.3905599e-02, 1.4990819e-02, 9.4005018e-03, 5.8949040e-03,\n",
       "       3.6966000e-03, 2.3177958e-03, 1.4534525e-03, 9.1143680e-04,\n",
       "       5.7154743e-04, 3.5840823e-04, 2.2472463e-04, 1.4092121e-04,\n",
       "       8.8369437e-05, 5.5415057e-05, 3.4749897e-05, 2.1788443e-05,\n",
       "       1.3663183e-05, 8.5679640e-06, 5.3728327e-06, 3.3688061e-06,\n",
       "       2.1125243e-06, 1.3247302e-06, 8.3071706e-07, 5.2092935e-07,\n",
       "       3.2662660e-07, 2.0482230e-07, 1.2844079e-07, 8.0543160e-08,\n",
       "       5.0507325e-08], dtype=float32)"
      ]
     },
     "execution_count": 8,
     "metadata": {},
     "output_type": "execute_result"
    }
   ],
   "source": [
    "def least_z_scores(AoI, dependence=np.exp, plot=False):\n",
    "    z, x, adc = AoI\n",
    "    scores = dependence(z[0]-z)\n",
    "    if plot:\n",
    "        plt.plot(z, x, 'o')\n",
    "        plt.show()\n",
    "        plt.plot(z, scores, 'ro')\n",
    "        plt.show()\n",
    "    return scores\n",
    "least_z_scores(Aoi)"
   ]
  },
  {
   "cell_type": "code",
   "execution_count": 12,
   "metadata": {},
   "outputs": [
    {
     "name": "stderr",
     "output_type": "stream",
     "text": [
      "100%|██████████████████████████████████████████████████████████████████████████████████| 13/13 [00:52<00:00,  4.04s/it]\n"
     ]
    },
    {
     "data": {
      "image/png": "[encoded data removed]",
      "text/plain": [
       "<Figure size 432x288 with 1 Axes>"
      ]
     },
     "metadata": {
      "needs_background": "light"
     },
     "output_type": "display_data"
    },
    {
     "data": {
      "text/plain": [
       "((array([8.905e+03, 1.100e+01, 5.000e+00, 1.100e+01, 1.800e+01, 2.400e+01,\n",
       "         4.000e+00, 8.700e+01, 7.000e+00, 1.000e+00, 1.000e+00, 1.000e+00,\n",
       "         1.000e+00, 2.200e+01, 1.000e+00, 0.000e+00, 0.000e+00, 1.000e+00,\n",
       "         0.000e+00, 2.500e+01]),\n",
       "  array([0.  , 0.05, 0.1 , 0.15, 0.2 , 0.25, 0.3 , 0.35, 0.4 , 0.45, 0.5 ,\n",
       "         0.55, 0.6 , 0.65, 0.7 , 0.75, 0.8 , 0.85, 0.9 , 0.95, 1.  ]),\n",
       "  <BarContainer object of 20 artists>),\n",
       " (array([1.830e+02, 3.000e+00, 5.000e+00, 1.732e+03, 3.306e+03, 5.390e+02,\n",
       "         3.260e+02, 9.730e+02, 3.980e+02, 2.000e+00, 1.000e+00, 2.000e+00,\n",
       "         2.000e+00, 4.360e+02, 0.000e+00, 0.000e+00, 1.000e+00, 0.000e+00,\n",
       "         1.000e+00, 1.215e+03]),\n",
       "  array([0.  , 0.05, 0.1 , 0.15, 0.2 , 0.25, 0.3 , 0.35, 0.4 , 0.45, 0.5 ,\n",
       "         0.55, 0.6 , 0.65, 0.7 , 0.75, 0.8 , 0.85, 0.9 , 0.95, 1.  ]),\n",
       "  <BarContainer object of 20 artists>))"
      ]
     },
     "execution_count": 12,
     "metadata": {},
     "output_type": "execute_result"
    }
   ],
   "source": [
    "def pdf(events, algorithm_scores, Length, plot=False):\n",
    "    signal = []\n",
    "    noise = []\n",
    "    for ev in tqdm(events):\n",
    "        Aoi, true = AoI('u', ev, thresholding=True, no_std=thr_std, ordering=True)\n",
    "        z, x, adc = Aoi\n",
    "        L = len(z)\n",
    "        scores = algorithm_scores(Aoi)\n",
    "        for i in range(L):\n",
    "            r =( (z[i]-z)**2 + (x[i]-x)**2 )**0.5\n",
    "            sig_miniscore = 0\n",
    "            noi_miniscore = 0\n",
    "            for j in range(L):\n",
    "                if r[j]>Length:\n",
    "                    noi_miniscore += scores[j]\n",
    "                else:\n",
    "                    sig_miniscore += scores[j]\n",
    "            signal.append(sig_miniscore)\n",
    "            noise.append(noi_miniscore)\n",
    "\n",
    "    #normalise to between 0 and 1\n",
    "    signal = np.array(signal)/np.amax(signal)\n",
    "    noise = np.array(noise)/np.amax(noise)\n",
    "\n",
    "    #give as fraction of hits\n",
    "    no_in_sig = len(signal)\n",
    "    no_in_noi = len(noise)\n",
    "    \n",
    "    if plot:\n",
    "        x = plt.hist(signal,20)\n",
    "        y = plt.hist(noise,20)\n",
    "        plt.show()\n",
    "    return x, y\n",
    "\n",
    "events = [2,59,347,785,1000,2345,3234,6571,7980,8000,8500,8764,9005]\n",
    "\n",
    "\n",
    "pdf(events, least_z_scores, 12, plot=True)\n",
    "#3,5,11\n"
   ]
  },
  {
   "cell_type": "code",
   "execution_count": null,
   "metadata": {},
   "outputs": [],
   "source": []
  }
 ],
 "metadata": {
  "kernelspec": {
   "display_name": "Python 3",
   "language": "python",
   "name": "python3"
  },
  "language_info": {
   "codemirror_mode": {
    "name": "ipython",
    "version": 3
   },
   "file_extension": ".py",
   "mimetype": "text/x-python",
   "name": "python",
   "nbconvert_exporter": "python",
   "pygments_lexer": "ipython3",
   "version": "3.8.5"
  }
 },
 "nbformat": 4,
 "nbformat_minor": 4
}
