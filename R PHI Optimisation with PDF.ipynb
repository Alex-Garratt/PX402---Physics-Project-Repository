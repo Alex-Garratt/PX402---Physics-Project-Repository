{
 "cells": [
  {
   "cell_type": "code",
   "execution_count": 1,
   "id": "15e6d512",
   "metadata": {},
   "outputs": [
    {
     "name": "stdout",
     "output_type": "stream",
     "text": [
      "Running...\n"
     ]
    }
   ],
   "source": [
    "from uproot_io import Events, View\n",
    "import matplotlib.pyplot as plt\n",
    "import numpy as np\n",
    "from tqdm import tqdm\n",
    "import random\n",
    "\n",
    "random.seed(0)\n",
    "\n",
    "print(\"Running...\")\n",
    "\n",
    "\n",
    "thr_std=0.2\n",
    "\n",
    "E = Events(\"CheatedRecoFile_1.root\")\n",
    "\n",
    "view_u = View(E, \"u\")\n",
    "view_v = View(E, \"v\")\n",
    "view_w = View(E, \"w\")\n",
    "\n",
    "u_x = view_u.x\n",
    "u_z = view_u.z\n",
    "u_adc = view_u.adc\n",
    "u_truevtx_z = view_u.true_vtx_z\n",
    "u_truevtx_x = view_u.true_vtx_x\n",
    "\n",
    "v_x = view_v.x\n",
    "v_z = view_v.z\n",
    "v_adc = view_v.adc\n",
    "v_truevtx_z = view_v.true_vtx_z\n",
    "v_truevtx_x = view_v.true_vtx_x\n",
    "\n",
    "w_x = view_w.x\n",
    "w_z = view_w.z\n",
    "w_adc = view_w.adc\n",
    "w_truevtx_z = view_w.true_vtx_z\n",
    "w_truevtx_x = view_w.true_vtx_x\n",
    "\n"
   ]
  },
  {
   "cell_type": "code",
   "execution_count": 2,
   "id": "6b7cd4dd",
   "metadata": {},
   "outputs": [
    {
     "name": "stdout",
     "output_type": "stream",
     "text": [
      "9310\n"
     ]
    }
   ],
   "source": [
    "print(len(u_x))"
   ]
  },
  {
   "cell_type": "code",
   "execution_count": 3,
   "id": "26efd199",
   "metadata": {},
   "outputs": [],
   "source": [
    "def AoI(plane, event_number, thresholding=True, no_std=thr_std):\n",
    "    if plane==\"u\":\n",
    "        AoI_x = u_x[event_number]\n",
    "        AoI_z = u_z[event_number]\n",
    "        AoI_adc = u_adc[event_number]\n",
    "        AoI_truevtxz = u_truevtx_z[event_number]\n",
    "        AoI_truevtxx = u_truevtx_x[event_number]\n",
    "    elif plane==\"v\":\n",
    "        AoI_x = v_x[event_number]\n",
    "        AoI_z = v_z[event_number]\n",
    "        AoI_adc = v_adc[event_number]\n",
    "        AoI_truevtxz = v_truevtx_z[event_number]\n",
    "        AoI_truevtxx = v_truevtx_x[event_number]\n",
    "    elif plane==\"w\":\n",
    "        AoI_x = w_x[event_number]\n",
    "        AoI_z = w_z[event_number]\n",
    "        AoI_adc = w_adc[event_number]   \n",
    "        AoI_truevtxz = w_truevtx_z[event_number]\n",
    "        AoI_truevtxx = w_truevtx_x[event_number]\n",
    "    else:\n",
    "        print(\"PLane not u,v,w\")\n",
    "        \n",
    "    if thresholding:\n",
    "        mean = np.average(AoI_adc)\n",
    "        std = np.std(AoI_adc)\n",
    "        AoI_x = AoI_x[(mean-no_std*std<AoI_adc)]\n",
    "        AoI_z = AoI_z[(mean-no_std*std<AoI_adc)]\n",
    "        AoI_adc = AoI_adc[(mean-no_std*std<AoI_adc)]\n",
    "    \n",
    "    return AoI_x, AoI_z, AoI_adc, AoI_truevtxz, AoI_truevtxx"
   ]
  },
  {
   "cell_type": "code",
   "execution_count": 4,
   "id": "73e7851e",
   "metadata": {},
   "outputs": [],
   "source": [
    "def plotter(plane, event_number, thresholding=True, no_std=thr_std):\n",
    "    \n",
    "    AoI_x, AoI_z, AoI_adc, AoI_truevtxz, AoI_truevtxx = AoI(plane, event_number, thresholding, no_std)\n",
    "\n",
    "\n",
    "    \n",
    "    plt.scatter(AoI_z, AoI_x, c=AoI_adc, cmap=\"viridis\")\n",
    "    plt.title(str(plane)+\" plane\")\n",
    "    plt.xlabel(\"z\")\n",
    "    plt.ylabel(\"x\")\n",
    "\n",
    "    return 0\n"
   ]
  },
  {
   "cell_type": "code",
   "execution_count": 5,
   "id": "e94812b8",
   "metadata": {},
   "outputs": [],
   "source": [
    "def least_z(plane, event_number, thresholding=True, no_std=thr_std):\n",
    "    \n",
    "    AoI_x, AoI_z, AoI_adc, AoI_truevtxz, AoI_truevtxx = AoI(plane, event_number, thresholding, no_std)\n",
    "    \n",
    "    min_z = np.amin(AoI_z)\n",
    "    ind = np.where(min_z)[0]\n",
    "    min_x = AoI_x[ind]\n",
    "    #print(\"Least z prediction for vertex location: (x-position, z-position, plane)=\", min_x, min_z, plane)\n",
    "    return min_z, min_x"
   ]
  },
  {
   "cell_type": "code",
   "execution_count": 6,
   "id": "b4a838c9",
   "metadata": {},
   "outputs": [],
   "source": [
    "def phi_hist(plane, event_number, thresholding=True, no_std=thr_std, leastz=False, centre_coord=(0,0), no_sectors=12, centre=0, printhist=False):\n",
    "    AoI_x, AoI_z, AoI_adc, AoI_truevtxz, AoI_truevtxx = AoI(plane, event_number, thresholding, no_std)\n",
    "    \n",
    "    if leastz:\n",
    "        centre_coord = least_z(plane, event_number, thresholding, no_std)\n",
    "    \n",
    "    \n",
    "    centred_x = AoI_x - centre_coord[1]\n",
    "    centred_z = AoI_z - centre_coord[0]\n",
    "\n",
    "    theta = np.arctan2(centred_x, centred_z)\n",
    "    hist_data, hist_bins = np.histogram(theta, no_sectors, (-np.pi+centre,np.pi+centre))\n",
    "    \n",
    "    hist_sqr = hist_data**2\n",
    "    score = np.sum(hist_sqr)\n",
    "    norm_score = (score/len(theta)**2)**0.5\n",
    "    \n",
    "    if printhist:\n",
    "        plt.hist(hist_data, hist_bins)\n",
    "        plt.show()\n",
    "\n",
    "    return norm_score"
   ]
  },
  {
   "cell_type": "code",
   "execution_count": 7,
   "id": "293f8bc3",
   "metadata": {},
   "outputs": [],
   "source": [
    "def rfunc(r):\n",
    "    return 1/((r+0.01)**(1/2))\n",
    "\n",
    "\n",
    "\n",
    "def rphi(plane, event_number, thresholding=True, no_std=thr_std, centre_coord=(0,0), func=rfunc, no_sectors=5, centre=0):\n",
    "    AoI_x, AoI_z, AoI_adc, AoI_truevtxz, AoI_truevtxx = AoI(plane, event_number, thresholding, no_std)\n",
    "    \n",
    "    centred_x = AoI_x - centre_coord[1]\n",
    "    centred_z = AoI_z - centre_coord[0]\n",
    "    \n",
    "    cen_r = (centred_x**2 + centred_z**2)**0.5\n",
    "    #distance from central point to every other point\n",
    "    \n",
    "\n",
    "    #make the problem tractable (solvable)\n",
    "    \n",
    "    weight = rfunc(cen_r)\n",
    "\n",
    "    theta = np.arctan2(centred_x, centred_z)\n",
    "    hist_data, hist_bins = np.histogram(theta, no_sectors, (-np.pi+centre,np.pi+centre), weights=weight)\n",
    "    \n",
    "    hist_sqr = hist_data**2\n",
    "    score = np.sum(hist_sqr)\n",
    "    norm_score = (score/len(theta)**2)**0.5\n",
    "    \n",
    "\n",
    "    return norm_score"
   ]
  },
  {
   "cell_type": "code",
   "execution_count": 8,
   "id": "ffe7974a",
   "metadata": {},
   "outputs": [],
   "source": [
    "def optimise_phi(plane, event_number, thresholding=True, no_std=thr_std, no_sectors=20, centre=0, plot=False):\n",
    "    AoI_x, AoI_z, AoI_adc, AoI_truevtxz, AoI_truevtxx = AoI(plane, event_number, thresholding, no_std)\n",
    "    no_points = len(AoI_x)\n",
    "    score_arr = np.zeros(no_points)\n",
    "    for i in range(no_points):\n",
    "        centre_co = (AoI_z[i], AoI_x[i])\n",
    "        score_arr[i] = rphi(plane, event_number, centre_coord=centre_co)\n",
    "    \n",
    "    ind = np.argmax(score_arr)\n",
    "    zmin, xmin = AoI_z[ind], AoI_x[ind]\n",
    "    if plot:\n",
    "        plotter(plane, event_number, thresholding, no_std)\n",
    "        plt.plot(zmin, xmin, 'ro')\n",
    "        plt.show()\n",
    "    return zmin, xmin, score_arr[ind], score_arr"
   ]
  },
  {
   "cell_type": "code",
   "execution_count": 9,
   "id": "2f795b23",
   "metadata": {},
   "outputs": [],
   "source": [
    "def accuracy(plane, function, no_events, thresholding=True, no_std=thr_std, ifrandom=True):\n",
    "    Zvert = []\n",
    "    Zvert_true = []\n",
    "    Xvert = []\n",
    "    Xvert_true = [] #avoid appends to lists; if you know how long the outputs are going to be, then assign the arrays to\n",
    "                    #that length beforehand\n",
    "    if ifrandom:\n",
    "        for i in tqdm(range(no_events)):   \n",
    "            j = random.randint(0, len(u_x))\n",
    "            AoI_x, AoI_z, AoI_adc, Zvert_true_place, Xvert_true_place = AoI(plane, j, thresholding, no_std)\n",
    "            Zvert_place, Xvert_place = function(plane, j)[0], function(plane, j)[1]\n",
    "            Zvert.append(Zvert_place)\n",
    "            Xvert.append(Xvert_place)\n",
    "            Zvert_true.append(Zvert_true_place)\n",
    "            Xvert_true.append(Xvert_true_place)\n",
    "    else:\n",
    "        for i in tqdm(range(no_events)):\n",
    "            AoI_x, AoI_z, AoI_adc, Zvert_true_place, Xvert_true_place = AoI(plane, i, thresholding, no_std)\n",
    "            Zvert_place, Xvert_place = function(plane, i)[0], function(plane, i)[1]\n",
    "            Zvert.append(Zvert_place)\n",
    "            Xvert.append(Xvert_place)\n",
    "            Zvert_true.append(Zvert_true_place)\n",
    "            Xvert_true.append(Xvert_true_place)\n",
    "    \n",
    "    '''\n",
    "    print(Zvert_true)\n",
    "    print(Zvert)\n",
    "    print(Xvert_true)\n",
    "    print(Xvert)\n",
    "    '''\n",
    "    \n",
    "    delta_z = np.array(Zvert_true) - np.array(Zvert)\n",
    "    delta_x = np.array(Xvert_true) - np.array(Xvert)\n",
    "    delta_r2 = delta_z**2 + delta_x**2\n",
    "\n",
    "    print(len(delta_r2))\n",
    "    print(delta_r2)\n",
    "    \n",
    "    #data, bins = np.histogram(delta_r2)\n",
    "    #delta_r2 = delta_r2[delta_r2 < 0.4e6]\n",
    "    delta_r2 = np.sqrt(delta_r2)\n",
    "    plt.hist(delta_r2, bins='auto')\n",
    "    #plt.ylim(0, 400)\n",
    "    plt.show()\n",
    "\n",
    "    return delta_r2, np.percentile(delta_r2, 68)"
   ]
  },
  {
   "cell_type": "code",
   "execution_count": 10,
   "id": "8d8bded9",
   "metadata": {},
   "outputs": [],
   "source": [
    "#datadata, datadata2 = accuracy(\"v\", optimise_phi, 1000)"
   ]
  },
  {
   "cell_type": "code",
   "execution_count": 11,
   "id": "f9f661fa",
   "metadata": {},
   "outputs": [],
   "source": [
    "#print(datadata2)"
   ]
  },
  {
   "cell_type": "code",
   "execution_count": 12,
   "id": "5afddfb8",
   "metadata": {},
   "outputs": [],
   "source": [
    "def rphi_scores(plane, event_number, function=optimise_phi, dependence=np.exp, plot=False, thresholding=True, no_std=thr_std, no_sectors=5):\n",
    "    AoI_x, AoI_z, AoI_adc, Zvert_true_place, Xvert_true_place = AoI(plane, event_number, thresholding, no_std)\n",
    "    Zvert_place, Xvert_place = function(plane, event_number, no_sectors)[0], function(plane, event_number, no_sectors)[1]\n",
    "    score_max, score_array = function(plane, event_number, no_sectors)[2], function(plane, event_number, no_sectors)[3]\n",
    "    \n",
    "    score_min = np.min(score_array)\n",
    "    \n",
    "    normalised_scores = (score_array - score_min) / (score_max - score_min)\n",
    "    \n",
    "    if plot:\n",
    "        plt.plot(AoI_z, AoI_x, 'o')\n",
    "        plt.show()\n",
    "        plt.plot(AoI_z, normalised_scores, 'ro')\n",
    "        plt.show()\n",
    "    return normalised_scores"
   ]
  },
  {
   "cell_type": "code",
   "execution_count": 13,
   "id": "f20bb245",
   "metadata": {},
   "outputs": [
    {
     "data": {
      "text/plain": [
       "'\\ndef pdf_rphi(plane, events, plot=False):\\n    \\n    total_signal = []\\n    total_back = []\\n    total_r_sig = []\\n    total_r_back = []\\n    \\n    for ev in tqdm(events):\\n        signal_indexes = []\\n        back_indexes = []\\n        AoI_x, AoI_z, AoI_adc, Zvert_true_place, Xvert_true_place = AoI(plane, ev)\\n        Zvert_place, Xvert_place = optimise_phi(plane, ev)[0], optimise_phi(plane, ev)[1]\\n        \\n        normalised_score = rphi_scores(plane, ev)\\n        \\n        #print(\"\\nNormalised Score: \", normalised_score)\\n        signal = normalised_score[normalised_score >= 0.85]\\n        #print(\"\\nSignal: \", signal)\\n        background = normalised_score[normalised_score < 0.85]\\n        #print(\"\\nBackground: \", background)\\n        \\n        r = [None] * len(AoI_z)\\n        \\n        for i in range(len(AoI_z)):\\n            r[i] = ( (AoI_z[i]-Zvert_place)**2 + (AoI_x[i]-Xvert_place)**2 )**0.5\\n        #print(\"\\nLen R:\", len(r))\\n        for jx in range(len(signal)):\\n            index_sig = np.where(normalised_score == signal[jx])\\n            signal_indexes.append(index_sig[0][0])\\n\\n        for jy in range(len(background)):\\n            index_back = np.where(normalised_score == background[jy])\\n            back_indexes.append(index_back[0][0])\\n        \\n        #print(\"\\nSignal Indexes:\", signal_indexes)\\n        #print(\"\\nBack Indexes:\", back_indexes)\\n        \\n        r_signal_test = [r[i] for i in signal_indexes]\\n        r_background_test = [r[i] for i in back_indexes]\\n        \\n        total_signal.extend(signal)\\n        total_back.extend(background)\\n        total_r_sig.extend(r_signal_test)\\n        total_r_back.extend(r_background_test)\\n    #print(\"Total Signal: \", r_signal_test)\\n    total_r_back = [item for item in total_r_back if item < 400]\\n    if plot:\\n        data = plt.hist(total_signal, 50)[0]\\n        weights_signal_single = 1/np.max(data)\\n        weights_signal = np.full(shape = len(total_signal), fill_value = weights_signal_single)\\n        data2 = plt.hist(total_back, 50)[0]\\n        weights_back_single = 1/np.max(data2)\\n        weights_back = np.full(shape = len(total_back), fill_value = weights_back_single)\\n        plt.clf()\\n        \\n        x = plt.hist(total_signal,30, color=\\'b\\', alpha=0.5, weights=weights_signal)\\n        y = plt.hist(total_back,50, color=\\'r\\', alpha=0.5, weights=weights_back)\\n        title = plt.title(\"Signal / Background Split\")\\n        plt.show()\\n        \\n        data3 = plt.hist(total_r_sig, 50)[0]\\n        weights_r_signal_single = 1/np.max(data3)\\n        weights_r_signal = np.full(shape = len(total_r_sig), fill_value = weights_r_signal_single)\\n        data4 = plt.hist(total_r_back, 50)[0]\\n        weights_r_back_single = 1/np.max(data4)\\n        weights_r_back = np.full(shape = len(total_r_back), fill_value = weights_r_back_single)\\n        plt.clf()\\n        \\n        z = plt.hist(total_r_sig,50, color=\\'c\\', alpha=0.5, weights=weights_r_signal)\\n        zz = plt.hist(total_r_back,50, color=\\'y\\', alpha=0.5, weights=weights_r_back)\\n        title = plt.title(\"Signal / Background Split in RSqr Values\")\\n        plt.show()\\n        \\n    return x, y\\n        \\nsample = random.sample(range(0, len(u_x)), 1000)\\n\\n#pdf_rphi(\"u\", sample, plot=True)\\n\\n'"
      ]
     },
     "execution_count": 13,
     "metadata": {},
     "output_type": "execute_result"
    }
   ],
   "source": [
    "\n",
    "'''\n",
    "def pdf_rphi(plane, events, plot=False):\n",
    "    \n",
    "    total_signal = []\n",
    "    total_back = []\n",
    "    total_r_sig = []\n",
    "    total_r_back = []\n",
    "    \n",
    "    for ev in tqdm(events):\n",
    "        signal_indexes = []\n",
    "        back_indexes = []\n",
    "        AoI_x, AoI_z, AoI_adc, Zvert_true_place, Xvert_true_place = AoI(plane, ev)\n",
    "        Zvert_place, Xvert_place = optimise_phi(plane, ev)[0], optimise_phi(plane, ev)[1]\n",
    "        \n",
    "        normalised_score = rphi_scores(plane, ev)\n",
    "        \n",
    "        #print(\"\\nNormalised Score: \", normalised_score)\n",
    "        signal = normalised_score[normalised_score >= 0.85]\n",
    "        #print(\"\\nSignal: \", signal)\n",
    "        background = normalised_score[normalised_score < 0.85]\n",
    "        #print(\"\\nBackground: \", background)\n",
    "        \n",
    "        r = [None] * len(AoI_z)\n",
    "        \n",
    "        for i in range(len(AoI_z)):\n",
    "            r[i] = ( (AoI_z[i]-Zvert_place)**2 + (AoI_x[i]-Xvert_place)**2 )**0.5\n",
    "        #print(\"\\nLen R:\", len(r))\n",
    "        for jx in range(len(signal)):\n",
    "            index_sig = np.where(normalised_score == signal[jx])\n",
    "            signal_indexes.append(index_sig[0][0])\n",
    "\n",
    "        for jy in range(len(background)):\n",
    "            index_back = np.where(normalised_score == background[jy])\n",
    "            back_indexes.append(index_back[0][0])\n",
    "        \n",
    "        #print(\"\\nSignal Indexes:\", signal_indexes)\n",
    "        #print(\"\\nBack Indexes:\", back_indexes)\n",
    "        \n",
    "        r_signal_test = [r[i] for i in signal_indexes]\n",
    "        r_background_test = [r[i] for i in back_indexes]\n",
    "        \n",
    "        total_signal.extend(signal)\n",
    "        total_back.extend(background)\n",
    "        total_r_sig.extend(r_signal_test)\n",
    "        total_r_back.extend(r_background_test)\n",
    "    #print(\"Total Signal: \", r_signal_test)\n",
    "    total_r_back = [item for item in total_r_back if item < 400]\n",
    "    if plot:\n",
    "        data = plt.hist(total_signal, 50)[0]\n",
    "        weights_signal_single = 1/np.max(data)\n",
    "        weights_signal = np.full(shape = len(total_signal), fill_value = weights_signal_single)\n",
    "        data2 = plt.hist(total_back, 50)[0]\n",
    "        weights_back_single = 1/np.max(data2)\n",
    "        weights_back = np.full(shape = len(total_back), fill_value = weights_back_single)\n",
    "        plt.clf()\n",
    "        \n",
    "        x = plt.hist(total_signal,30, color='b', alpha=0.5, weights=weights_signal)\n",
    "        y = plt.hist(total_back,50, color='r', alpha=0.5, weights=weights_back)\n",
    "        title = plt.title(\"Signal / Background Split\")\n",
    "        plt.show()\n",
    "        \n",
    "        data3 = plt.hist(total_r_sig, 50)[0]\n",
    "        weights_r_signal_single = 1/np.max(data3)\n",
    "        weights_r_signal = np.full(shape = len(total_r_sig), fill_value = weights_r_signal_single)\n",
    "        data4 = plt.hist(total_r_back, 50)[0]\n",
    "        weights_r_back_single = 1/np.max(data4)\n",
    "        weights_r_back = np.full(shape = len(total_r_back), fill_value = weights_r_back_single)\n",
    "        plt.clf()\n",
    "        \n",
    "        z = plt.hist(total_r_sig,50, color='c', alpha=0.5, weights=weights_r_signal)\n",
    "        zz = plt.hist(total_r_back,50, color='y', alpha=0.5, weights=weights_r_back)\n",
    "        title = plt.title(\"Signal / Background Split in RSqr Values\")\n",
    "        plt.show()\n",
    "        \n",
    "    return x, y\n",
    "        \n",
    "sample = random.sample(range(0, len(u_x)), 1000)\n",
    "\n",
    "#pdf_rphi(\"u\", sample, plot=True)\n",
    "\n",
    "'''"
   ]
  },
  {
   "cell_type": "code",
   "execution_count": 14,
   "id": "d108bb81",
   "metadata": {},
   "outputs": [],
   "source": [
    "interaction_dictionary = {}\n",
    "\n",
    "import pandas as pd\n",
    "import csv\n",
    "\n",
    "with open('interactions.csv') as f:\n",
    "    reader = csv.DictReader(f)\n",
    "    for row in reader:\n",
    "        key = int(row.pop('Idx'))\n",
    "        interaction = row.pop('Interaction')\n",
    "        interaction_dictionary[key] = interaction"
   ]
  },
  {
   "cell_type": "code",
   "execution_count": 15,
   "id": "656379b2",
   "metadata": {},
   "outputs": [],
   "source": [
    "def interaction_finder(events):\n",
    "    all_events = np.unique(events.event_number)\n",
    "    x = [ events.interaction_type[np.where(events.event_number == e)] for e in all_events ]\n",
    "    return x"
   ]
  },
  {
   "cell_type": "code",
   "execution_count": 16,
   "id": "0930f091",
   "metadata": {},
   "outputs": [],
   "source": [
    "interaction_type_array = interaction_finder(E)"
   ]
  },
  {
   "cell_type": "code",
   "execution_count": 17,
   "id": "2f5a8505",
   "metadata": {},
   "outputs": [
    {
     "name": "stdout",
     "output_type": "stream",
     "text": [
      "9310\n",
      "[19 19 19 19 19 19 19 19 19 19 19 19 19 19 19 19 19 19 19 19 19 19 19 19\n",
      " 19 19 19 19 19 19]\n"
     ]
    }
   ],
   "source": [
    "import pandas as pd\n",
    "import numpy as np\n",
    "print(len(interaction_type_array))\n",
    "print(interaction_type_array[2])"
   ]
  },
  {
   "cell_type": "code",
   "execution_count": 18,
   "id": "3301e92a",
   "metadata": {},
   "outputs": [],
   "source": [
    "def interaction_selector(interaction_dictionary):\n",
    "    #CC and NC Split\n",
    "    CC_indexes = []\n",
    "    NC_indexes = []\n",
    "    QEL_indexes = []\n",
    "    DIS_indexes = []\n",
    "    RES_indexes = []\n",
    "    EL_indexes = []\n",
    "    MU_indexes = []\n",
    "    \n",
    "    for i in range(len(interaction_dictionary)):\n",
    "        first_two = (interaction_dictionary[i])[:2]\n",
    "        if first_two == 'CC':\n",
    "            CC_indexes.append(i)\n",
    "        elif first_two == 'NC':\n",
    "            NC_indexes.append(i)\n",
    "            \n",
    "    for i in range(len(interaction_dictionary)):\n",
    "        first_three = (interaction_dictionary[i])[2:5]\n",
    "        if first_three == 'QEL':\n",
    "            QEL_indexes.append(i)\n",
    "        elif first_three == 'DIS':\n",
    "            DIS_indexes.append(i)\n",
    "        elif first_three == 'RES':\n",
    "            RES_indexes.append(i)\n",
    "            \n",
    "    for i in range(len(interaction_dictionary)-2):\n",
    "        first_one = (interaction_dictionary[i])[6:7]\n",
    "        if first_one == 'M':\n",
    "            MU_indexes.append(i)\n",
    "        elif first_one == 'E':\n",
    "            EL_indexes.append(i)\n",
    "        \n",
    "    return CC_indexes, NC_indexes, QEL_indexes, DIS_indexes, RES_indexes, EL_indexes, MU_indexes\n",
    "\n",
    "CC_indexes, NC_indexes, QEL_indexes, DIS_indexes, RES_indexes, EL_indexes, MU_indexes = interaction_selector(interaction_dictionary)"
   ]
  },
  {
   "cell_type": "code",
   "execution_count": 19,
   "id": "ec53ecff",
   "metadata": {},
   "outputs": [],
   "source": [
    "def interaction_splitting(interaction_type_array):\n",
    "    CC_splitting = []\n",
    "    NC_splitting = []\n",
    "    QEL_splitting = []\n",
    "    DIS_splitting = []\n",
    "    RES_splitting = []\n",
    "    EL_splitting = []\n",
    "    MU_splitting = []\n",
    "\n",
    "    for i in range(len(interaction_type_array)):\n",
    "        if int(interaction_type_array[i][0]) in CC_indexes:\n",
    "            CC_splitting.append(i)\n",
    "        if int(interaction_type_array[i][0]) in NC_indexes:\n",
    "            NC_splitting.append(i)\n",
    "        if int(interaction_type_array[i][0]) in QEL_indexes:\n",
    "            QEL_splitting.append(i)\n",
    "        if int(interaction_type_array[i][0]) in RES_indexes:\n",
    "            RES_splitting.append(i)\n",
    "        if int(interaction_type_array[i][0]) in DIS_indexes:\n",
    "            DIS_splitting.append(i)\n",
    "        if int(interaction_type_array[i][0]) in MU_indexes:\n",
    "            MU_splitting.append(i)\n",
    "        if int(interaction_type_array[i][0]) in EL_indexes:\n",
    "            EL_splitting.append(i)\n",
    "        \n",
    "    return CC_splitting, NC_splitting, QEL_splitting, DIS_splitting, RES_splitting, EL_splitting, MU_splitting\n",
    "\n",
    "split_indexes = interaction_splitting(interaction_type_array)\n"
   ]
  },
  {
   "cell_type": "code",
   "execution_count": 20,
   "id": "a3f180f3",
   "metadata": {},
   "outputs": [],
   "source": [
    "def pdf_rphi_true(plane, events, plot=True):\n",
    "    \n",
    "    total_signal = []\n",
    "    total_back = []\n",
    "    total_r_sig = []\n",
    "    total_r_back = []\n",
    "    \n",
    "    for ev in tqdm(events):\n",
    "        signal = []\n",
    "        back = []\n",
    "        AoI_x, AoI_z, AoI_adc, Zvert_true_place, Xvert_true_place = AoI(plane, ev)\n",
    "        Zvert_place, Xvert_place = optimise_phi(plane, ev)[0], optimise_phi(plane, ev)[1]\n",
    "        \n",
    "        normalised_score = rphi_scores(plane, ev)\n",
    "        normalised_score = normalised_score.tolist()\n",
    "        #print(normalised_score)\n",
    "        r = [None] * len(AoI_z)\n",
    "        \n",
    "        for i in range(len(AoI_z)):\n",
    "            r[i] = ( (AoI_z[i]-Zvert_true_place)**2 + (AoI_x[i]-Xvert_true_place)**2 )**0.5\n",
    "            if r[i] < 3:\n",
    "                signal.append(normalised_score[i])\n",
    "            else:\n",
    "                back.append(normalised_score[i])\n",
    "                \n",
    "        total_signal.extend(signal)\n",
    "        total_back.extend(back)\n",
    "    \n",
    "    weights_signal = np.ones(len(total_signal))\n",
    "    weights_signal /= np.sum(weights_signal)\n",
    "    \n",
    "    weights_back = np.ones(len(total_back))\n",
    "    weights_back /= np.sum(weights_back)\n",
    "    \n",
    "    if plot:\n",
    "        \n",
    "        plt.clf()\n",
    "        x = plt.hist(total_signal,20, color='b', alpha=0.5, weights=weights_signal)\n",
    "        title = plt.title(\"Signal\")\n",
    "        plt.show()\n",
    "        \n",
    "        plt.clf()\n",
    "        y = plt.hist(total_back,20, color='r', alpha=0.5, weights=weights_back)\n",
    "        title = plt.title(\"Background\")\n",
    "        plt.show()\n",
    "        \n",
    "    return signal, back, x, y"
   ]
  },
  {
   "cell_type": "code",
   "execution_count": 21,
   "id": "a5d9d619",
   "metadata": {},
   "outputs": [],
   "source": [
    "#pdf_rphi_true(\"u\", split_indexes[5], plot=True)"
   ]
  },
  {
   "cell_type": "code",
   "execution_count": 22,
   "id": "e170af95",
   "metadata": {},
   "outputs": [
    {
     "name": "stderr",
     "output_type": "stream",
     "text": [
      " 34%|████████████████████████████████████████████████████▋                                                                                                        | 1342/4000 [15:13<18:27,  2.40it/s]C:\\Users\\alexg\\AppData\\Local\\Temp\\ipykernel_21660\\1107734171.py:8: RuntimeWarning: invalid value encountered in divide\n",
      "  normalised_scores = (score_array - score_min) / (score_max - score_min)\n",
      "100%|█████████████████████████████████████████████████████████████████████████████████████████████████████████████████████████████████████████████████████████████| 4000/4000 [42:22<00:00,  1.57it/s]\n"
     ]
    },
    {
     "data": {
      "image/png": "[encoded data removed]",
      "text/plain": [
       "<Figure size 640x480 with 1 Axes>"
      ]
     },
     "metadata": {},
     "output_type": "display_data"
    },
    {
     "data": {
      "image/png": "[encoded data removed]",
      "text/plain": [
       "<Figure size 640x480 with 1 Axes>"
      ]
     },
     "metadata": {},
     "output_type": "display_data"
    }
   ],
   "source": [
    "import pandas as pd \n",
    "sample = random.sample(range(0, len(u_x)), 4000)\n",
    "all_events = list(range(0, len(u_x)))\n",
    "\n",
    "signal, back, x, y = pdf_rphi_true(\"u\", sample, plot=True)\n",
    "signal = np.array(signal)\n",
    "back = np.array(back)"
   ]
  },
  {
   "cell_type": "code",
   "execution_count": 24,
   "id": "f30277b9",
   "metadata": {},
   "outputs": [],
   "source": [
    "pd.DataFrame(signal).to_csv(\"signal_rphi_raw.csv\")\n",
    "pd.DataFrame(back).to_csv(\"back_rphi_raw.csv\")\n",
    "pd.DataFrame(x).to_csv(\"signal_rphi_hist_1.csv\")\n",
    "pd.DataFrame(y).to_csv(\"back_rphi_hist_1.csv\")"
   ]
  },
  {
   "cell_type": "code",
   "execution_count": 25,
   "id": "d71919f8",
   "metadata": {},
   "outputs": [],
   "source": [
    "def find_nearest(array, value):\n",
    "    array = np.asarray(array)\n",
    "    idx = (np.abs(array - value)).argmin()\n",
    "    return array[idx], idx\n",
    "\n",
    "def importpdf(filename):\n",
    "    df = pd.read_csv(filename)\n",
    "    df = df.fillna(0)\n",
    "    data = df.values\n",
    "    return data[0][1:], data[1][1:]\n",
    "\n",
    "def normalisepdfs(signal_data_path, background_data_path):\n",
    "    background_hist_values, background_bin_values = importpdf(background_data_path)\n",
    "    background_hist_values = np.nan_to_num(background_hist_values)\n",
    "    background_hist_values = background_hist_values.astype(np.float64)\n",
    "    background_bin_values = background_bin_values.astype(np.float64)\n",
    "    background_bin_values = np.nan_to_num(background_bin_values)\n",
    "    \n",
    "    signal_hist_values, signal_bin_values = importpdf(signal_data_path)\n",
    "    signal_hist_values = np.nan_to_num(signal_hist_values)\n",
    "    signal_hist_values = signal_hist_values.astype(np.float64)\n",
    "    signal_bin_values = signal_bin_values.astype(np.float64)\n",
    "    signal_bin_values = np.nan_to_num(signal_bin_values)\n",
    "    \n",
    "    #print(background_hist_values, signal_hist_values)\n",
    "    total_hist_values = background_hist_values + signal_hist_values\n",
    "    #print(\"\\n\", total_hist_values)\n",
    "    \n",
    "    normalised_background = background_hist_values[:-1] / total_hist_values[:-1]\n",
    "    normalised_signal = signal_hist_values[:-1] / total_hist_values[:-1]\n",
    "    \n",
    "    return normalised_signal, signal_bin_values[:-1], normalised_background, background_bin_values[:-1]\n"
   ]
  },
  {
   "cell_type": "code",
   "execution_count": 36,
   "id": "1640b92f",
   "metadata": {},
   "outputs": [],
   "source": [
    "import scipy as sp\n",
    "def calculate_likelihood_rphi(plane, event, vertex):\n",
    "    score = rphi_scores(plane, event)[vertex]\n",
    "    norm_signal, signal_bin, norm_background, background_bin = normalisepdfs(\"signal_rphi_hist.csv\", \"back_rphi_hist.csv\")\n",
    "    interpolated_function = sp.interpolate.interp1d(signal_bin, norm_signal, kind=\"cubic\", fill_value='extrapolate')\n",
    "    prob = interpolated_function(score)\n",
    "    return prob"
   ]
  },
  {
   "cell_type": "code",
   "execution_count": 37,
   "id": "d34c671c",
   "metadata": {},
   "outputs": [
    {
     "name": "stdout",
     "output_type": "stream",
     "text": [
      "0.19991867187518564\n"
     ]
    }
   ],
   "source": [
    "print(calculate_likelihood_rphi(\"u\", 12, 100))"
   ]
  },
  {
   "cell_type": "code",
   "execution_count": 38,
   "id": "aa41f53a",
   "metadata": {},
   "outputs": [
    {
     "name": "stdout",
     "output_type": "stream",
     "text": [
      "0.47481168177226596\n"
     ]
    }
   ],
   "source": [
    "print(calculate_likelihood_rphi(\"u\", 12, 13))"
   ]
  },
  {
   "cell_type": "code",
   "execution_count": null,
   "id": "8cc61473",
   "metadata": {},
   "outputs": [],
   "source": []
  }
 ],
 "metadata": {
  "kernelspec": {
   "display_name": "Python 3 (ipykernel)",
   "language": "python",
   "name": "python3"
  },
  "language_info": {
   "codemirror_mode": {
    "name": "ipython",
    "version": 3
   },
   "file_extension": ".py",
   "mimetype": "text/x-python",
   "name": "python",
   "nbconvert_exporter": "python",
   "pygments_lexer": "ipython3",
   "version": "3.8.16"
  }
 },
 "nbformat": 4,
 "nbformat_minor": 5
}
