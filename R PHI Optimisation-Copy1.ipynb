{
 "cells": [
  {
   "cell_type": "code",
   "execution_count": 7,
   "id": "15e6d512",
   "metadata": {},
   "outputs": [
    {
     "name": "stdout",
     "output_type": "stream",
     "text": [
      "Running...\n"
     ]
    }
   ],
   "source": [
    "from uproot_io import Events, View\n",
    "import matplotlib.pyplot as plt\n",
    "import numpy as np\n",
    "from tqdm import tqdm\n",
    "import random\n",
    "\n",
    "random.seed(0)\n",
    "\n",
    "print(\"Running...\")\n",
    "\n",
    "\n",
    "thr_std=0.2\n",
    "\n",
    "E = Events(\"CheatedRecoFile_1.root\")\n",
    "\n",
    "view_u = View(E, \"u\")\n",
    "view_v = View(E, \"v\")\n",
    "view_w = View(E, \"w\")\n",
    "\n",
    "u_x = view_u.x\n",
    "u_z = view_u.z\n",
    "u_adc = view_u.adc\n",
    "u_truevtx_z = view_u.true_vtx_z\n",
    "u_truevtx_x = view_u.true_vtx_x\n",
    "\n",
    "v_x = view_v.x\n",
    "v_z = view_v.z\n",
    "v_adc = view_v.adc\n",
    "v_truevtx_z = view_v.true_vtx_z\n",
    "v_truevtx_x = view_v.true_vtx_x\n",
    "\n",
    "w_x = view_w.x\n",
    "w_z = view_w.z\n",
    "w_adc = view_w.adc\n",
    "w_truevtx_z = view_w.true_vtx_z\n",
    "w_truevtx_x = view_w.true_vtx_x\n",
    "\n"
   ]
  },
  {
   "cell_type": "code",
   "execution_count": 9,
   "id": "6b7cd4dd",
   "metadata": {},
   "outputs": [
    {
     "name": "stdout",
     "output_type": "stream",
     "text": [
      "9310\n"
     ]
    }
   ],
   "source": [
    "print(len(u_x))"
   ]
  },
  {
   "cell_type": "code",
   "execution_count": 10,
   "id": "26efd199",
   "metadata": {},
   "outputs": [],
   "source": [
    "def AoI(plane, event_number, thresholding=True, no_std=thr_std):\n",
    "    if plane==\"u\":\n",
    "        AoI_x = u_x[event_number]\n",
    "        AoI_z = u_z[event_number]\n",
    "        AoI_adc = u_adc[event_number]\n",
    "        AoI_truevtxz = u_truevtx_z[event_number]\n",
    "        AoI_truevtxx = u_truevtx_x[event_number]\n",
    "    elif plane==\"v\":\n",
    "        AoI_x = v_x[event_number]\n",
    "        AoI_z = v_z[event_number]\n",
    "        AoI_adc = v_adc[event_number]\n",
    "        AoI_truevtxz = v_truevtx_z[event_number]\n",
    "        AoI_truevtxx = v_truevtx_x[event_number]\n",
    "    elif plane==\"w\":\n",
    "        AoI_x = w_x[event_number]\n",
    "        AoI_z = w_z[event_number]\n",
    "        AoI_adc = w_adc[event_number]   \n",
    "        AoI_truevtxz = w_truevtx_z[event_number]\n",
    "        AoI_truevtxx = w_truevtx_x[event_number]\n",
    "    else:\n",
    "        print(\"PLane not u,v,w\")\n",
    "        \n",
    "    if thresholding:\n",
    "        mean = np.average(AoI_adc)\n",
    "        std = np.std(AoI_adc)\n",
    "        AoI_x = AoI_x[(mean-no_std*std<AoI_adc)]\n",
    "        AoI_z = AoI_z[(mean-no_std*std<AoI_adc)]\n",
    "        AoI_adc = AoI_adc[(mean-no_std*std<AoI_adc)]\n",
    "    \n",
    "    return AoI_x, AoI_z, AoI_adc, AoI_truevtxz, AoI_truevtxx"
   ]
  },
  {
   "cell_type": "code",
   "execution_count": 11,
   "id": "73e7851e",
   "metadata": {},
   "outputs": [],
   "source": [
    "def plotter(plane, event_number, thresholding=True, no_std=thr_std):\n",
    "    \n",
    "    AoI_x, AoI_z, AoI_adc, AoI_truevtxz, AoI_truevtxx = AoI(plane, event_number, thresholding, no_std)\n",
    "\n",
    "\n",
    "    \n",
    "    plt.scatter(AoI_z, AoI_x, c=AoI_adc, cmap=\"viridis\")\n",
    "    plt.title(str(plane)+\" plane\")\n",
    "    plt.xlabel(\"z\")\n",
    "    plt.ylabel(\"x\")\n",
    "\n",
    "    return 0\n"
   ]
  },
  {
   "cell_type": "code",
   "execution_count": 12,
   "id": "e94812b8",
   "metadata": {},
   "outputs": [],
   "source": [
    "def least_z(plane, event_number, thresholding=True, no_std=thr_std):\n",
    "    \n",
    "    AoI_x, AoI_z, AoI_adc, AoI_truevtxz, AoI_truevtxx = AoI(plane, event_number, thresholding, no_std)\n",
    "    \n",
    "    min_z = np.amin(AoI_z)\n",
    "    ind = np.where(min_z)[0]\n",
    "    min_x = AoI_x[ind]\n",
    "    #print(\"Least z prediction for vertex location: (x-position, z-position, plane)=\", min_x, min_z, plane)\n",
    "    return min_z, min_x"
   ]
  },
  {
   "cell_type": "code",
   "execution_count": 13,
   "id": "b4a838c9",
   "metadata": {},
   "outputs": [],
   "source": [
    "def phi_hist(plane, event_number, thresholding=True, no_std=thr_std, leastz=False, centre_coord=(0,0), no_sectors=12, centre=0, printhist=False):\n",
    "    AoI_x, AoI_z, AoI_adc, AoI_truevtxz, AoI_truevtxx = AoI(plane, event_number, thresholding, no_std)\n",
    "    \n",
    "    if leastz:\n",
    "        centre_coord = least_z(plane, event_number, thresholding, no_std)\n",
    "    \n",
    "    \n",
    "    centred_x = AoI_x - centre_coord[1]\n",
    "    centred_z = AoI_z - centre_coord[0]\n",
    "\n",
    "    theta = np.arctan2(centred_x, centred_z)\n",
    "    hist_data, hist_bins = np.histogram(theta, no_sectors, (-np.pi+centre,np.pi+centre))\n",
    "    \n",
    "    hist_sqr = hist_data**2\n",
    "    score = np.sum(hist_sqr)\n",
    "    norm_score = (score/len(theta)**2)**0.5\n",
    "    \n",
    "    if printhist:\n",
    "        plt.hist(hist_data, hist_bins)\n",
    "        plt.show()\n",
    "\n",
    "    return norm_score"
   ]
  },
  {
   "cell_type": "code",
   "execution_count": 14,
   "id": "293f8bc3",
   "metadata": {},
   "outputs": [],
   "source": [
    "def rfunc(r):\n",
    "    return 1/((r+0.01)**(1/2))\n",
    "\n",
    "\n",
    "\n",
    "def rphi(plane, event_number, thresholding=True, no_std=thr_std, centre_coord=(0,0), func=rfunc, no_sectors=5, centre=0):\n",
    "    AoI_x, AoI_z, AoI_adc, AoI_truevtxz, AoI_truevtxx = AoI(plane, event_number, thresholding, no_std)\n",
    "    \n",
    "    centred_x = AoI_x - centre_coord[1]\n",
    "    centred_z = AoI_z - centre_coord[0]\n",
    "    \n",
    "    cen_r = (centred_x**2 + centred_z**2)**0.5\n",
    "    #distance from central point to every other point\n",
    "    \n",
    "\n",
    "    #make the problem tractable (solvable)\n",
    "    \n",
    "    weight = rfunc(cen_r)\n",
    "\n",
    "    theta = np.arctan2(centred_x, centred_z)\n",
    "    hist_data, hist_bins = np.histogram(theta, no_sectors, (-np.pi+centre,np.pi+centre), weights=weight)\n",
    "    \n",
    "    hist_sqr = hist_data**2\n",
    "    score = np.sum(hist_sqr)\n",
    "    norm_score = (score/len(theta)**2)**0.5\n",
    "    \n",
    "\n",
    "    return norm_score"
   ]
  },
  {
   "cell_type": "code",
   "execution_count": 19,
   "id": "ffe7974a",
   "metadata": {},
   "outputs": [],
   "source": [
    "def optimise_phi(plane, event_number, thresholding=True, no_std=thr_std, no_sectors=20, centre=0, plot=False):\n",
    "    AoI_x, AoI_z, AoI_adc, AoI_truevtxz, AoI_truevtxx = AoI(plane, event_number, thresholding, no_std)\n",
    "    no_points = len(AoI_x)\n",
    "    score_arr = np.zeros(no_points)\n",
    "    for i in range(no_points):\n",
    "        centre_co = (AoI_z[i], AoI_x[i])\n",
    "        score_arr[i] = rphi(plane, event_number, centre_coord=centre_co)\n",
    "    \n",
    "    ind = np.argmax(score_arr)\n",
    "    zmin, xmin = AoI_z[ind], AoI_x[ind]\n",
    "    if plot:\n",
    "        plotter(plane, event_number, thresholding, no_std)\n",
    "        plt.plot(zmin, xmin, 'ro')\n",
    "        plt.show()\n",
    "    return zmin, xmin, score_arr[ind]"
   ]
  },
  {
   "cell_type": "code",
   "execution_count": 20,
   "id": "2f795b23",
   "metadata": {},
   "outputs": [],
   "source": [
    "def accuracy(plane, function, no_events, thresholding=True, no_std=thr_std, ifrandom=True):\n",
    "    Zvert = []\n",
    "    Zvert_true = []\n",
    "    Xvert = []\n",
    "    Xvert_true = [] #avoid appends to lists; if you know how long the outputs are going to be, then assign the arrays to\n",
    "                    #that length beforehand\n",
    "    if ifrandom:\n",
    "        for i in tqdm(range(no_events)):   \n",
    "            j = random.randint(0, len(u_x))\n",
    "            AoI_x, AoI_z, AoI_adc, Zvert_true_place, Xvert_true_place = AoI(plane, j, thresholding, no_std)\n",
    "            Zvert_place, Xvert_place = function(plane, j)[0], function(plane, j)[1]\n",
    "            Zvert.append(Zvert_place)\n",
    "            Xvert.append(Xvert_place)\n",
    "            Zvert_true.append(Zvert_true_place)\n",
    "            Xvert_true.append(Xvert_true_place)\n",
    "    else:\n",
    "        for i in tqdm(range(no_events)):\n",
    "            AoI_x, AoI_z, AoI_adc, Zvert_true_place, Xvert_true_place = AoI(plane, i, thresholding, no_std)\n",
    "            Zvert_place, Xvert_place = function(plane, i)[0], function(plane, i)[1]\n",
    "            Zvert.append(Zvert_place)\n",
    "            Xvert.append(Xvert_place)\n",
    "            Zvert_true.append(Zvert_true_place)\n",
    "            Xvert_true.append(Xvert_true_place)\n",
    "    \n",
    "    '''\n",
    "    print(Zvert_true)\n",
    "    print(Zvert)\n",
    "    print(Xvert_true)\n",
    "    print(Xvert)\n",
    "    '''\n",
    "    \n",
    "    delta_z = np.array(Zvert_true) - np.array(Zvert)\n",
    "    delta_x = np.array(Xvert_true) - np.array(Xvert)\n",
    "    delta_r2 = delta_z**2 + delta_x**2\n",
    "\n",
    "    print(len(delta_r2))\n",
    "    print(delta_r2)\n",
    "    \n",
    "    #data, bins = np.histogram(delta_r2)\n",
    "    #delta_r2 = delta_r2[delta_r2 < 0.4e6]\n",
    "    delta_r2 = np.sqrt(delta_r2)\n",
    "    plt.hist(delta_r2, bins='auto')\n",
    "    #plt.ylim(0, 400)\n",
    "    plt.show()\n",
    "\n",
    "    return delta_r2, np.percentile(delta_r2, 68)"
   ]
  },
  {
   "cell_type": "code",
   "execution_count": 21,
   "id": "8d8bded9",
   "metadata": {},
   "outputs": [
    {
     "name": "stderr",
     "output_type": "stream",
     "text": [
      "100%|██████████████████████████████████████████████████████████████████████████████| 2000/2000 [08:08<00:00,  4.09it/s]\n"
     ]
    },
    {
     "name": "stdout",
     "output_type": "stream",
     "text": [
      "2000\n",
      "[ 524.34955 2552.6528   691.475   ...  482.9274    81.76624  643.29333]\n"
     ]
    },
    {
     "data": {
      "image/png": "[encoded data removed]",
      "text/plain": [
       "<Figure size 640x480 with 1 Axes>"
      ]
     },
     "metadata": {},
     "output_type": "display_data"
    }
   ],
   "source": [
    "datadata, datadata2 = accuracy(\"v\", optimise_phi, 2000)"
   ]
  },
  {
   "cell_type": "code",
   "execution_count": 22,
   "id": "f9f661fa",
   "metadata": {},
   "outputs": [
    {
     "name": "stdout",
     "output_type": "stream",
     "text": [
      "33.14511444091798\n"
     ]
    }
   ],
   "source": [
    "print(datadata2)"
   ]
  },
  {
   "cell_type": "code",
   "execution_count": null,
   "id": "5afddfb8",
   "metadata": {},
   "outputs": [],
   "source": []
  },
  {
   "cell_type": "code",
   "execution_count": null,
   "id": "f20bb245",
   "metadata": {},
   "outputs": [],
   "source": []
  }
 ],
 "metadata": {
  "kernelspec": {
   "display_name": "Python 3 (ipykernel)",
   "language": "python",
   "name": "python3"
  },
  "language_info": {
   "codemirror_mode": {
    "name": "ipython",
    "version": 3
   },
   "file_extension": ".py",
   "mimetype": "text/x-python",
   "name": "python",
   "nbconvert_exporter": "python",
   "pygments_lexer": "ipython3",
   "version": "3.8.13"
  }
 },
 "nbformat": 4,
 "nbformat_minor": 5
}
