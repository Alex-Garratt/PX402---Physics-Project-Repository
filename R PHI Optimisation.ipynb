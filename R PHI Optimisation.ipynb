{
 "cells": [
  {
   "cell_type": "code",
   "execution_count": 15,
   "id": "15e6d512",
   "metadata": {},
   "outputs": [
    {
     "name": "stdout",
     "output_type": "stream",
     "text": [
      "Running...\n",
      "All data loaded in 60.25761539999985 seconds\n"
     ]
    }
   ],
   "source": [
    "from uproot_io import Events, View\n",
    "import matplotlib.pyplot as plt\n",
    "import numpy as np\n",
    "from tqdm import tqdm\n",
    "import time\n",
    "\n",
    "print(\"Running...\")\n",
    "toc = time.perf_counter()\n",
    "#ALL SETUP\n",
    "\n",
    "thr_std=0.2\n",
    "\n",
    "\n",
    "E = Events(\"CheatedRecoFile_1.root\")\n",
    "\n",
    "\n",
    "view_u = View(E, \"u\")\n",
    "view_v = View(E, \"v\")\n",
    "view_w = View(E, \"w\")\n",
    "\n",
    "\n",
    "u_x = view_u.x\n",
    "u_z = view_u.z\n",
    "u_adc = view_u.adc\n",
    "u_truevtx_z = view_u.true_vtx_z\n",
    "u_truevtx_x = view_u.true_vtx_x\n",
    "\n",
    "\n",
    "v_x = view_v.x\n",
    "v_z = view_v.z\n",
    "v_adc = view_v.adc\n",
    "v_truevtx_z = view_v.true_vtx_z\n",
    "v_truevtx_x = view_v.true_vtx_x\n",
    "\n",
    "w_x = view_w.x\n",
    "w_z = view_w.z\n",
    "w_adc = view_w.adc\n",
    "w_truevtx_z = view_w.true_vtx_z\n",
    "w_truevtx_x = view_w.true_vtx_x\n",
    "\n",
    "tic = time.perf_counter()\n",
    "print(\"All data loaded in\", tic-toc, \"seconds\")"
   ]
  },
  {
   "cell_type": "code",
   "execution_count": 32,
   "id": "26efd199",
   "metadata": {},
   "outputs": [],
   "source": [
    "def AoI(plane, event_number, thresholding=True, no_std=thr_std):\n",
    "    #given plane and event number, extract required information and threshold if required\n",
    "    if plane==\"u\":\n",
    "        AoI_x = u_x[event_number]\n",
    "        AoI_z = u_z[event_number]\n",
    "        AoI_adc = u_adc[event_number]\n",
    "        AoI_truevtxz = u_truevtx_z[event_number]\n",
    "        AoI_truevtxx = u_truevtx_x[event_number]\n",
    "    elif plane==\"v\":\n",
    "        AoI_x = v_x[event_number]\n",
    "        AoI_z = v_z[event_number]\n",
    "        AoI_adc = v_adc[event_number]\n",
    "        AoI_truevtxz = v_truevtx_z[event_number]\n",
    "        AoI_truevtxx = v_truevtx_x[event_number]\n",
    "    elif plane==\"w\":\n",
    "        AoI_x = w_x[event_number]\n",
    "        AoI_z = w_z[event_number]\n",
    "        AoI_adc = w_adc[event_number]   \n",
    "        AoI_truevtxz = w_truevtx_z[event_number]\n",
    "        AoI_truevtxx = w_truevtx_x[event_number]\n",
    "    else:\n",
    "        print(\"PLane not u,v,w\")\n",
    "        \n",
    "    if thresholding:\n",
    "        mean = np.average(AoI_adc)\n",
    "        std = np.std(AoI_adc)\n",
    "        AoI_x = AoI_x[(mean-no_std*std<AoI_adc)]\n",
    "        AoI_z = AoI_z[(mean-no_std*std<AoI_adc)]\n",
    "        AoI_adc = AoI_adc[(mean-no_std*std<AoI_adc)]\n",
    "    \n",
    "    return AoI_x, AoI_z, AoI_adc, AoI_truevtxz, AoI_truevtxx"
   ]
  },
  {
   "cell_type": "code",
   "execution_count": 38,
   "id": "73e7851e",
   "metadata": {},
   "outputs": [],
   "source": [
    "def plotter(plane, event_number, thresholding=True, no_std=thr_std):\n",
    "    \n",
    "    AoI_x, AoI_z, AoI_adc, AoI_truevtxz, AoI_truevtxx = AoI(plane, event_number, thresholding, no_std)\n",
    "\n",
    "    plt.scatter(AoI_z, AoI_x, c=AoI_adc, cmap=\"viridis\")\n",
    "    plt.title(str(plane)+\" plane\")\n",
    "    plt.xlabel(\"z\")\n",
    "    plt.ylabel(\"x\")\n",
    "\n",
    "    return 0\n",
    "def pick_xz(plane, event_number, i, thresholding=True, no_std=thr_std):\n",
    "    AoI_x, AoI_z, AoI_adc, AoI_truevtxz, AoI_truevtxx = AoI(plane, event_number, thresholding, no_std)\n",
    "    return AoI_z[i], AoI_x[i]\n",
    "def least_z(plane, event_number, thresholding=True, no_std=thr_std):\n",
    "    \n",
    "    AoI_x, AoI_z, AoI_adc, AoI_truevtxz, AoI_truevtxx = AoI(plane, event_number, thresholding, no_std)\n",
    "    \n",
    "    min_z = np.amin(AoI_z)\n",
    "    ind = np.where(min_z)[0]\n",
    "    min_x = AoI_x[ind]\n",
    "    #print(\"Least z prediction for vertex location: (x-position, z-position, plane)=\", min_x, min_z, plane)\n",
    "    return min_z, min_x\n",
    "def rfunc(r):\n",
    "    return 1/((0.01+r)**(1/2))"
   ]
  },
  {
   "cell_type": "code",
   "execution_count": 39,
   "id": "e94812b8",
   "metadata": {},
   "outputs": [],
   "source": [
    "def rphi_score(plane, event_number, centre_coord, no_sectors=5, centre=0, r_dependence=rfunc, thresholding=True, no_std=thr_std):\n",
    "    AoI_x, AoI_z, AoI_adc, AoI_truevtxz, AoI_truevtxx = AoI(plane, event_number, thresholding, no_std)\n",
    "    \n",
    "    centred_x = AoI_x - centre_coord[1]\n",
    "    centred_z = AoI_z - centre_coord[0]\n",
    "    #centralise co-ordinates on the given point of interest\n",
    "    \n",
    "    centred_r = (centred_x**2 + centred_z**2)**0.5\n",
    "    theta = np.arctan2(centred_x, centred_z)\n",
    "    #convert co-ordinates to polar\n",
    "    \n",
    "    weight = r_dependence(centred_r)\n",
    "    #weighting varies with the polar radius in the manner described by rfunc\n",
    "    \n",
    "    hist_data, hist_bins = np.histogram(theta, bins=no_sectors, range=(-np.pi+centre,np.pi+centre), weights=weight)\n",
    "    #plt.hist(theta, bins=no_sectors, range=(-np.pi+centre,np.pi+centre), weights=weight)\n",
    "    #plt.show()\n",
    "    #plt.bar(hist_data, np.delete(hist_bins,-1),align='edge')\n",
    "    #plt.show()\n",
    "    \n",
    "    \n",
    "    hist_data2 = (hist_data - np.roll(hist_data, int(len(hist_data)/2)))[hist_data>0]\n",
    "\n",
    "    hist_sqr = hist_data2**2\n",
    "    score = np.sum(hist_sqr)\n",
    "    norm_score = (score/len(theta)**2)**0.5\n",
    "    \n",
    "    return norm_score"
   ]
  },
  {
   "cell_type": "code",
   "execution_count": 40,
   "id": "b4a838c9",
   "metadata": {},
   "outputs": [],
   "source": [
    "def optimise_phi(plane, event_number, no_sectors=5, centre=0, r_dependence=rfunc, thresholding=True, no_std=thr_std, plot=False):\n",
    "    AoI_x, AoI_z, AoI_adc, AoI_truevtxz, AoI_truevtxx = AoI(plane, event_number, thresholding, no_std)\n",
    "    no_points = len(AoI_x)\n",
    "    score_arr = np.zeros(no_points)\n",
    "    for i in range(no_points):\n",
    "        centre_co = pick_xz(plane, event_number, i, thresholding, no_std)\n",
    "        score_arr[i] = rphi_score(plane, event_number, centre_coord=centre_co, no_sectors=no_sectors, centre=0, r_dependence=r_dependence)\n",
    "    \n",
    "    ind = np.argmax(score_arr)\n",
    "    zmin, xmin = AoI_z[ind], AoI_x[ind]\n",
    "    if plot:\n",
    "        plotter(plane, event_number, thresholding, no_std)\n",
    "        plt.plot(zmin, xmin, 'ro')\n",
    "        plt.show()\n",
    "    return zmin, xmin, score_arr[ind]"
   ]
  },
  {
   "cell_type": "code",
   "execution_count": 45,
   "id": "293f8bc3",
   "metadata": {},
   "outputs": [],
   "source": [
    "def accuracy(plane, function, no_events, thresholding=True, no_std=thr_std, no_sectors=5):\n",
    "    Zvert = []\n",
    "    Zvert_true = []\n",
    "    Xvert = []\n",
    "    Xvert_true = []\n",
    "    \n",
    "    for i in tqdm(range(no_events)):\n",
    "        AoI_x, AoI_z, AoI_adc, Zvert_true_place, Xvert_true_place = AoI(plane, i, thresholding, no_std)\n",
    "        Zvert_place, Xvert_place = function(plane, i, no_sectors)[0], function(plane, i, no_sectors)[1]\n",
    "        Zvert.append(Zvert_place)\n",
    "        Xvert.append(Xvert_place)\n",
    "        Zvert_true.append(Zvert_true_place)\n",
    "        Xvert_true.append(Xvert_true_place)\n",
    "    \n",
    "    #print(Zvert_true)\n",
    "    #print(Zvert)\n",
    "    \n",
    "    delta_z = np.array(Zvert_true) - np.array(Zvert)\n",
    "    delta_x = np.array(Xvert_true) - np.array(Xvert)\n",
    "    delta_r2 = delta_z**2 + delta_x**2\n",
    "    \n",
    "    print(delta_r2)\n",
    "    data, bins = np.histogram(delta_r2, 30)\n",
    "    \n",
    "    plt.hist(data, bins=10)\n",
    "    plt.show()\n",
    "\n",
    "    return delta_r2"
   ]
  },
  {
   "cell_type": "code",
   "execution_count": null,
   "id": "ffe7974a",
   "metadata": {},
   "outputs": [],
   "source": []
  },
  {
   "cell_type": "code",
   "execution_count": 48,
   "id": "2f795b23",
   "metadata": {},
   "outputs": [
    {
     "name": "stderr",
     "output_type": "stream",
     "text": [
      "100%|██████████████████████████████████████████████████████████████████████████████| 2000/2000 [12:36<00:00,  2.64it/s]"
     ]
    },
    {
     "name": "stdout",
     "output_type": "stream",
     "text": [
      "[ 4.298362    5.0254555   0.08282825 ... 70.79176     0.27311295\n",
      "  1.9161332 ]\n"
     ]
    },
    {
     "name": "stderr",
     "output_type": "stream",
     "text": [
      "\n"
     ]
    },
    {
     "data": {
      "image/png": "[encoded data removed]",
      "text/plain": [
       "<Figure size 640x480 with 1 Axes>"
      ]
     },
     "metadata": {},
     "output_type": "display_data"
    }
   ],
   "source": [
    "delta_r2 = accuracy(\"v\", optimise_phi, 2000, no_sectors=5)"
   ]
  },
  {
   "cell_type": "code",
   "execution_count": 49,
   "id": "8d8bded9",
   "metadata": {},
   "outputs": [
    {
     "name": "stdout",
     "output_type": "stream",
     "text": [
      "233.1807379150395\n"
     ]
    }
   ],
   "source": [
    "print(np.percentile(delta_r2, 68))"
   ]
  },
  {
   "cell_type": "code",
   "execution_count": 60,
   "id": "f9f661fa",
   "metadata": {},
   "outputs": [
    {
     "name": "stdout",
     "output_type": "stream",
     "text": [
      "32.848529052734385\n"
     ]
    }
   ],
   "source": []
  },
  {
   "cell_type": "code",
   "execution_count": null,
   "id": "5afddfb8",
   "metadata": {},
   "outputs": [],
   "source": []
  },
  {
   "cell_type": "code",
   "execution_count": null,
   "id": "f20bb245",
   "metadata": {},
   "outputs": [],
   "source": [
    "'''\n",
    "j = 0\n",
    "x = []\n",
    "x_ln = len(x)\n",
    "x_dummy = x\n",
    "for i in range(x_ln):\n",
    "    j += 1\n",
    "    if condition:\n",
    "        remove value from x_dummy \n",
    "        j -= 1\n",
    "    else:\n",
    "        keep going\n",
    "\n",
    "'''"
   ]
  }
 ],
 "metadata": {
  "kernelspec": {
   "display_name": "Python 3 (ipykernel)",
   "language": "python",
   "name": "python3"
  },
  "language_info": {
   "codemirror_mode": {
    "name": "ipython",
    "version": 3
   },
   "file_extension": ".py",
   "mimetype": "text/x-python",
   "name": "python",
   "nbconvert_exporter": "python",
   "pygments_lexer": "ipython3",
   "version": "3.8.13"
  }
 },
 "nbformat": 4,
 "nbformat_minor": 5
}
