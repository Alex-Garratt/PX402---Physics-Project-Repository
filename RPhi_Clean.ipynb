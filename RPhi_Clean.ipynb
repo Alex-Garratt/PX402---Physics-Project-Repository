{
 "cells": [
  {
   "cell_type": "code",
   "execution_count": 200,
   "metadata": {},
   "outputs": [
    {
     "name": "stdout",
     "output_type": "stream",
     "text": [
      "Running...\n",
      "All data loaded in 242.85930739999458 seconds\n"
     ]
    }
   ],
   "source": [
    "from uproot_io import Events, View\n",
    "import matplotlib.pyplot as plt\n",
    "import numpy as np\n",
    "from tqdm import tqdm\n",
    "import time\n",
    "\n",
    "print(\"Running...\")\n",
    "toc = time.perf_counter()\n",
    "#ALL SETUP\n",
    "\n",
    "thr_std=0.2\n",
    "\n",
    "\n",
    "E = Events(\"CheatedRecoFile_1.root\")\n",
    "\n",
    "\n",
    "view_u = View(E, \"u\")\n",
    "view_v = View(E, \"v\")\n",
    "view_w = View(E, \"w\")\n",
    "\n",
    "\n",
    "u_x = view_u.x\n",
    "u_z = view_u.z\n",
    "u_adc = view_u.adc\n",
    "u_truevtx_z = view_u.true_vtx_z\n",
    "u_truevtx_x = view_u.true_vtx_x\n",
    "\n",
    "\n",
    "v_x = view_v.x\n",
    "v_z = view_v.z\n",
    "v_adc = view_v.adc\n",
    "v_truevtx_z = view_v.true_vtx_z\n",
    "v_truevtx_x = view_v.true_vtx_x\n",
    "\n",
    "w_x = view_w.x\n",
    "w_z = view_w.z\n",
    "w_adc = view_w.adc\n",
    "w_truevtx_z = view_w.true_vtx_z\n",
    "w_truevtx_x = view_w.true_vtx_x\n",
    "\n",
    "tic = time.perf_counter()\n",
    "print(\"All data loaded in\", tic-toc, \"seconds\")"
   ]
  },
  {
   "cell_type": "code",
   "execution_count": 4,
   "metadata": {},
   "outputs": [
    {
     "ename": "NameError",
     "evalue": "name 'thr_std' is not defined",
     "output_type": "error",
     "traceback": [
      "\u001b[1;31m---------------------------------------------------------------------------\u001b[0m",
      "\u001b[1;31mNameError\u001b[0m                                 Traceback (most recent call last)",
      "\u001b[1;32m<ipython-input-4-807683b6f1d0>\u001b[0m in \u001b[0;36m<module>\u001b[1;34m\u001b[0m\n\u001b[1;32m----> 1\u001b[1;33m \u001b[1;32mdef\u001b[0m \u001b[0mAoI\u001b[0m\u001b[1;33m(\u001b[0m\u001b[0mplane\u001b[0m\u001b[1;33m,\u001b[0m \u001b[0mevent_number\u001b[0m\u001b[1;33m,\u001b[0m \u001b[0mthresholding\u001b[0m\u001b[1;33m=\u001b[0m\u001b[1;32mTrue\u001b[0m\u001b[1;33m,\u001b[0m \u001b[0mno_std\u001b[0m\u001b[1;33m=\u001b[0m\u001b[0mthr_std\u001b[0m\u001b[1;33m)\u001b[0m\u001b[1;33m:\u001b[0m\u001b[1;33m\u001b[0m\u001b[1;33m\u001b[0m\u001b[0m\n\u001b[0m\u001b[0;32m      2\u001b[0m     \u001b[1;31m#given plane and event number, extract required information and threshold if required\u001b[0m\u001b[1;33m\u001b[0m\u001b[1;33m\u001b[0m\u001b[1;33m\u001b[0m\u001b[0m\n\u001b[0;32m      3\u001b[0m     \u001b[1;32mif\u001b[0m \u001b[0mplane\u001b[0m\u001b[1;33m==\u001b[0m\u001b[1;34m\"u\"\u001b[0m\u001b[1;33m:\u001b[0m\u001b[1;33m\u001b[0m\u001b[1;33m\u001b[0m\u001b[0m\n\u001b[0;32m      4\u001b[0m         \u001b[0mAoI_x\u001b[0m \u001b[1;33m=\u001b[0m \u001b[0mu_x\u001b[0m\u001b[1;33m[\u001b[0m\u001b[0mevent_number\u001b[0m\u001b[1;33m]\u001b[0m\u001b[1;33m\u001b[0m\u001b[1;33m\u001b[0m\u001b[0m\n\u001b[0;32m      5\u001b[0m         \u001b[0mAoI_z\u001b[0m \u001b[1;33m=\u001b[0m \u001b[0mu_z\u001b[0m\u001b[1;33m[\u001b[0m\u001b[0mevent_number\u001b[0m\u001b[1;33m]\u001b[0m\u001b[1;33m\u001b[0m\u001b[1;33m\u001b[0m\u001b[0m\n",
      "\u001b[1;31mNameError\u001b[0m: name 'thr_std' is not defined"
     ]
    }
   ],
   "source": [
    "def AoI(plane, event_number, thresholding=True, no_std=thr_std):\n",
    "    #given plane and event number, extract required information and threshold if required\n",
    "    if plane==\"u\":\n",
    "        AoI_x = u_x[event_number]\n",
    "        AoI_z = u_z[event_number]\n",
    "        AoI_adc = u_adc[event_number]\n",
    "        AoI_truevtxz = u_truevtx_z\n",
    "        AoI_truevtxx = u_truevtx_x\n",
    "    elif plane==\"v\":\n",
    "        AoI_x = v_x[event_number]\n",
    "        AoI_z = v_z[event_number]\n",
    "        AoI_adc = v_adc[event_number]\n",
    "        AoI_truevtxz = v_truevtx_z\n",
    "        AoI_truevtxx = v_truevtx_x\n",
    "    elif plane==\"w\":\n",
    "        AoI_x = w_x[event_number]\n",
    "        AoI_z = w_z[event_number]\n",
    "        AoI_adc = w_adc[event_number]   \n",
    "        AoI_truevtxz = w_truevtx_z\n",
    "        AoI_truevtxx = w_truevtx_x\n",
    "    else:\n",
    "        print(\"PLane not u,v,w\")\n",
    "        \n",
    "    if thresholding:\n",
    "        mean = np.average(AoI_adc)\n",
    "        std = np.std(AoI_adc)\n",
    "        AoI_x = AoI_x[(mean-no_std*std<AoI_adc)]\n",
    "        AoI_z = AoI_z[(mean-no_std*std<AoI_adc)]\n",
    "        AoI_adc = AoI_adc[(mean-no_std*std<AoI_adc)]\n",
    "    \n",
    "    return AoI_x, AoI_z, AoI_adc, AoI_truevtxz, AoI_truevtxx"
   ]
  },
  {
   "cell_type": "code",
   "execution_count": 5,
   "metadata": {},
   "outputs": [
    {
     "ename": "NameError",
     "evalue": "name 'thr_std' is not defined",
     "output_type": "error",
     "traceback": [
      "\u001b[1;31m---------------------------------------------------------------------------\u001b[0m",
      "\u001b[1;31mNameError\u001b[0m                                 Traceback (most recent call last)",
      "\u001b[1;32m<ipython-input-5-41b47b20a584>\u001b[0m in \u001b[0;36m<module>\u001b[1;34m\u001b[0m\n\u001b[1;32m----> 1\u001b[1;33m \u001b[1;32mdef\u001b[0m \u001b[0mplotter\u001b[0m\u001b[1;33m(\u001b[0m\u001b[0mplane\u001b[0m\u001b[1;33m,\u001b[0m \u001b[0mevent_number\u001b[0m\u001b[1;33m,\u001b[0m \u001b[0mthresholding\u001b[0m\u001b[1;33m=\u001b[0m\u001b[1;32mTrue\u001b[0m\u001b[1;33m,\u001b[0m \u001b[0mno_std\u001b[0m\u001b[1;33m=\u001b[0m\u001b[0mthr_std\u001b[0m\u001b[1;33m)\u001b[0m\u001b[1;33m:\u001b[0m\u001b[1;33m\u001b[0m\u001b[1;33m\u001b[0m\u001b[0m\n\u001b[0m\u001b[0;32m      2\u001b[0m \u001b[1;33m\u001b[0m\u001b[0m\n\u001b[0;32m      3\u001b[0m     \u001b[0mAoI_x\u001b[0m\u001b[1;33m,\u001b[0m \u001b[0mAoI_z\u001b[0m\u001b[1;33m,\u001b[0m \u001b[0mAoI_adc\u001b[0m\u001b[1;33m,\u001b[0m \u001b[0mAoI_truevtxz\u001b[0m\u001b[1;33m,\u001b[0m \u001b[0mAoI_truevtxx\u001b[0m \u001b[1;33m=\u001b[0m \u001b[0mAoI\u001b[0m\u001b[1;33m(\u001b[0m\u001b[0mplane\u001b[0m\u001b[1;33m,\u001b[0m \u001b[0mevent_number\u001b[0m\u001b[1;33m,\u001b[0m \u001b[0mthresholding\u001b[0m\u001b[1;33m,\u001b[0m \u001b[0mno_std\u001b[0m\u001b[1;33m)\u001b[0m\u001b[1;33m\u001b[0m\u001b[1;33m\u001b[0m\u001b[0m\n\u001b[0;32m      4\u001b[0m \u001b[1;33m\u001b[0m\u001b[0m\n\u001b[0;32m      5\u001b[0m     \u001b[0mplt\u001b[0m\u001b[1;33m.\u001b[0m\u001b[0mscatter\u001b[0m\u001b[1;33m(\u001b[0m\u001b[0mAoI_z\u001b[0m\u001b[1;33m,\u001b[0m \u001b[0mAoI_x\u001b[0m\u001b[1;33m,\u001b[0m \u001b[0mc\u001b[0m\u001b[1;33m=\u001b[0m\u001b[0mAoI_adc\u001b[0m\u001b[1;33m,\u001b[0m \u001b[0mcmap\u001b[0m\u001b[1;33m=\u001b[0m\u001b[1;34m\"viridis\"\u001b[0m\u001b[1;33m)\u001b[0m\u001b[1;33m\u001b[0m\u001b[1;33m\u001b[0m\u001b[0m\n",
      "\u001b[1;31mNameError\u001b[0m: name 'thr_std' is not defined"
     ]
    }
   ],
   "source": [
    "def plotter(plane, event_number, thresholding=True, no_std=thr_std):\n",
    "    \n",
    "    AoI_x, AoI_z, AoI_adc, AoI_truevtxz, AoI_truevtxx = AoI(plane, event_number, thresholding, no_std)\n",
    "\n",
    "    plt.scatter(AoI_z, AoI_x, c=AoI_adc, cmap=\"viridis\")\n",
    "    plt.title(str(plane)+\" plane\")\n",
    "    plt.xlabel(\"z\")\n",
    "    plt.ylabel(\"x\")\n",
    "\n",
    "    return 0"
   ]
  },
  {
   "cell_type": "code",
   "execution_count": 259,
   "metadata": {},
   "outputs": [],
   "source": [
    "def pick_xz(plane, event_number, i, thresholding=True, no_std=thr_std):\n",
    "    AoI_x, AoI_z, AoI_adc, AoI_truevtxz, AoI_truevtxx = AoI(plane, event_number, thresholding, no_std)\n",
    "    return AoI_z[i], AoI_x[i]"
   ]
  },
  {
   "cell_type": "code",
   "execution_count": 260,
   "metadata": {},
   "outputs": [],
   "source": [
    "def least_z(plane, event_number, thresholding=True, no_std=thr_std):\n",
    "    \n",
    "    AoI_x, AoI_z, AoI_adc, AoI_truevtxz, AoI_truevtxx = AoI(plane, event_number, thresholding, no_std)\n",
    "    \n",
    "    min_z = np.amin(AoI_z)\n",
    "    ind = np.where(min_z)[0]\n",
    "    min_x = AoI_x[ind]\n",
    "    #print(\"Least z prediction for vertex location: (x-position, z-position, plane)=\", min_x, min_z, plane)\n",
    "    return min_z, min_x"
   ]
  },
  {
   "cell_type": "code",
   "execution_count": 261,
   "metadata": {},
   "outputs": [],
   "source": [
    "def rfunc(r):\n",
    "    return 1/(1+r)"
   ]
  },
  {
   "cell_type": "code",
   "execution_count": 3,
   "metadata": {},
   "outputs": [
    {
     "ename": "NameError",
     "evalue": "name 'rfunc' is not defined",
     "output_type": "error",
     "traceback": [
      "\u001b[1;31m---------------------------------------------------------------------------\u001b[0m",
      "\u001b[1;31mNameError\u001b[0m                                 Traceback (most recent call last)",
      "\u001b[1;32m<ipython-input-3-1a292cc83a0c>\u001b[0m in \u001b[0;36m<module>\u001b[1;34m\u001b[0m\n\u001b[1;32m----> 1\u001b[1;33m \u001b[1;32mdef\u001b[0m \u001b[0mrphi_score\u001b[0m\u001b[1;33m(\u001b[0m\u001b[0mplane\u001b[0m\u001b[1;33m,\u001b[0m \u001b[0mevent_number\u001b[0m\u001b[1;33m,\u001b[0m \u001b[0mcentre_coord\u001b[0m\u001b[1;33m,\u001b[0m \u001b[0mno_sectors\u001b[0m\u001b[1;33m=\u001b[0m\u001b[1;36m100\u001b[0m\u001b[1;33m,\u001b[0m \u001b[0mcentre\u001b[0m\u001b[1;33m=\u001b[0m\u001b[1;36m0\u001b[0m\u001b[1;33m,\u001b[0m \u001b[0mr_dependence\u001b[0m\u001b[1;33m=\u001b[0m\u001b[0mrfunc\u001b[0m\u001b[1;33m,\u001b[0m \u001b[0mthresholding\u001b[0m\u001b[1;33m=\u001b[0m\u001b[1;32mTrue\u001b[0m\u001b[1;33m,\u001b[0m \u001b[0mno_std\u001b[0m\u001b[1;33m=\u001b[0m\u001b[0mthr_std\u001b[0m\u001b[1;33m)\u001b[0m\u001b[1;33m:\u001b[0m\u001b[1;33m\u001b[0m\u001b[1;33m\u001b[0m\u001b[0m\n\u001b[0m\u001b[0;32m      2\u001b[0m     \u001b[0mAoI_x\u001b[0m\u001b[1;33m,\u001b[0m \u001b[0mAoI_z\u001b[0m\u001b[1;33m,\u001b[0m \u001b[0mAoI_adc\u001b[0m\u001b[1;33m,\u001b[0m \u001b[0mAoI_truevtxz\u001b[0m\u001b[1;33m,\u001b[0m \u001b[0mAoI_truevtxx\u001b[0m \u001b[1;33m=\u001b[0m \u001b[0mAoI\u001b[0m\u001b[1;33m(\u001b[0m\u001b[0mplane\u001b[0m\u001b[1;33m,\u001b[0m \u001b[0mevent_number\u001b[0m\u001b[1;33m,\u001b[0m \u001b[0mthresholding\u001b[0m\u001b[1;33m,\u001b[0m \u001b[0mno_std\u001b[0m\u001b[1;33m)\u001b[0m\u001b[1;33m\u001b[0m\u001b[1;33m\u001b[0m\u001b[0m\n\u001b[0;32m      3\u001b[0m \u001b[1;33m\u001b[0m\u001b[0m\n\u001b[0;32m      4\u001b[0m     \u001b[0mcentred_x\u001b[0m \u001b[1;33m=\u001b[0m \u001b[0mAoI_x\u001b[0m \u001b[1;33m-\u001b[0m \u001b[0mcentre_coord\u001b[0m\u001b[1;33m[\u001b[0m\u001b[1;36m1\u001b[0m\u001b[1;33m]\u001b[0m\u001b[1;33m\u001b[0m\u001b[1;33m\u001b[0m\u001b[0m\n\u001b[0;32m      5\u001b[0m     \u001b[0mcentred_z\u001b[0m \u001b[1;33m=\u001b[0m \u001b[0mAoI_z\u001b[0m \u001b[1;33m-\u001b[0m \u001b[0mcentre_coord\u001b[0m\u001b[1;33m[\u001b[0m\u001b[1;36m0\u001b[0m\u001b[1;33m]\u001b[0m\u001b[1;33m\u001b[0m\u001b[1;33m\u001b[0m\u001b[0m\n",
      "\u001b[1;31mNameError\u001b[0m: name 'rfunc' is not defined"
     ]
    }
   ],
   "source": [
    "def rphi_score(plane, event_number, centre_coord, no_sectors=100, centre=0, r_dependence=rfunc, thresholding=True, no_std=thr_std):\n",
    "    AoI_x, AoI_z, AoI_adc, AoI_truevtxz, AoI_truevtxx = AoI(plane, event_number, thresholding, no_std)\n",
    "    \n",
    "    centred_x = AoI_x - centre_coord[1]\n",
    "    centred_z = AoI_z - centre_coord[0]\n",
    "    #centralise co-ordinates on the given point of interest\n",
    "    \n",
    "    centred_r = (centred_x**2 + centred_z**2)**0.5\n",
    "    theta = np.arctan2(centred_x, centred_z)\n",
    "    #convert co-ordinates to polar\n",
    "    \n",
    "    weight = r_dependence(centred_r)\n",
    "    #weighting varies with the polar radius in the manner described by rfunc\n",
    "    \n",
    "    hist_data, hist_bins = np.histogram(theta, bins=no_sectors, range=(-np.pi+centre,np.pi+centre), weights=weight)\n",
    "    #plt.hist(theta, bins=no_sectors, range=(-np.pi+centre,np.pi+centre), weights=weight)\n",
    "    #plt.show()\n",
    "    #plt.bar(hist_data, np.delete(hist_bins,-1),align='edge')\n",
    "    #plt.show()\n",
    "    \n",
    "    \n",
    "    hist_data2 = (hist_data - np.roll(hist_data, int(len(hist_data)/2)))[x>0]\n",
    "\n",
    "    hist_sqr = hist_data**2\n",
    "    score = np.sum(hist_sqr)\n",
    "    norm_score = (score/len(theta)**2)**0.5\n",
    "    \n",
    "    return norm_score"
   ]
  },
  {
   "cell_type": "code",
   "execution_count": 2,
   "metadata": {},
   "outputs": [
    {
     "ename": "NameError",
     "evalue": "name 'rfunc' is not defined",
     "output_type": "error",
     "traceback": [
      "\u001b[1;31m---------------------------------------------------------------------------\u001b[0m",
      "\u001b[1;31mNameError\u001b[0m                                 Traceback (most recent call last)",
      "\u001b[1;32m<ipython-input-2-75f694b73bf8>\u001b[0m in \u001b[0;36m<module>\u001b[1;34m\u001b[0m\n\u001b[1;32m----> 1\u001b[1;33m \u001b[1;32mdef\u001b[0m \u001b[0moptimise_phi\u001b[0m\u001b[1;33m(\u001b[0m\u001b[0mplane\u001b[0m\u001b[1;33m,\u001b[0m \u001b[0mevent_number\u001b[0m\u001b[1;33m,\u001b[0m \u001b[0mno_sectors\u001b[0m\u001b[1;33m=\u001b[0m\u001b[1;36m20\u001b[0m\u001b[1;33m,\u001b[0m \u001b[0mcentre\u001b[0m\u001b[1;33m=\u001b[0m\u001b[1;36m0\u001b[0m\u001b[1;33m,\u001b[0m \u001b[0mr_dependence\u001b[0m\u001b[1;33m=\u001b[0m\u001b[0mrfunc\u001b[0m\u001b[1;33m,\u001b[0m \u001b[0mthresholding\u001b[0m\u001b[1;33m=\u001b[0m\u001b[1;32mTrue\u001b[0m\u001b[1;33m,\u001b[0m \u001b[0mno_std\u001b[0m\u001b[1;33m=\u001b[0m\u001b[0mthr_std\u001b[0m\u001b[1;33m,\u001b[0m \u001b[0mplot\u001b[0m\u001b[1;33m=\u001b[0m\u001b[1;32mFalse\u001b[0m\u001b[1;33m)\u001b[0m\u001b[1;33m:\u001b[0m\u001b[1;33m\u001b[0m\u001b[1;33m\u001b[0m\u001b[0m\n\u001b[0m\u001b[0;32m      2\u001b[0m     \u001b[0mAoI_x\u001b[0m\u001b[1;33m,\u001b[0m \u001b[0mAoI_z\u001b[0m\u001b[1;33m,\u001b[0m \u001b[0mAoI_adc\u001b[0m\u001b[1;33m,\u001b[0m \u001b[0mAoI_truevtxz\u001b[0m\u001b[1;33m,\u001b[0m \u001b[0mAoI_truevtxx\u001b[0m \u001b[1;33m=\u001b[0m \u001b[0mAoI\u001b[0m\u001b[1;33m(\u001b[0m\u001b[0mplane\u001b[0m\u001b[1;33m,\u001b[0m \u001b[0mevent_number\u001b[0m\u001b[1;33m,\u001b[0m \u001b[0mthresholding\u001b[0m\u001b[1;33m,\u001b[0m \u001b[0mno_std\u001b[0m\u001b[1;33m)\u001b[0m\u001b[1;33m\u001b[0m\u001b[1;33m\u001b[0m\u001b[0m\n\u001b[0;32m      3\u001b[0m     \u001b[0mno_points\u001b[0m \u001b[1;33m=\u001b[0m \u001b[0mlen\u001b[0m\u001b[1;33m(\u001b[0m\u001b[0mAoI_x\u001b[0m\u001b[1;33m)\u001b[0m\u001b[1;33m\u001b[0m\u001b[1;33m\u001b[0m\u001b[0m\n\u001b[0;32m      4\u001b[0m     \u001b[0mscore_arr\u001b[0m \u001b[1;33m=\u001b[0m \u001b[0mnp\u001b[0m\u001b[1;33m.\u001b[0m\u001b[0mzeros\u001b[0m\u001b[1;33m(\u001b[0m\u001b[0mno_points\u001b[0m\u001b[1;33m)\u001b[0m\u001b[1;33m\u001b[0m\u001b[1;33m\u001b[0m\u001b[0m\n\u001b[0;32m      5\u001b[0m     \u001b[1;32mfor\u001b[0m \u001b[0mi\u001b[0m \u001b[1;32min\u001b[0m \u001b[0mrange\u001b[0m\u001b[1;33m(\u001b[0m\u001b[0mno_points\u001b[0m\u001b[1;33m)\u001b[0m\u001b[1;33m:\u001b[0m\u001b[1;33m\u001b[0m\u001b[1;33m\u001b[0m\u001b[0m\n",
      "\u001b[1;31mNameError\u001b[0m: name 'rfunc' is not defined"
     ]
    }
   ],
   "source": [
    "def optimise_phi(plane, event_number, no_sectors=20, centre=0, r_dependence=rfunc, thresholding=True, no_std=thr_std, plot=False):\n",
    "    AoI_x, AoI_z, AoI_adc, AoI_truevtxz, AoI_truevtxx = AoI(plane, event_number, thresholding, no_std)\n",
    "    no_points = len(AoI_x)\n",
    "    score_arr = np.zeros(no_points)\n",
    "    for i in range(no_points):\n",
    "        centre_co = pick_xz(plane, event_number, i, thresholding, no_std)\n",
    "        score_arr[i] = rphi_score(plane, event_number, centre_coord=centre_co, no_sectors=no_sectors, centre=0, r_dependence=r_dependence)\n",
    "    \n",
    "    ind = np.argmax(score_arr)\n",
    "    zmin, xmin = AoI_z[ind], AoI_x[ind]\n",
    "    if plot:\n",
    "        plotter(plane, event_number, thresholding, no_std)\n",
    "        plt.plot(zmin, xmin, 'ro')\n",
    "        plt.show()\n",
    "    return zmin, xmin, score_arr[ind]"
   ]
  },
  {
   "cell_type": "code",
   "execution_count": 296,
   "metadata": {},
   "outputs": [],
   "source": [
    "pl=\"u\"\n",
    "ev=0"
   ]
  },
  {
   "cell_type": "code",
   "execution_count": 297,
   "metadata": {},
   "outputs": [],
   "source": [
    "z, x, score = optimise_phi(pl, ev)"
   ]
  },
  {
   "cell_type": "code",
   "execution_count": 298,
   "metadata": {},
   "outputs": [
    {
     "data": {
      "image/png": "[encoded data removed]",
      "text/plain": [
       "<Figure size 432x288 with 1 Axes>"
      ]
     },
     "metadata": {
      "needs_background": "light"
     },
     "output_type": "display_data"
    },
    {
     "name": "stdout",
     "output_type": "stream",
     "text": [
      "0.03104182180391628\n"
     ]
    }
   ],
   "source": [
    "plotter(pl, ev)\n",
    "plt.plot(z,x,'ro')\n",
    "plt.show()\n",
    "print(score)"
   ]
  },
  {
   "cell_type": "code",
   "execution_count": 267,
   "metadata": {},
   "outputs": [],
   "source": [
    "def accuracy(plane, function, no_events, thresholding=True, no_std=thr_std):\n",
    "    Zvert = []\n",
    "    Zvert_true = []\n",
    "    Xvert = []\n",
    "    Xvert_true = []\n",
    "    \n",
    "    for i in tqdm(range(no_events)):\n",
    "        AoI_x, AoI_z, AoI_adc, Zvert_true_place, Xvert_true_place = AoI(plane, i, thresholding, no_std)\n",
    "        Zvert_place, Xvert_place = function(plane, i)[0], function(plane, i)[1]\n",
    "        Zvert.append(Zvert_place)\n",
    "        Xvert.append(Xvert_place)\n",
    "        Zvert_true.append(Zvert_true_place)\n",
    "        Xvert_true.append(Xvert_true_place)\n",
    "    \n",
    "    \n",
    "    delta_z = np.array(Zvert_true) - np.array(Zvert)\n",
    "    delta_x = np.array(Xvert_true) - np.array(Xvert)\n",
    "    delta_r2 = delta_z**2 + delta_x**2\n",
    "    \n",
    "    print(delta_r2)\n",
    "    data, bins = np.histogram(delta_r2, 30)\n",
    "    \n",
    "    plt.hist(data, bins=10)\n",
    "    plt.show()\n",
    "\n",
    "    return 0"
   ]
  },
  {
   "cell_type": "code",
   "execution_count": 1,
   "metadata": {},
   "outputs": [
    {
     "ename": "SyntaxError",
     "evalue": "non-default argument follows default argument (<ipython-input-1-a2716e91ca9c>, line 4)",
     "output_type": "error",
     "traceback": [
      "\u001b[1;36m  File \u001b[1;32m\"<ipython-input-1-a2716e91ca9c>\"\u001b[1;36m, line \u001b[1;32m4\u001b[0m\n\u001b[1;33m    def func_thread(plane, function, no_events, thresholding=True, no_std=thr_std, out):\u001b[0m\n\u001b[1;37m                    ^\u001b[0m\n\u001b[1;31mSyntaxError\u001b[0m\u001b[1;31m:\u001b[0m non-default argument follows default argument\n"
     ]
    }
   ],
   "source": [
    "import threading\n",
    "n_events = 9310\n",
    "\n",
    "def func_thread(plane, function, no_events, out):\n",
    "    out.append(accuracy(plane, function, no_events, thresholding, no_std))\n",
    "x_ls =list(range(n_events))\n",
    "thread_list = []\n",
    "results = []\n",
    "for x in x_ls:\n",
    " thread = threading.Thread(target=func_thread, args=(x, results))\n",
    " thread_list.append(thread)\n",
    "for thread in thread_list:\n",
    " thread.start()\n",
    "for thread in thread_list:\n",
    " thread.join()"
   ]
  },
  {
   "cell_type": "code",
   "execution_count": 269,
   "metadata": {},
   "outputs": [],
   "source": [
    "#accuracy(pl, optimise_phi, n_events)"
   ]
  },
  {
   "cell_type": "code",
   "execution_count": null,
   "metadata": {},
   "outputs": [],
   "source": []
  }
 ],
 "metadata": {
  "kernelspec": {
   "display_name": "Python 3",
   "language": "python",
   "name": "python3"
  },
  "language_info": {
   "codemirror_mode": {
    "name": "ipython",
    "version": 3
   },
   "file_extension": ".py",
   "mimetype": "text/x-python",
   "name": "python",
   "nbconvert_exporter": "python",
   "pygments_lexer": "ipython3",
   "version": "3.8.5"
  }
 },
 "nbformat": 4,
 "nbformat_minor": 4
}
